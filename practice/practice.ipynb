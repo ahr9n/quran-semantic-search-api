{
 "cells": [
  {
   "cell_type": "code",
   "execution_count": 12,
   "metadata": {},
   "outputs": [],
   "source": [
    "from gensim.models import KeyedVectors\n",
    "\n",
    "# Download ksucca_full_cbow vectors: https://drive.google.com/u/0/uc?id=1rZiOKy71Z_WycxnOG9bwrNoAc4ziGo_n\n",
    "# Then, load the vectors directly from the file.\n",
    "\n",
    "# NOTE: You can use only 1m out of vectors loaded to speed up the model performance\n",
    "model = KeyedVectors.load_word2vec_format(\n",
    "    '~/quran-semantic-search-api/data/ksucca_full_cbow.bin', binary=True, limit=1000000)\n",
    "\n",
    "\n",
    "# Pickle the model\n",
    "model.save(\"../models/model.pkl\")"
   ]
  },
  {
   "cell_type": "code",
   "execution_count": 13,
   "metadata": {},
   "outputs": [
    {
     "data": {
      "text/plain": [
       "(300,)"
      ]
     },
     "execution_count": 13,
     "metadata": {},
     "output_type": "execute_result"
    }
   ],
   "source": [
    "# Access vectors for specific words with a keyed lookup:\n",
    "vector = model['حميد']\n",
    "\n",
    "# see the shape of the vector (300,)\n",
    "vector.shape"
   ]
  },
  {
   "cell_type": "code",
   "execution_count": 15,
   "metadata": {},
   "outputs": [
    {
     "data": {
      "text/plain": [
       "0.17093751"
      ]
     },
     "execution_count": 15,
     "metadata": {},
     "output_type": "execute_result"
    }
   ],
   "source": [
    "model.similarity('شجاعة', 'خوف')"
   ]
  },
  {
   "cell_type": "code",
   "execution_count": 16,
   "metadata": {},
   "outputs": [
    {
     "data": {
      "text/plain": [
       "[('جائرة.', 0.7013014554977417),\n",
       " ('ضيزى»', 0.638590395450592),\n",
       " ('خاسرة', 0.5436197519302368),\n",
       " ('جائرة', 0.5415328145027161),\n",
       " ('قسمة', 0.527427077293396),\n",
       " ('«ألكم', 0.4947861433029175),\n",
       " ('ضيزى،', 0.46748870611190796),\n",
       " ('عوجاء.', 0.46708834171295166),\n",
       " ('العلى،', 0.4437080919742584),\n",
       " ('«والليل', 0.4276253581047058)]"
      ]
     },
     "execution_count": 16,
     "metadata": {},
     "output_type": "execute_result"
    }
   ],
   "source": [
    "model.most_similar('ضيزى')"
   ]
  },
  {
   "cell_type": "code",
   "execution_count": 21,
   "metadata": {},
   "outputs": [
    {
     "data": {
      "text/plain": [
       "[('أعجمية', 0.5713305473327637),\n",
       " ('معربة.', 0.4888487160205841),\n",
       " ('فصيحة', 0.48866575956344604),\n",
       " ('سريانية.', 0.4794731140136719),\n",
       " ('معربة', 0.4788493812084198),\n",
       " ('لازمة.', 0.47607848048210144),\n",
       " ('تصغيرها', 0.47408556938171387),\n",
       " ('معروفة،', 0.4668642580509186),\n",
       " ('نادرة', 0.46038591861724854),\n",
       " ('هجنت', 0.4470795691013336)]"
      ]
     },
     "execution_count": 21,
     "metadata": {},
     "output_type": "execute_result"
    }
   ],
   "source": [
    "model.most_similar(positive=['عربية', 'مرأة'], negative=['رجل'])"
   ]
  },
  {
   "cell_type": "markdown",
   "metadata": {},
   "source": [
    "#### Pickle the model to use .pkl files in API"
   ]
  },
  {
   "cell_type": "code",
   "execution_count": 107,
   "metadata": {},
   "outputs": [],
   "source": [
    "model.save(\"../models/model.pkl\") # Stores *.pkl file"
   ]
  },
  {
   "cell_type": "code",
   "execution_count": 108,
   "metadata": {},
   "outputs": [],
   "source": [
    "model = KeyedVectors.load(\"../models/model.pkl\")\n",
    "\n",
    "# or download aravec_3_twitter vectors: https://archive.org/download/full_grams_cbow_300_twitter\n",
    "# and load the AraVec model directly after unziping \n",
    "# model = Word2Vec.load('models/full_grams_cbow_100_twitter.mdl')"
   ]
  },
  {
   "cell_type": "markdown",
   "metadata": {},
   "source": [
    "#### Use python `request` modules to extract data"
   ]
  },
  {
   "cell_type": "code",
   "execution_count": 30,
   "metadata": {},
   "outputs": [
    {
     "name": "stdout",
     "output_type": "stream",
     "text": [
      "<Response [200]> {\n",
      "  \"results\": [\n",
      "    [\n",
      "      \"نار\", \n",
      "      0.6224889755249023\n",
      "    ], \n",
      "    [\n",
      "      \"بشعله\", \n",
      "      0.5385594964027405\n",
      "    ], \n",
      "    [\n",
      "      \"جمر\", \n",
      "      0.5346778631210327\n",
      "    ], \n",
      "    [\n",
      "      \"نار\", \n",
      "      0.5274872779846191\n",
      "    ], \n",
      "    [\n",
      "      \"جهنم\", \n",
      "      0.518902599811554\n",
      "    ], \n",
      "    [\n",
      "      \"النار\", \n",
      "      0.5084757804870605\n",
      "    ], \n",
      "    [\n",
      "      \"شعله\", \n",
      "      0.5068792700767517\n",
      "    ], \n",
      "    [\n",
      "      \"توقد\", \n",
      "      0.5067633390426636\n",
      "    ], \n",
      "    [\n",
      "      \"لهبها\", \n",
      "      0.5035787224769592\n",
      "    ], \n",
      "    [\n",
      "      \"ناره\", \n",
      "      0.5022990703582764\n",
      "    ]\n",
      "  ]\n",
      "}\n",
      "\n"
     ]
    }
   ],
   "source": [
    "import requests\n",
    "\n",
    "url = 'http://0.0.0.0:5000/similar-word/نار'\n",
    "\n",
    "r = requests.get(url)\n",
    "print(r, r.text)"
   ]
  },
  {
   "cell_type": "code",
   "execution_count": 31,
   "metadata": {},
   "outputs": [
    {
     "name": "stdout",
     "output_type": "stream",
     "text": [
      "<Response [200]> {\n",
      "  \"results\": [\n",
      "    \"هو الذي جعلكم خلائف في الأرض فمن كفر فعليه كفره ولا يزيد الكافرين كفرهم عند ربهم إلا مقتا ولا يزيد الكافرين كفرهم إلا خسارا\", \n",
      "    \"وامرأته قائمة فضحكت فبشرناها بإسحاق ومن وراء إسحاق يعقوب\", \n",
      "    \"ثم لا يموت فيها ولا يحيى\", \n",
      "    \"وما نقموا منهم إلا أن يؤمنوا بالله العزيز الحميد\", \n",
      "    \"إن الأبرار لفي نعيم\", \n",
      "    \"إن الأبرار لفي نعيم\", \n",
      "    \"أيطمع كل امرئ منهم أن يدخل جنة نعيم\", \n",
      "    \"ذلك بأنه كانت تأتيهم رسلهم بالبينات فقالوا أبشر يهدوننا فكفروا وتولوا واستغنى الله والله غني حميد\", \n",
      "    \"لقد كان لكم فيهم أسوة حسنة لمن كان يرجو الله واليوم الآخر ومن يتول فإن الله هو الغني الحميد\", \n",
      "    \"الذين يبخلون ويأمرون الناس بالبخل ومن يتول فإن الله هو الغني الحميد\"\n",
      "  ]\n",
      "}\n",
      "\n"
     ]
    }
   ],
   "source": [
    "import requests\n",
    "\n",
    "url = 'http://0.0.0.0:5000/similar-verse/حميد'\n",
    "\n",
    "r = requests.get(url)\n",
    "print(r, r.text)"
   ]
  }
 ],
 "metadata": {
  "interpreter": {
   "hash": "916dbcbb3f70747c44a77c7bcd40155683ae19c65e1c03b4aa3499c5328201f1"
  },
  "kernelspec": {
   "display_name": "Python 3.8.10 64-bit",
   "language": "python",
   "name": "python3"
  },
  "language_info": {
   "codemirror_mode": {
    "name": "ipython",
    "version": 3
   },
   "file_extension": ".py",
   "mimetype": "text/x-python",
   "name": "python",
   "nbconvert_exporter": "python",
   "pygments_lexer": "ipython3",
   "version": "3.8.10"
  }
 },
 "nbformat": 4,
 "nbformat_minor": 2
}
