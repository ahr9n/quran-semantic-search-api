{
  "cells": [
    {
      "cell_type": "code",
      "execution_count": null,
      "metadata": {
        "colab": {
          "base_uri": "https://localhost:8080/"
        },
        "id": "v5tUiAdN2250",
        "outputId": "690322c3-dfea-4b7e-ec59-a60e75106e2b"
      },
      "outputs": [
        {
          "name": "stdout",
          "output_type": "stream",
          "text": [
            "Looking in indexes: https://pypi.org/simple, https://us-python.pkg.dev/colab-wheels/public/simple/\n",
            "Requirement already satisfied: gensim in /usr/local/lib/python3.7/dist-packages (3.6.0)\n",
            "Collecting pyarabic\n",
            "  Downloading PyArabic-0.6.15-py3-none-any.whl (126 kB)\n",
            "\u001b[K     |████████████████████████████████| 126 kB 5.1 MB/s \n",
            "\u001b[?25hRequirement already satisfied: gdown in /usr/local/lib/python3.7/dist-packages (4.4.0)\n",
            "Requirement already satisfied: kaggle in /usr/local/lib/python3.7/dist-packages (1.5.12)\n",
            "Requirement already satisfied: smart-open>=1.2.1 in /usr/local/lib/python3.7/dist-packages (from gensim) (5.2.1)\n",
            "Requirement already satisfied: numpy>=1.11.3 in /usr/local/lib/python3.7/dist-packages (from gensim) (1.21.6)\n",
            "Requirement already satisfied: six>=1.5.0 in /usr/local/lib/python3.7/dist-packages (from gensim) (1.15.0)\n",
            "Requirement already satisfied: scipy>=0.18.1 in /usr/local/lib/python3.7/dist-packages (from gensim) (1.7.3)\n",
            "Requirement already satisfied: tqdm in /usr/local/lib/python3.7/dist-packages (from gdown) (4.64.0)\n",
            "Requirement already satisfied: requests[socks] in /usr/local/lib/python3.7/dist-packages (from gdown) (2.23.0)\n",
            "Requirement already satisfied: filelock in /usr/local/lib/python3.7/dist-packages (from gdown) (3.7.1)\n",
            "Requirement already satisfied: beautifulsoup4 in /usr/local/lib/python3.7/dist-packages (from gdown) (4.6.3)\n",
            "Requirement already satisfied: python-dateutil in /usr/local/lib/python3.7/dist-packages (from kaggle) (2.8.2)\n",
            "Requirement already satisfied: urllib3 in /usr/local/lib/python3.7/dist-packages (from kaggle) (1.24.3)\n",
            "Requirement already satisfied: certifi in /usr/local/lib/python3.7/dist-packages (from kaggle) (2022.6.15)\n",
            "Requirement already satisfied: python-slugify in /usr/local/lib/python3.7/dist-packages (from kaggle) (6.1.2)\n",
            "Requirement already satisfied: text-unidecode>=1.3 in /usr/local/lib/python3.7/dist-packages (from python-slugify->kaggle) (1.3)\n",
            "Requirement already satisfied: chardet<4,>=3.0.2 in /usr/local/lib/python3.7/dist-packages (from requests[socks]->gdown) (3.0.4)\n",
            "Requirement already satisfied: idna<3,>=2.5 in /usr/local/lib/python3.7/dist-packages (from requests[socks]->gdown) (2.10)\n",
            "Requirement already satisfied: PySocks!=1.5.7,>=1.5.6 in /usr/local/lib/python3.7/dist-packages (from requests[socks]->gdown) (1.7.1)\n",
            "Installing collected packages: pyarabic\n",
            "Successfully installed pyarabic-0.6.15\n"
          ]
        }
      ],
      "source": [
        "!pip install gensim pyarabic gdown kaggle"
      ]
    },
    {
      "cell_type": "markdown",
      "metadata": {
        "id": "tq8pd6AoxkhH"
      },
      "source": [
        "# Preprocessing"
      ]
    },
    {
      "cell_type": "code",
      "execution_count": null,
      "metadata": {
        "id": "utwFWKK2PGMJ"
      },
      "outputs": [],
      "source": [
        "# use pyarabic module for cleaning Arabic Words\n",
        "from pyarabic.araby import strip_tashkeel, strip_diacritics, strip_tatweel, tokenize\n",
        "from string import punctuation\n",
        "\n",
        "def clean(text, model_name):\n",
        "  '''\n",
        "  Get the clean word from the given word, according to the following rules.\n",
        "  1. Remove tashkeel/diacritics/punctuation/tatweel\n",
        "  \n",
        "  @param text: the text to clean\n",
        "  @type text: str\n",
        "  @return: the clean text\n",
        "  @rtype: list\n",
        "  '''\n",
        "\n",
        "  arabic_punctuations = '''`÷×؛<>_()*&^%][ـ،/:\"؟.,'{}~¦+|!”…“–ـ'''\n",
        "  english_punctuations = punctuation\n",
        "  punctuations_list = (arabic_punctuations + english_punctuations).replace('_', '')\n",
        "  \n",
        "  text = strip_tashkeel(text)\n",
        "  text = strip_diacritics(text)\n",
        "  text = strip_tatweel(text)\n",
        "\n",
        "  if model_name in ['TWITTER', 'WIKI']:\n",
        "    # skip under_score\n",
        "    search  = \\\n",
        "    [\"أ\", \"إ\", \"آ\", \"ة\", \" \", \"-\", \"/\", \".\", \"،\", \" و \", \" يا \", '\"', \"'\", \"ى\", \"\\\\\", '\\n' , '\\t' , '&quot;',  '?',   '؟',   '!', '»', '«']\n",
        "    replace = \\\n",
        "    [\"ا\", \"ا\", \"ا\", \"ه\", \" \", \" \",  \"\",  \"\",  \"\",  \" و\",  \" يا\",  \"\",  \"\", \"ي\",   \"\",       ' ',  ' ',  ' ', ' ? ', ' ؟ ', ' ! ',  '', '' ]\n",
        "    text = text.replace('وو', 'و')\n",
        "    text = text.replace('يي', 'ي')\n",
        "    text = text.replace('اا', 'ا')\n",
        "    for i in range(0, len(search)):\n",
        "      text = text.replace(search[i], replace[i])     \n",
        "  \n",
        "  if model_name != 'TWITTER':\n",
        "    text = text.replace('_', '')  \n",
        "  \n",
        "  # clean punctuations\n",
        "  for i in text:\n",
        "    if(i in punctuations_list):\n",
        "      text = text.replace(i,'')\n",
        "  \n",
        "  # tokenize\n",
        "  text = tokenize(text)\n",
        "  return text"
      ]
    },
    {
      "cell_type": "code",
      "execution_count": null,
      "metadata": {
        "colab": {
          "base_uri": "https://localhost:8080/"
        },
        "id": "qN6AAMMq8v94",
        "outputId": "5c7104bb-9d6e-4271-e286-d5102c4d6ee1"
      },
      "outputs": [
        {
          "name": "stdout",
          "output_type": "stream",
          "text": [
            "['بسم']\n",
            "['بسم']\n",
            "['بسم', 'الله', 'الرحمن', 'الرحيم']\n",
            "['بسم', 'الله', 'الرحمن', 'الرحيم', 'الحمد', 'لله', 'رب', 'العالمين', 'الرحمن', 'الرحيم', 'مالك', 'يوم', 'الدين', 'اياك', 'نعبد', 'واياك', 'نستعين']\n",
            "['بسم', 'الله', 'الرحمن', 'الرحيم', 'الحمد', 'لله', 'رب', 'العالمين', 'الرحمن', 'الرحيم', 'مالك', 'يوم', 'الدين', 'إياك', 'نعبد', 'وإياك', 'نستعين']\n"
          ]
        }
      ],
      "source": [
        "a = clean('{><*&%][بسم  -  ', 'TWITTER')\n",
        "b = clean('{><*&%][بسم  -  ', 'FASTTEXT')\n",
        "c = clean('[بسم الله - الرحمن * الرحيم]', 'WIKI')\n",
        "d = clean(\"بِسمِ اللَّهِ الرَّحمـٰنِ الرَّحيمِ الحَمدُ لِلَّهِ رَبِّ العالَمينَ الرَّحمـٰنِ الرَّحيمِ مالِكِ يَومِ الدّينِ إِيّاكَ نَعبُدُ وَإِيّاكَ نَستَعينُ\", 'TWITTER')\n",
        "e = clean(\"بِسمِ اللَّهِ الرَّحمـٰنِ الرَّحيمِ الحَمدُ لِلَّهِ رَبِّ العالَمينَ الرَّحمـٰنِ الرَّحيمِ مالِكِ يَومِ الدّينِ إِيّاكَ نَعبُدُ وَإِيّاكَ نَستَعينُ \", 'KSUCCA')\n",
        "for item in [a, b, c, d, e]:\n",
        "  print(item)"
      ]
    },
    {
      "cell_type": "code",
      "execution_count": null,
      "metadata": {
        "colab": {
          "base_uri": "https://localhost:8080/"
        },
        "id": "LmK58iOHLmxw",
        "outputId": "22a54399-5457-451d-9373-fe674a7dd965"
      },
      "outputs": [
        {
          "data": {
            "text/plain": [
              "[['بر_الوالدين'], ['برالوالدين'], ['برالوالدين'], ['برالوالدين']]"
            ]
          },
          "execution_count": 4,
          "metadata": {},
          "output_type": "execute_result"
        }
      ],
      "source": [
        "a = clean('بر_الوالدين', 'TWITTER')\n",
        "b = clean('بر_الوالدين', 'WIKI')\n",
        "c = clean('بر_الوالدين', 'KSUCCA')\n",
        "d = clean('بر_الوالدين', 'FASTTEXT')\n",
        "[a, b, c, d]"
      ]
    },
    {
      "cell_type": "markdown",
      "metadata": {
        "id": "6aO6ZEk9xGTr"
      },
      "source": [
        "# Word Embedding"
      ]
    },
    {
      "cell_type": "markdown",
      "metadata": {
        "id": "Hq_bYSVDkWzj"
      },
      "source": [
        "## Download Models"
      ]
    },
    {
      "cell_type": "markdown",
      "metadata": {
        "id": "OhBSTbJ0xupd"
      },
      "source": [
        "### AraVec cbow_300_wiki\n"
      ]
    },
    {
      "cell_type": "code",
      "execution_count": null,
      "metadata": {
        "colab": {
          "base_uri": "https://localhost:8080/"
        },
        "id": "1LKfSV5w3h2_",
        "outputId": "df484f0e-5344-4bef-a3c7-ebb10b95fd27"
      },
      "outputs": [
        {
          "name": "stdout",
          "output_type": "stream",
          "text": [
            "--2022-07-28 15:43:06--  https://bakrianoo.ewr1.vultrobjects.com/aravec/full_grams_cbow_300_wiki.zip\n",
            "Resolving bakrianoo.ewr1.vultrobjects.com (bakrianoo.ewr1.vultrobjects.com)... 108.61.0.122, 2001:19f0:0:22::100\n",
            "Connecting to bakrianoo.ewr1.vultrobjects.com (bakrianoo.ewr1.vultrobjects.com)|108.61.0.122|:443... connected.\n",
            "HTTP request sent, awaiting response... 200 OK\n",
            "Length: 1491895880 (1.4G) [application/zip]\n",
            "Saving to: ‘full_grams_cbow_300_wiki.zip’\n",
            "\n",
            "full_grams_cbow_300 100%[===================>]   1.39G   121MB/s    in 11s     \n",
            "\n",
            "2022-07-28 15:43:17 (126 MB/s) - ‘full_grams_cbow_300_wiki.zip’ saved [1491895880/1491895880]\n",
            "\n",
            "Archive:  full_grams_cbow_300_wiki.zip\n",
            "  inflating: full_grams_cbow_300_wiki.mdl  \n",
            "  inflating: full_grams_cbow_300_wiki.mdl.trainables.syn1neg.npy  \n",
            "  inflating: full_grams_cbow_300_wiki.mdl.wv.vectors.npy  \n"
          ]
        }
      ],
      "source": [
        "# Download the pretrained model (AraVec cbow_300_wiki) via terminal commands\n",
        "!wget \"https://bakrianoo.ewr1.vultrobjects.com/aravec/full_grams_cbow_300_wiki.zip\" \n",
        "!unzip \"full_grams_cbow_300_wiki.zip\""
      ]
    },
    {
      "cell_type": "markdown",
      "metadata": {
        "id": "yBkgKkZ4xzgj"
      },
      "source": [
        "### AraVec cbow_300_twitter"
      ]
    },
    {
      "cell_type": "code",
      "execution_count": null,
      "metadata": {
        "colab": {
          "base_uri": "https://localhost:8080/"
        },
        "id": "4fgFAzy2sSFT",
        "outputId": "4635dac3-e91a-4e18-b8bf-b27c8f2ddffa"
      },
      "outputs": [
        {
          "name": "stdout",
          "output_type": "stream",
          "text": [
            "--2022-07-28 15:43:37--  https://bakrianoo.ewr1.vultrobjects.com/aravec/full_grams_cbow_300_twitter.zip\n",
            "Resolving bakrianoo.ewr1.vultrobjects.com (bakrianoo.ewr1.vultrobjects.com)... 108.61.0.122, 2001:19f0:0:22::100\n",
            "Connecting to bakrianoo.ewr1.vultrobjects.com (bakrianoo.ewr1.vultrobjects.com)|108.61.0.122|:443... connected.\n",
            "HTTP request sent, awaiting response... 200 OK\n",
            "Length: 3325529808 (3.1G) [application/zip]\n",
            "Saving to: ‘full_grams_cbow_300_twitter.zip’\n",
            "\n",
            "full_grams_cbow_300 100%[===================>]   3.10G   126MB/s    in 26s     \n",
            "\n",
            "2022-07-28 15:44:03 (122 MB/s) - ‘full_grams_cbow_300_twitter.zip’ saved [3325529808/3325529808]\n",
            "\n",
            "Archive:  full_grams_cbow_300_twitter.zip\n",
            "  inflating: full_grams_cbow_300_twitter.mdl  \n",
            "  inflating: full_grams_cbow_300_twitter.mdl.trainables.syn1neg.npy  \n",
            "  inflating: full_grams_cbow_300_twitter.mdl.wv.vectors.npy  \n"
          ]
        }
      ],
      "source": [
        "# Download the pretrained model (AraVec cbow_300_twitter) via terminal commands\n",
        "!wget \"https://bakrianoo.ewr1.vultrobjects.com/aravec/full_grams_cbow_300_twitter.zip\" \n",
        "!unzip \"full_grams_cbow_300_twitter.zip\""
      ]
    },
    {
      "cell_type": "markdown",
      "metadata": {
        "id": "eOdIYK59QC54"
      },
      "source": [
        "### KSUCCA full_cbow"
      ]
    },
    {
      "cell_type": "code",
      "execution_count": 30,
      "metadata": {
        "colab": {
          "base_uri": "https://localhost:8080/"
        },
        "id": "BNI2uBB5QwbJ",
        "outputId": "e4718c46-ae38-440d-c841-b07f60e2f6ca"
      },
      "outputs": [
        {
          "name": "stdout",
          "output_type": "stream",
          "text": [
            "Downloading...\n",
            "From: https://drive.google.com/uc?id=1rZiOKy71Z_WycxnOG9bwrNoAc4ziGo_n\n",
            "To: /content/ksucca_full_cbow.bin\n",
            "100% 453M/453M [00:05<00:00, 76.0MB/s]\n"
          ]
        }
      ],
      "source": [
        "# Download the pretrained model (KSUCCA full_cbow) via terminal commands\n",
        "!gdown https://drive.google.com/uc?id=1rZiOKy71Z_WycxnOG9bwrNoAc4ziGo_n"
      ]
    },
    {
      "cell_type": "markdown",
      "metadata": {
        "id": "86LdfuIrvi4X"
      },
      "source": [
        "### FastText Arabic CBOW-300"
      ]
    },
    {
      "cell_type": "code",
      "execution_count": null,
      "metadata": {
        "colab": {
          "base_uri": "https://localhost:8080/"
        },
        "id": "L9rbi-zsvrdd",
        "outputId": "cffcffac-ae29-4c23-83da-ab48873f46eb"
      },
      "outputs": [
        {
          "name": "stdout",
          "output_type": "stream",
          "text": [
            "Downloading...\n",
            "From: https://drive.google.com/uc?id=1MHtDd5gRvqWGQvmX76wcjvmjaN_gHjst\n",
            "To: /content/kaggle.json\n",
            "100% 69.0/69.0 [00:00<00:00, 67.6kB/s]\n",
            "Downloading fasttext-pretrained-arabic-word-vectors.zip to /content\n",
            " 99% 1.19G/1.20G [00:08<00:00, 131MB/s]\n",
            "100% 1.20G/1.20G [00:08<00:00, 153MB/s]\n",
            "Archive:  fasttext-pretrained-arabic-word-vectors.zip\n",
            "  inflating: cc.ar.300.vec           \n"
          ]
        }
      ],
      "source": [
        "# Download the pretrained model (FastText Arabic version - CBOW300) via terminal commands\n",
        "!gdown https://drive.google.com/uc?id=1MHtDd5gRvqWGQvmX76wcjvmjaN_gHjst\n",
        "!mkdir ~/.kaggle\n",
        "!cp kaggle.json ~/.kaggle/\n",
        "!chmod 600 ~/.kaggle/kaggle.json\n",
        "\n",
        "!kaggle datasets download -d javadhelali/fasttext-pretrained-arabic-word-vectors\n",
        "!unzip fasttext-pretrained-arabic-word-vectors.zip"
      ]
    },
    {
      "cell_type": "markdown",
      "metadata": {
        "id": "QlDyTOeUx2S5"
      },
      "source": [
        "## Load the pre-trained word2vec models"
      ]
    },
    {
      "cell_type": "code",
      "execution_count": null,
      "metadata": {
        "id": "glGAakRY-VLD"
      },
      "outputs": [],
      "source": [
        "from gensim.models import Word2Vec, KeyedVectors"
      ]
    },
    {
      "cell_type": "code",
      "execution_count": null,
      "metadata": {
        "colab": {
          "base_uri": "https://localhost:8080/"
        },
        "id": "wy_ahCnR32hP",
        "outputId": "b9ac5613-3feb-4a5e-e983-201b9bcb51db"
      },
      "outputs": [
        {
          "name": "stdout",
          "output_type": "stream",
          "text": [
            "We've 662109 vocabularies\n"
          ]
        }
      ],
      "source": [
        "# load the wiki model\n",
        "model_wiki = Word2Vec.load(\"full_grams_cbow_300_wiki.mdl\").wv\n",
        "print(\"We've\", len(model_wiki.index2word), \"vocabularies\")"
      ]
    },
    {
      "cell_type": "code",
      "execution_count": null,
      "metadata": {
        "colab": {
          "base_uri": "https://localhost:8080/"
        },
        "id": "AubKEtrRsrfQ",
        "outputId": "4054c36c-db4c-473c-df79-428b4a82f9a3"
      },
      "outputs": [
        {
          "name": "stdout",
          "output_type": "stream",
          "text": [
            "We've 1476715 vocabularies\n"
          ]
        }
      ],
      "source": [
        "# load the tweets model\n",
        "model_tw = Word2Vec.load(\"full_grams_cbow_300_twitter.mdl\").wv\n",
        "print(\"We've\", len(model_tw.index2word), \"vocabularies\")"
      ]
    },
    {
      "cell_type": "code",
      "execution_count": null,
      "metadata": {
        "colab": {
          "base_uri": "https://localhost:8080/"
        },
        "id": "mrcp1SWMSJJH",
        "outputId": "29560898-49ae-4343-fe99-5f31cf4e4849"
      },
      "outputs": [
        {
          "name": "stdout",
          "output_type": "stream",
          "text": [
            "We've 373108 vocabularies\n"
          ]
        }
      ],
      "source": [
        "# load the ksucca model\n",
        "model_ksucca = KeyedVectors.load_word2vec_format('ksucca_full_cbow.bin', binary=True)\n",
        "print(\"We've\", len(model_ksucca.index2word), \"vocabularies\")"
      ]
    },
    {
      "cell_type": "code",
      "execution_count": null,
      "metadata": {
        "colab": {
          "base_uri": "https://localhost:8080/"
        },
        "id": "x1waip-jypF4",
        "outputId": "08ec086c-6bf5-4290-c115-97172134299b"
      },
      "outputs": [
        {
          "name": "stdout",
          "output_type": "stream",
          "text": [
            "We've 2000000 vocabularies\n"
          ]
        }
      ],
      "source": [
        "# load the facebook model\n",
        "model_fasttext = KeyedVectors.load_word2vec_format(\"cc.ar.300.vec\")\n",
        "print(\"We've\", len(model_fasttext.index2word), \"vocabularies\")"
      ]
    },
    {
      "cell_type": "markdown",
      "metadata": {
        "id": "HuKHgn7jf7iN"
      },
      "source": [
        "### Testing Word Vectors"
      ]
    },
    {
      "cell_type": "code",
      "execution_count": null,
      "metadata": {
        "colab": {
          "base_uri": "https://localhost:8080/"
        },
        "id": "_Ln2xUmIJPEZ",
        "outputId": "a9208446-363e-42c4-95bd-aa2dafec503c"
      },
      "outputs": [
        {
          "data": {
            "text/plain": [
              "array([[-1.47282219e+00,  1.50031269e+00,  4.70157355e-01,\n",
              "         1.37608397e+00, -1.45620489e+00, -8.02452862e-01,\n",
              "         3.57282013e-01,  6.24089897e-01,  1.12618184e+00,\n",
              "         2.64639425e+00,  7.68023610e-01, -9.11832511e-01,\n",
              "         6.76315665e-01,  8.89694214e-01, -6.03546441e-01,\n",
              "        -6.29395127e-01, -4.69495207e-02, -1.05934799e+00,\n",
              "         1.92111397e+00, -3.00064659e+00,  2.72908688e+00,\n",
              "         1.52707577e+00,  1.88424015e+00, -7.39471614e-01,\n",
              "         1.34523273e+00, -1.16589285e-01,  5.55610895e-01,\n",
              "         4.17886227e-02,  2.74039531e+00, -6.77424610e-01,\n",
              "         6.40259802e-01, -5.86225271e-01, -8.67139995e-01,\n",
              "         9.73269224e-01, -5.37413955e-02, -3.67704773e+00,\n",
              "         1.32014918e+00,  5.60855746e-01, -1.01450217e+00,\n",
              "        -1.13682508e+00, -1.21649897e+00, -1.85342121e+00,\n",
              "         1.42324996e+00, -8.73523772e-01, -2.19200206e+00,\n",
              "         1.34154880e+00, -4.06686723e-01, -7.60734916e-01,\n",
              "        -4.75870043e-01,  5.79977691e-01, -2.83172578e-01,\n",
              "         5.77782214e-01, -2.47278064e-02,  1.08640659e+00,\n",
              "        -3.20914245e+00,  3.87845008e-04,  2.26007253e-01,\n",
              "        -1.38375139e+00,  1.42382252e+00,  6.81452975e-02,\n",
              "         1.05046260e+00, -8.10451329e-01, -5.32919347e-01,\n",
              "         2.69159293e+00,  1.18582547e+00,  3.47374392e+00,\n",
              "        -1.06858146e+00,  2.41509891e+00, -2.06474692e-01,\n",
              "        -1.19580007e+00,  1.22010887e+00, -1.22006619e+00,\n",
              "         1.69006419e+00,  6.84023201e-01, -1.40284806e-01,\n",
              "         2.92303085e-01,  2.81249499e+00,  2.74512291e+00,\n",
              "        -3.13398385e+00, -1.89657509e-01,  3.36572099e+00,\n",
              "        -7.15514183e-01, -2.16778040e+00,  1.66368794e+00,\n",
              "         4.29869086e-01,  2.45683432e+00, -2.35830903e+00,\n",
              "         3.88298452e-01,  1.39810395e+00,  1.03676152e+00,\n",
              "         2.20208931e+00, -1.01007926e+00,  2.25121558e-01,\n",
              "         4.53330815e-01,  2.75927854e+00, -1.19510107e-01,\n",
              "         3.12777090e+00,  2.27814269e+00, -1.68638438e-01,\n",
              "        -2.08151555e+00, -1.80268109e+00, -1.49726346e-01,\n",
              "         2.11387134e+00,  2.12472272e+00, -2.71110082e+00,\n",
              "         2.73205638e+00, -1.37073427e-01, -1.85808122e+00,\n",
              "        -2.16977620e+00, -9.88279507e-02,  2.19265079e+00,\n",
              "         4.89091903e-01, -6.61843717e-01, -5.02237022e-01,\n",
              "         1.99961495e+00, -8.45727742e-01,  2.86317015e+00,\n",
              "         9.31287348e-01,  5.73593080e-02,  1.81951714e+00,\n",
              "        -3.08044910e+00,  1.14916027e+00, -4.61110324e-01,\n",
              "        -9.96255755e-01,  7.80615956e-02, -1.24208879e+00,\n",
              "         1.48533857e+00,  4.91533518e-01,  2.79414058e+00,\n",
              "         2.42821470e-01, -1.15667987e+00, -1.61734641e+00,\n",
              "         7.43271291e-01, -1.88865542e-01,  1.40962040e+00,\n",
              "        -3.35520911e+00,  1.08208942e+00, -1.68502808e+00,\n",
              "        -1.65239036e+00, -1.60990334e+00,  1.89016962e+00,\n",
              "         9.57010627e-01,  8.41897309e-01, -1.44069701e-01,\n",
              "         1.31215751e+00,  7.74956763e-01,  2.58316040e+00,\n",
              "        -1.92770565e+00,  1.99183083e+00, -3.07193995e-01,\n",
              "        -2.76984066e-01,  7.84874499e-01, -1.29451799e+00,\n",
              "        -2.42560601e+00,  1.51570952e+00, -1.53601968e+00,\n",
              "         1.00381911e+00, -3.81155968e-01, -9.19445515e-01,\n",
              "         3.43961954e-01, -5.76288581e-01, -9.28507984e-01,\n",
              "        -1.09906293e-01, -1.10707438e+00,  2.45510149e+00,\n",
              "        -2.12192968e-01,  2.02676654e+00,  7.16257155e-01,\n",
              "         1.32685912e+00, -1.79605424e+00,  4.95107025e-01,\n",
              "         4.83502567e-01, -7.26251483e-01,  2.21826956e-01,\n",
              "         1.83213025e-01,  3.99087787e-01,  1.20295155e+00,\n",
              "        -1.89264536e+00, -1.10128887e-01,  1.45067644e+00,\n",
              "        -5.57526290e-01,  3.54563761e+00,  7.59631097e-02,\n",
              "         5.66602349e-01,  4.96176392e-01, -1.42780054e+00,\n",
              "        -8.84205550e-02, -1.97218776e+00,  2.48416638e+00,\n",
              "         1.04895782e+00, -3.37920040e-01, -7.78595626e-01,\n",
              "         1.77016234e+00,  2.13573360e+00,  9.59966928e-02,\n",
              "         7.98665047e-01, -1.71777809e+00,  4.13119942e-02,\n",
              "         5.25533855e-01,  1.00744851e-01, -2.28643298e+00,\n",
              "        -3.85871321e-01, -2.16936183e+00, -8.32310319e-01,\n",
              "        -8.02929461e-01, -9.81696069e-01,  9.53991652e-01,\n",
              "         1.86108661e+00, -9.72138762e-01,  2.23035431e+00,\n",
              "        -1.84853208e+00,  8.36572424e-02,  5.50568521e-01,\n",
              "         2.75333691e+00,  5.08150697e-01,  2.15793443e+00,\n",
              "         6.70533121e-01,  1.25719607e+00,  6.43970370e-01,\n",
              "         4.87664312e-01,  2.03303623e+00,  1.91645324e+00,\n",
              "         1.69112372e+00, -2.24451208e+00,  8.82190347e-01,\n",
              "         4.64094043e-01,  8.21092427e-01,  2.19850913e-01,\n",
              "        -1.08450961e+00, -2.39373183e+00,  2.96268344e-01,\n",
              "        -1.37967968e+00,  3.32637243e-02,  3.58447099e+00,\n",
              "        -2.14584732e+00,  2.02563095e+00,  1.77703965e+00,\n",
              "         8.18001390e-01, -4.13504511e-01, -9.44786966e-01,\n",
              "        -9.99500692e-01,  1.16857302e+00, -1.76858497e+00,\n",
              "        -1.22488809e+00,  3.21309239e-01,  3.42783356e+00,\n",
              "         1.30366158e+00,  1.66638136e+00,  7.39223421e-01,\n",
              "         1.58249450e+00, -1.59825057e-01, -1.31277454e+00,\n",
              "         4.22714204e-01,  3.44404125e+00, -8.01904082e-01,\n",
              "        -1.11002040e+00, -1.08674109e+00, -1.47434735e+00,\n",
              "         1.39354777e+00,  1.49403438e-01,  1.74686146e+00,\n",
              "        -2.24097919e+00,  5.19669056e-01,  1.45030260e+00,\n",
              "         1.75136042e+00,  1.04730165e+00, -1.41394043e+00,\n",
              "         8.03661525e-01, -6.47141188e-02,  2.42158461e+00,\n",
              "         3.66911978e-01,  3.77292365e-01, -9.58222032e-01,\n",
              "        -7.96728373e-01,  1.16881669e+00,  6.96006954e-01,\n",
              "         1.82866175e-02, -7.07451999e-01, -2.74361420e+00,\n",
              "        -4.12883848e-01,  5.84860861e-01, -1.04933150e-01,\n",
              "         1.47439396e+00,  5.02140939e-01, -9.15691614e-01,\n",
              "         7.11002111e-01,  5.99860489e-01, -7.12410271e-01,\n",
              "         1.14562273e+00,  5.92880547e-01, -4.35459673e-01,\n",
              "        -4.28108275e-01, -2.93322825e+00, -1.71897501e-01,\n",
              "         9.40455198e-01, -1.30742359e+00, -2.09594822e+00,\n",
              "         5.82776845e-01, -7.73537219e-01, -2.16812396e+00]], dtype=float32)"
            ]
          },
          "execution_count": 20,
          "metadata": {},
          "output_type": "execute_result"
        }
      ],
      "source": [
        "model_tw[clean('طمأنينة', 'TWITTER')]"
      ]
    },
    {
      "cell_type": "code",
      "execution_count": null,
      "metadata": {
        "colab": {
          "base_uri": "https://localhost:8080/"
        },
        "id": "DIn6WJtBA7AR",
        "outputId": "5923aba5-adff-4894-e303-cd6e8ee0723f"
      },
      "outputs": [
        {
          "data": {
            "text/plain": [
              "array([[-0.28953964, -0.07845741, -0.14822257, -0.24870284, -0.3346069 ,\n",
              "        -0.35259336, -0.15048546,  0.17176072, -0.0734706 ,  0.05353372,\n",
              "         0.11514466,  0.07408953,  0.02928444,  0.17113058,  0.3234126 ,\n",
              "         0.05761059,  0.3559551 ,  0.00569709,  0.31998977, -0.09200501,\n",
              "         0.12805058, -0.08255149, -0.01604828,  0.12156817, -0.09685886,\n",
              "        -0.14863043, -0.2645954 , -0.15860076, -0.07299021,  0.2367228 ,\n",
              "         0.11435907,  0.05433336, -0.42964724,  0.14958218, -0.45813102,\n",
              "         0.11301208, -0.24789785, -0.11452873,  0.08234931,  0.15759626,\n",
              "         0.20699564,  0.32070798,  0.10597168, -0.05420626,  0.07718668,\n",
              "         0.02704845, -0.04396065, -0.07477729, -0.23346251,  0.05618991,\n",
              "        -0.06177188,  0.09617444, -0.05075095, -0.31580532,  0.08684124,\n",
              "         0.16714394,  0.00384073,  0.23903123, -0.06545994,  0.12655328,\n",
              "         0.00561113, -0.23787743,  0.04055891, -0.09861883,  0.1357034 ,\n",
              "        -0.03220984,  0.00254897,  0.09549627, -0.25351143, -0.3357258 ,\n",
              "        -0.23471051, -0.15906967,  0.072709  , -0.1145843 , -0.07607643,\n",
              "         0.2140422 ,  0.18147543,  0.05219692,  0.31748936,  0.2026983 ,\n",
              "         0.06309999, -0.1597713 ,  0.0766232 , -0.27448618, -0.06289354,\n",
              "        -0.26785523, -0.03147315,  0.10678126,  0.00438781,  0.00617854,\n",
              "         0.21160743, -0.11481895, -0.04426624, -0.23665774, -0.11032712,\n",
              "         0.02605947,  0.03138576, -0.27578646,  0.10339415, -0.00632991,\n",
              "         0.08640689, -0.1974244 , -0.15920386,  0.28281057, -0.06317534,\n",
              "        -0.11468815, -0.25831228, -0.30928233, -0.2493124 ,  0.04795082,\n",
              "        -0.38008854, -0.03491604,  0.18197295, -0.24232572,  0.11348022,\n",
              "         0.01923978, -0.25999597, -0.06620701, -0.23967767, -0.27823138,\n",
              "         0.24414761, -0.07398535, -0.04792394,  0.0822989 , -0.3838912 ,\n",
              "         0.14381328, -0.21559349,  0.2928221 , -0.0882176 ,  0.32135513,\n",
              "        -0.27277017, -0.20399766, -0.09079099,  0.3023157 ,  0.06505866,\n",
              "        -0.00706319, -0.33789307, -0.2905176 , -0.18482825,  0.28907079,\n",
              "         0.07569081, -0.15534356, -0.33978945, -0.2418551 ,  0.02950722,\n",
              "         0.01810962, -0.16757107, -0.01816249,  0.40937832,  0.18641534,\n",
              "         0.02181944,  0.05349727, -0.01619652, -0.30093363, -0.18145832,\n",
              "         0.3425338 ,  0.18925965,  0.10358421, -0.38347232,  0.01762725,\n",
              "         0.05730914, -0.02051279, -0.0052943 , -0.11290245, -0.06391   ,\n",
              "         0.07919465,  0.18918188, -0.0412996 , -0.23669487, -0.03290123,\n",
              "         0.06061035, -0.142389  ,  0.30452663, -0.16730264, -0.12501249,\n",
              "        -0.12675129, -0.2022537 , -0.13798025,  0.00747491, -0.05195651,\n",
              "        -0.06153022, -0.11215109, -0.18570638, -0.12269644, -0.01197355,\n",
              "        -0.07945587, -0.1584868 , -0.45207062, -0.25390154,  0.28360066,\n",
              "        -0.23579317, -0.14274001, -0.00113965,  0.15886758, -0.3505376 ,\n",
              "         0.12781352,  0.18062244, -0.1462105 ,  0.09610189,  0.01130485,\n",
              "        -0.17686106,  0.04631273,  0.14544155, -0.03122874, -0.07863423,\n",
              "         0.04322594, -0.21209827, -0.18430634, -0.48631963, -0.2531249 ,\n",
              "         0.3058454 , -0.17592536, -0.11967599, -0.06869977, -0.02584751,\n",
              "        -0.15890317, -0.09909335,  0.07182422,  0.2040055 ,  0.00265552,\n",
              "         0.14883074,  0.00217015,  0.02221798, -0.213806  , -0.13550763,\n",
              "        -0.01890519,  0.09500751, -0.28269026,  0.20511615,  0.03015204,\n",
              "        -0.09712113, -0.14240459,  0.08678678,  0.11583952,  0.16069648,\n",
              "        -0.11113555, -0.07858901,  0.3887315 , -0.29837504,  0.3076006 ,\n",
              "        -0.04388385,  0.00959113,  0.08996059, -0.08811457,  0.18573381,\n",
              "         0.0162134 , -0.00081554, -0.30322647, -0.11206449,  0.03329284,\n",
              "        -0.10905645, -0.04794056, -0.28151432,  0.0372715 , -0.03036732,\n",
              "         0.04325535, -0.06482381,  0.23101135, -0.00984504, -0.06585857,\n",
              "        -0.2799725 ,  0.08071636, -0.20867617, -0.35082987, -0.01409829,\n",
              "         0.05381673,  0.01214188,  0.0070525 ,  0.13848387,  0.22458212,\n",
              "        -0.110152  ,  0.14959091, -0.17141   ,  0.14718544,  0.11384932,\n",
              "        -0.27639747,  0.01268016, -0.29027092, -0.2582331 ,  0.03784385,\n",
              "         0.14720921,  0.19196291,  0.22458449,  0.22189616, -0.16319665,\n",
              "         0.02607739, -0.2001155 ,  0.34197083,  0.07947216,  0.00212546,\n",
              "         0.08918174,  0.22691496,  0.24881266,  0.07698116,  0.20764148,\n",
              "        -0.02222707,  0.03132408,  0.32082075,  0.20571022, -0.211128  ]],\n",
              "      dtype=float32)"
            ]
          },
          "execution_count": 21,
          "metadata": {},
          "output_type": "execute_result"
        }
      ],
      "source": [
        "model_wiki[clean('طمأنينة', 'WIKI')]"
      ]
    },
    {
      "cell_type": "code",
      "execution_count": 31,
      "metadata": {
        "colab": {
          "base_uri": "https://localhost:8080/"
        },
        "id": "JTuVs4kOA7tb",
        "outputId": "e13173b0-330f-4f99-91d6-3a32a37ea110"
      },
      "outputs": [
        {
          "data": {
            "text/plain": [
              "array([[ 8.61085415e-01, -3.71756762e-01,  3.10089529e-01,\n",
              "        -2.31813788e-01,  1.87548175e-01,  2.53375024e-01,\n",
              "         5.43829143e-01,  1.43743691e-03, -1.00014973e-02,\n",
              "         3.61838996e-01,  1.65036210e-04, -8.24214816e-02,\n",
              "        -4.34678167e-01, -6.12507947e-02, -4.64695960e-01,\n",
              "         3.99640761e-02, -2.40052745e-01,  6.21533453e-01,\n",
              "        -7.50877708e-02,  3.36336285e-01, -2.18026444e-01,\n",
              "        -2.10178748e-01,  1.52601190e-02, -2.75114357e-01,\n",
              "         2.05008358e-01,  4.28911209e-01, -2.26168543e-01,\n",
              "         3.69684339e-01,  1.68559521e-01, -2.78831840e-01,\n",
              "         9.88368019e-02, -2.85934955e-01,  1.82451978e-01,\n",
              "        -8.72871697e-01, -1.78821851e-03, -1.38522699e-01,\n",
              "        -2.66480654e-01,  1.33006647e-01,  2.83501357e-01,\n",
              "        -4.75471407e-01,  1.37368441e-01, -3.46045554e-01,\n",
              "        -3.93429577e-01, -3.51104885e-01,  1.69493631e-01,\n",
              "        -1.39072940e-01,  3.73444632e-02,  6.17265105e-01,\n",
              "         1.49523750e-01, -1.22152142e-01,  1.37822196e-01,\n",
              "         7.79668272e-01, -1.61562413e-02, -6.72389388e-01,\n",
              "        -1.09114438e-01,  6.02762401e-01, -4.32114393e-01,\n",
              "         7.90255964e-02,  3.94554824e-01,  2.12655559e-01,\n",
              "         2.66362190e-01, -2.95205414e-01,  9.08400342e-02,\n",
              "        -8.76229584e-01, -3.81333739e-01,  4.49827939e-01,\n",
              "         2.90916532e-01, -2.53210813e-01, -4.34754968e-01,\n",
              "        -3.46460730e-01, -3.70530516e-01, -3.62821907e-01,\n",
              "         2.87160635e-01,  1.50214685e-02, -5.84172547e-01,\n",
              "        -1.01924278e-01, -2.47138292e-01, -6.08940907e-02,\n",
              "         7.84295321e-01, -7.39526674e-02,  7.99518406e-01,\n",
              "        -3.71617973e-01,  1.37411859e-02, -5.96483350e-01,\n",
              "        -6.92646876e-02,  7.79020429e-01,  2.12275848e-01,\n",
              "         2.62587726e-01,  3.45956355e-01, -6.89574238e-03,\n",
              "        -4.28285629e-01,  2.56931856e-02, -2.07405031e-01,\n",
              "         4.00262326e-01, -3.23821247e-01,  2.71669447e-01,\n",
              "         6.29997253e-01, -3.58686805e-01,  2.55019128e-01,\n",
              "         6.08166158e-01, -2.15130180e-01,  4.64097708e-02,\n",
              "        -5.33483744e-01,  3.75390470e-01,  3.74410003e-01,\n",
              "         2.70265251e-01,  3.15761060e-01,  7.98740327e-01,\n",
              "        -6.65604547e-02,  3.40364009e-01,  8.49611387e-02,\n",
              "         2.04658657e-01,  5.26573360e-01,  1.82576608e-02,\n",
              "         1.40817448e-01, -5.57878315e-01,  2.72316098e-01,\n",
              "         1.38780689e+00, -6.73605725e-02, -4.83057141e-01,\n",
              "         2.51593173e-01, -4.01610851e-01, -8.38750824e-02,\n",
              "        -7.50670806e-02, -4.87182885e-01, -5.74517310e-01,\n",
              "        -1.17835514e-01, -1.82710201e-01,  5.24024785e-01,\n",
              "         1.53915957e-02, -4.95688915e-02, -9.11076963e-02,\n",
              "        -9.61081684e-02, -1.85413361e-01,  2.96437532e-01,\n",
              "        -2.56748796e-01,  6.10950470e-01,  7.36421108e-01,\n",
              "        -5.99067986e-01, -3.38850878e-02, -1.41896486e-01,\n",
              "         4.03180391e-01,  4.80856478e-01, -5.00915825e-01,\n",
              "         3.89502972e-01,  6.85163617e-01, -3.33339609e-02,\n",
              "         1.92301393e-01,  2.36602455e-01,  1.56871572e-01,\n",
              "         3.42382416e-02,  1.60498857e-01, -4.01224315e-01,\n",
              "        -8.32449868e-02, -1.47962078e-01, -3.86779904e-01,\n",
              "        -1.75582394e-01,  5.79820096e-01,  6.33576810e-01,\n",
              "         2.02152744e-01, -1.99098438e-01, -6.56712472e-01,\n",
              "         1.67121366e-01, -6.13721430e-01,  1.59840718e-01,\n",
              "         3.89983773e-01,  4.53756191e-02, -4.43943560e-01,\n",
              "        -1.69470176e-01, -1.22666135e-01,  3.73013727e-02,\n",
              "        -2.72111356e-01, -8.05186272e-01, -6.12635612e-01,\n",
              "         5.97084701e-01,  2.65959591e-01,  8.91907839e-05,\n",
              "         3.11043143e-01, -2.89762735e-01,  1.56378254e-01,\n",
              "         6.04770243e-01, -1.42337516e-01, -9.10905078e-02,\n",
              "        -3.28034073e-01,  5.97573146e-02,  3.83669257e-01,\n",
              "         3.02364141e-01, -7.94656694e-01,  2.30608489e-02,\n",
              "        -1.04909144e-01, -3.53432745e-01,  6.32573143e-02,\n",
              "        -1.65143117e-01, -2.16643378e-01, -3.81869972e-01,\n",
              "        -5.20887733e-01, -2.36619905e-01, -4.18816626e-01,\n",
              "        -6.60898447e-01, -2.10264653e-01,  2.16113240e-01,\n",
              "         6.80665970e-02,  3.63836944e-01, -4.65924889e-02,\n",
              "         6.40446305e-01, -1.16666332e-01,  3.35537881e-01,\n",
              "        -6.21767081e-02, -1.05466627e-01, -1.96878493e-01,\n",
              "         3.62172127e-01, -7.89134279e-02, -8.01517546e-01,\n",
              "         3.30869585e-01, -4.12100732e-01,  4.46221828e-01,\n",
              "         5.04141092e-01,  1.27246112e-01, -7.67638325e-04,\n",
              "         9.24391806e-01, -4.08243714e-03,  2.03237385e-01,\n",
              "        -4.11445260e-01,  4.15139854e-01, -2.04896107e-02,\n",
              "        -2.89704978e-01,  5.87175488e-01, -3.58494937e-01,\n",
              "        -5.47261769e-03, -2.12329850e-02, -5.86417019e-01,\n",
              "        -4.13561612e-01, -8.82171154e-01, -7.74613991e-02,\n",
              "         1.00028026e+00,  4.61166024e-01, -6.13319576e-01,\n",
              "         1.84693590e-01,  1.37109250e-01,  6.97459057e-02,\n",
              "        -1.99550122e-01,  2.48830080e-01,  2.96962291e-01,\n",
              "         1.91275865e-01, -2.30127503e-03, -5.71304500e-01,\n",
              "         3.61883074e-01, -1.03159964e-01, -2.70088948e-02,\n",
              "        -2.13050812e-01, -3.99789214e-01, -3.03371519e-01,\n",
              "         8.25533032e-01, -3.15915048e-02, -6.40926929e-03,\n",
              "        -1.57568663e-01,  2.04600573e-01, -1.17852733e-01,\n",
              "        -2.72607803e-01, -2.98807383e-01, -1.28247449e-02,\n",
              "         1.94399357e-01,  2.60957599e-01, -3.93391520e-01,\n",
              "         2.00379759e-01,  9.79567647e-01,  7.54987121e-01,\n",
              "         7.92450190e-01, -3.69216919e-01, -3.18518758e-01,\n",
              "        -4.06285912e-01,  5.76362491e-01,  2.75165495e-02,\n",
              "         2.45378807e-01,  2.94007897e-01, -7.35667408e-01,\n",
              "         4.13971543e-01, -2.28307489e-02,  1.41163319e-01,\n",
              "         2.03115329e-01, -1.99870825e-01,  3.20001274e-01,\n",
              "         9.17446688e-02, -4.30036783e-01, -2.82926142e-01,\n",
              "         9.08889592e-01, -3.76108736e-01,  2.82743722e-01,\n",
              "         5.70903495e-02, -1.26440972e-01, -4.03207093e-01,\n",
              "         4.23828885e-02,  7.11488247e-01,  1.51073396e-01,\n",
              "         1.76043123e-01, -9.77381095e-02,  4.85738628e-02,\n",
              "         3.75963539e-01,  3.42252105e-01,  5.53765655e-01]], dtype=float32)"
            ]
          },
          "execution_count": 31,
          "metadata": {},
          "output_type": "execute_result"
        }
      ],
      "source": [
        "model_ksucca[clean('طمأنينة', 'KSUCCA')]"
      ]
    },
    {
      "cell_type": "code",
      "execution_count": null,
      "metadata": {
        "colab": {
          "base_uri": "https://localhost:8080/"
        },
        "id": "G399iYWOCD2P",
        "outputId": "ddc0848c-0234-4453-953f-d23aacf240c6"
      },
      "outputs": [
        {
          "data": {
            "text/plain": [
              "array([[-3.800e-02,  4.730e-02, -4.800e-03,  2.210e-02,  8.730e-02,\n",
              "        -2.080e-02, -8.640e-02,  2.680e-02, -4.870e-02, -1.940e-02,\n",
              "        -1.460e-02,  2.420e-02, -5.440e-02,  8.220e-02, -1.100e-02,\n",
              "         1.500e-03, -8.700e-03, -7.410e-02, -2.330e-02, -1.300e-03,\n",
              "         4.230e-02,  3.070e-02, -1.190e-02, -4.290e-02,  6.800e-03,\n",
              "         2.250e-02, -4.900e-02, -2.240e-02, -3.460e-02,  1.570e-02,\n",
              "        -1.400e-02,  1.090e-02,  6.050e-02, -7.850e-02,  2.540e-02,\n",
              "         8.790e-02,  1.150e-02, -4.190e-02,  2.270e-02,  2.070e-02,\n",
              "        -2.630e-02,  2.860e-02,  6.880e-02, -2.200e-03,  1.420e-02,\n",
              "         8.100e-02, -4.810e-02,  2.910e-02,  3.780e-02, -2.150e-02,\n",
              "         1.130e-02,  2.200e-02,  7.380e-02,  2.310e-02, -4.110e-02,\n",
              "        -3.890e-02,  8.700e-03,  4.470e-02, -7.730e-02,  1.500e-02,\n",
              "         4.970e-02, -3.330e-02, -2.170e-02, -1.180e-02, -5.760e-02,\n",
              "         6.680e-02, -1.660e-02, -7.600e-02, -7.490e-02,  9.270e-02,\n",
              "        -3.480e-02,  3.300e-02,  1.920e-02,  1.950e-02, -9.400e-03,\n",
              "         8.080e-02, -3.470e-02,  2.520e-02, -5.640e-02,  5.520e-02,\n",
              "         1.560e-02, -3.960e-02, -9.570e-02,  3.660e-02,  7.250e-02,\n",
              "         2.420e-02,  7.860e-02,  5.070e-02, -4.430e-02,  3.110e-02,\n",
              "        -4.470e-02, -2.090e-02, -2.670e-02, -2.520e-02,  3.890e-02,\n",
              "         1.560e-02, -2.200e-03, -7.270e-02, -2.740e-02, -9.700e-03,\n",
              "        -5.300e-03, -4.370e-02, -2.640e-02, -7.460e-02, -4.900e-03,\n",
              "         2.700e-03,  2.310e-02,  1.640e-02, -5.310e-02,  8.390e-02,\n",
              "        -5.500e-03, -5.370e-02, -1.710e-02,  4.390e-02,  8.000e-03,\n",
              "        -9.130e-02,  3.030e-02,  3.660e-02,  1.780e-02, -1.370e-02,\n",
              "         1.360e-02, -1.340e-02, -4.900e-02, -1.000e-04,  6.230e-02,\n",
              "        -3.200e-03,  3.210e-02,  1.230e-02,  5.390e-02, -1.150e-02,\n",
              "        -9.310e-02,  2.120e-02, -4.100e-03,  3.800e-03, -1.040e-02,\n",
              "        -3.120e-02,  5.210e-02, -2.020e-02, -6.020e-02,  3.090e-02,\n",
              "         2.740e-02,  1.020e-02,  6.000e-04, -3.650e-02,  4.630e-02,\n",
              "         1.040e-01,  5.440e-02, -5.540e-02,  9.090e-02,  6.390e-02,\n",
              "         1.300e-02,  5.850e-02, -2.970e-02, -3.000e-03, -3.600e-03,\n",
              "        -1.980e-02,  2.440e-02, -4.240e-02, -4.310e-02, -3.170e-02,\n",
              "        -8.700e-03, -9.700e-02,  6.940e-02, -5.560e-02, -1.603e-01,\n",
              "        -2.960e-02,  3.440e-02,  3.440e-02,  3.840e-02,  7.600e-03,\n",
              "         2.200e-02,  1.370e-02,  4.700e-03, -9.070e-02, -4.850e-02,\n",
              "        -4.200e-03, -1.390e-02, -2.030e-02,  5.400e-02,  1.680e-02,\n",
              "         4.470e-02,  3.420e-02, -6.480e-02, -2.390e-02, -8.950e-02,\n",
              "        -5.500e-02,  2.600e-03, -1.240e-02,  1.500e-02, -1.600e-02,\n",
              "         7.000e-03, -5.350e-02, -2.860e-02, -3.500e-03, -4.420e-02,\n",
              "         5.470e-02, -2.550e-02,  1.180e-02, -2.670e-02,  7.460e-02,\n",
              "        -2.940e-02,  6.900e-02,  2.480e-02, -2.030e-02, -5.710e-02,\n",
              "        -2.880e-02,  5.910e-02,  6.400e-03, -3.350e-02, -4.160e-02,\n",
              "        -8.770e-02,  1.910e-02,  6.420e-02,  4.000e-04,  4.740e-02,\n",
              "         8.800e-03, -4.630e-02, -4.800e-03,  2.890e-02,  5.500e-03,\n",
              "         1.440e-02,  4.600e-02,  2.610e-02,  6.380e-02, -4.210e-02,\n",
              "         6.200e-02, -9.800e-03,  6.710e-02,  6.700e-03,  7.000e-03,\n",
              "         7.400e-03, -5.380e-02,  9.440e-02,  5.800e-03, -2.110e-02,\n",
              "        -8.250e-02, -1.730e-02,  1.570e-02, -3.350e-02,  2.620e-02,\n",
              "        -2.800e-03,  5.920e-02, -1.770e-02,  1.380e-02, -5.640e-02,\n",
              "         4.400e-03, -4.800e-03,  5.100e-03,  3.230e-02, -8.520e-02,\n",
              "        -3.800e-03, -1.120e-02,  9.000e-04, -4.460e-02, -2.540e-02,\n",
              "         7.980e-02,  8.700e-03, -5.000e-02, -6.810e-02,  8.400e-03,\n",
              "        -2.210e-02, -1.540e-02, -1.320e-02,  1.325e-01,  2.770e-02,\n",
              "         1.080e-02,  1.010e-02, -4.560e-02,  2.730e-02,  9.800e-03,\n",
              "         3.710e-02, -4.670e-02, -1.341e-01, -2.000e-03,  6.200e-03,\n",
              "        -7.520e-02,  2.450e-02, -8.570e-02, -3.400e-02, -6.000e-03,\n",
              "        -4.320e-02,  1.280e-02, -3.450e-02, -2.640e-02, -2.430e-02,\n",
              "         1.395e-01,  6.040e-02,  1.580e-02, -6.200e-03,  5.160e-02,\n",
              "         4.450e-02,  3.480e-02,  2.600e-03,  4.540e-02, -1.290e-02,\n",
              "        -2.360e-02, -5.300e-03, -9.200e-03, -2.750e-02,  5.930e-02]],\n",
              "      dtype=float32)"
            ]
          },
          "execution_count": 23,
          "metadata": {},
          "output_type": "execute_result"
        }
      ],
      "source": [
        "model_fasttext[clean('طمأنينة', 'FASTTEXT')]"
      ]
    },
    {
      "cell_type": "code",
      "execution_count": null,
      "metadata": {
        "colab": {
          "base_uri": "https://localhost:8080/"
        },
        "id": "GuG3FQiKQXHZ",
        "outputId": "4dfe3682-bd65-48c0-d3ca-f440ae7d03b1"
      },
      "outputs": [
        {
          "name": "stdout",
          "output_type": "stream",
          "text": [
            "True\n",
            "False\n",
            "True\n"
          ]
        }
      ],
      "source": [
        "print(\"أهواء\" in model_fasttext)\n",
        "print(\"أهواء\" in model_tw)\n",
        "print(\"كلمه\" in model_fasttext)"
      ]
    },
    {
      "cell_type": "code",
      "execution_count": null,
      "metadata": {
        "colab": {
          "base_uri": "https://localhost:8080/"
        },
        "id": "4X3I72I-n6Vu",
        "outputId": "de4c4706-26e4-468d-cdbe-cce5a3a3a18b"
      },
      "outputs": [
        {
          "data": {
            "text/plain": [
              "[0.5381147, 0.730535, 0.49925467, 0.7931661, 0.7393669]"
            ]
          },
          "execution_count": 25,
          "metadata": {},
          "output_type": "execute_result"
        }
      ],
      "source": [
        "a = model_fasttext.similarity('طمانينة', \"طمأنينة\")\n",
        "b = model_fasttext.similarity('كلمة', \"كلمه\")\n",
        "c = model_fasttext.similarity('كرة', 'كره')\n",
        "d = model_fasttext.similarity('أحمد', 'احمد')\n",
        "e = model_fasttext.similarity('إيمان', 'ايمان')\n",
        "[a, b, c, d, e]\n",
        "\n",
        "# fasttext knows the diff"
      ]
    },
    {
      "cell_type": "markdown",
      "metadata": {
        "id": "u_bxlaUSx7Ll"
      },
      "source": [
        "## The Holy Quran Text Cleaning"
      ]
    },
    {
      "cell_type": "code",
      "execution_count": 32,
      "metadata": {
        "colab": {
          "base_uri": "https://localhost:8080/"
        },
        "id": "84t2vxVL-aWO",
        "outputId": "c351b603-6896-4e19-ecba-c16486306667"
      },
      "outputs": [
        {
          "name": "stdout",
          "output_type": "stream",
          "text": [
            "Downloading...\n",
            "From: https://drive.google.com/uc?id=1lIX3raBe_TVmcJRJw8nX3S21Ab2qoaGB\n",
            "To: /content/quran-simple.txt\n",
            "100% 1.32M/1.32M [00:00<00:00, 140MB/s]\n",
            "Downloading...\n",
            "From: https://drive.google.com/uc?id=1yWkmOg7isP7EnQtgsRuyEwrT5s28zxlr\n",
            "To: /content/quran-simple-clean.txt\n",
            "100% 744k/744k [00:00<00:00, 94.9MB/s]\n"
          ]
        }
      ],
      "source": [
        "# download quran-simple and quran-simple-clean from tanzil\n",
        "!gdown https://drive.google.com/uc?id=1lIX3raBe_TVmcJRJw8nX3S21Ab2qoaGB\n",
        "!gdown https://drive.google.com/uc?id=1yWkmOg7isP7EnQtgsRuyEwrT5s28zxlr"
      ]
    },
    {
      "cell_type": "code",
      "execution_count": null,
      "metadata": {
        "colab": {
          "base_uri": "https://localhost:8080/"
        },
        "id": "gF5QBRIHg1Ik",
        "outputId": "d8bd92bf-bcf8-48ac-fa61-93a43197122b"
      },
      "outputs": [
        {
          "name": "stdout",
          "output_type": "stream",
          "text": [
            "['بسم الله الرحمن الرحيم\\n', 'الحمد لله رب العالمين\\n', 'الرحمن الرحيم\\n', 'مالك يوم الدين\\n', 'إياك نعبد وإياك نستعين\\n']\n",
            "['بسم الله الرحمن الرحيم', 'الحمد لله رب العالمين', 'الرحمن الرحيم', 'مالك يوم الدين', 'إياك نعبد وإياك نستعين']\n"
          ]
        }
      ],
      "source": [
        "# prepare/read Quran data\n",
        "quran_clean_text = open(\"quran-simple-clean.txt\").readlines()\n",
        "\n",
        "# use this instead to display well-formed verses\n",
        "quran_simple = open(\"quran-simple.txt\").readlines()\n",
        "\n",
        "print(quran_clean_text[:5])\n",
        "\n",
        "quran_clean_text = [verse[:-1] for verse in quran_clean_text]\n",
        "print(quran_clean_text[:5])"
      ]
    },
    {
      "cell_type": "markdown",
      "metadata": {
        "id": "aHb45RDXwme_"
      },
      "source": [
        "## Methods to get the most similar verses by a single word (Word Search)"
      ]
    },
    {
      "cell_type": "markdown",
      "metadata": {
        "id": "joZuMjAtyB6D"
      },
      "source": [
        "### Max Similarity Score"
      ]
    },
    {
      "cell_type": "markdown",
      "metadata": {
        "id": "tFxpaDEJjFS4"
      },
      "source": [
        "Comparing vectors between the sinlge query word and each word in a verse, returning the max similarity of a word in a verse."
      ]
    },
    {
      "cell_type": "code",
      "execution_count": 35,
      "metadata": {
        "id": "gAe4o8ISueTL"
      },
      "outputs": [],
      "source": [
        "def get_verse_max_score(query_word, verse_text, model):\n",
        "    '''\n",
        "    Get the max similarity of query word and each word in a verse text.\n",
        "    Example:\n",
        "    >>> query_word = clean(\"الصلاة\", 'KSUCCA')[0]\n",
        "    >>> verse_text = clean(\"صلاة القيام\", 'KSUCCA')\n",
        "    >>> get_verse_max_score(query_word, verse_text, model_ksucca)\n",
        "    0.5462957\n",
        "    >>> model.similarity(\"الصلاة\", \"صلاة\")\n",
        "    0.5462957\n",
        "    >>> model.similarity(\"الصلاة\", \"القيام\")\n",
        "    0.24506283\n",
        "    \n",
        "    @param query_word: only one query word\n",
        "    @param verse_text: verse text (one or more words)\n",
        "    @type query_word, verse_text: str (arabic unicode)\n",
        "    @param model: the pretrained model to use\n",
        "    @type model: KeyedVectors or Word2Vec\n",
        "    @return: max similarity\n",
        "    @rtype: float\n",
        "    '''\n",
        "    \n",
        "    maxi = -1.0\n",
        "    for verse_word in verse_text:\n",
        "        if query_word not in model or verse_word not in model:\n",
        "            continue\n",
        "        score = model.similarity(query_word, verse_word)\n",
        "        maxi = max(score, maxi)\n",
        "    \n",
        "    return max(0.0 , maxi)"
      ]
    },
    {
      "cell_type": "code",
      "execution_count": null,
      "metadata": {
        "colab": {
          "base_uri": "https://localhost:8080/"
        },
        "id": "aMJIBZa-5xIx",
        "outputId": "e96444f8-8318-411c-da0e-61b3d004b421"
      },
      "outputs": [
        {
          "data": {
            "text/plain": [
              "[0.6911777, [0.6911777, 0.40548423]]"
            ]
          },
          "execution_count": 27,
          "metadata": {},
          "output_type": "execute_result"
        }
      ],
      "source": [
        "query_word = clean(\"الصلاة\", 'FatText')[0]\n",
        "verse_text = clean(\"صلاة القيام\", 'FatText')\n",
        "a = get_verse_max_score(query_word, verse_text, model_fasttext)\n",
        "b = [model_fasttext.similarity(query_word, verse_text[0]), model_fasttext.similarity(query_word, verse_text[1])]\n",
        "[a, b]"
      ]
    },
    {
      "cell_type": "code",
      "execution_count": 33,
      "metadata": {
        "colab": {
          "base_uri": "https://localhost:8080/"
        },
        "id": "hAEwTe22qhMY",
        "outputId": "72e5d1a8-0eed-42f8-acfa-4a3cc2474a43"
      },
      "outputs": [
        {
          "data": {
            "text/plain": [
              "[[0.042852506, 1.0], [0.0, 1.0], [0.04033663, 1.0]]"
            ]
          },
          "execution_count": 33,
          "metadata": {},
          "output_type": "execute_result"
        }
      ],
      "source": [
        "a = [get_verse_max_score(\"صلاة\", \"صلاة القيام\", model_ksucca), \\\n",
        "get_verse_max_score(clean(\"صلاة\", 'KSUCCA')[0], clean(\"صلاة القيام\", 'KSUCCA'), model_ksucca)]\n",
        "\n",
        "b = [get_verse_max_score(\"صلاة\", \"صلاة القيام\", model_tw), \\\n",
        "get_verse_max_score(clean(\"صلاة\", 'TWITTER')[0], clean(\"صلاة القيام\", 'TWITTER'), model_tw)]\n",
        "\n",
        "c = [get_verse_max_score(\"صلاة\", \"صلاة القيام\", model_fasttext), \\\n",
        "get_verse_max_score(clean(\"صلاة\", 'FASTTEXT')[0], clean(\"صلاة القيام\", 'FASTTEXT'), model_fasttext)]\n",
        "[a, b, c]"
      ]
    },
    {
      "cell_type": "markdown",
      "metadata": {
        "id": "nykE-j2DyKpe"
      },
      "source": [
        "### Max Frequency for a 0.3 Similarity Score"
      ]
    },
    {
      "cell_type": "markdown",
      "metadata": {
        "id": "Ws8iwQNkjO7O"
      },
      "source": [
        "By experiments, we specified a high similarity (0.3) between two words, returning the frequency score, that is the similarity score higher than 0.3, the more frequent the word should be in the verse."
      ]
    },
    {
      "cell_type": "code",
      "execution_count": 36,
      "metadata": {
        "id": "oLuNmU6LzJxC"
      },
      "outputs": [],
      "source": [
        "def get_verse_frequency_score(query_word, verse_text, model):\n",
        "    '''\n",
        "    Get the frequency of a query word in a verse with:\n",
        "    the similarity score higher than 0.3, the more frequent the word is in the verse.\n",
        "    Example:\n",
        "    >>> query_word = clean(\"الصلاة\", 'KSUCCA')[0]\n",
        "    >>> verse_text = clean(\"صلاة القيام\", 'KSUCCA')\n",
        "    >>> get_verse_frequency_score(query_word, verse_text, model_ksucca)\n",
        "    2\n",
        "    \n",
        "    @param query_word: only one query word\n",
        "    @param verse_text: verse text (one or more words)\n",
        "    @type query_word, verse_text: str (arabic unicode)\n",
        "    @param model: the pretrained model to use\n",
        "    @type model: KeyedVectors or Word2Vec\n",
        "    @return: frequency score\n",
        "    @rtype: int\n",
        "    '''\n",
        "\n",
        "    freq = 0\n",
        "    for verse_word in verse_text:\n",
        "        if query_word not in model or verse_word not in model:\n",
        "            continue\n",
        "        score = model.similarity(query_word, verse_word)\n",
        "        if score > 0.3:\n",
        "            freq += 1\n",
        "\n",
        "    return freq"
      ]
    },
    {
      "cell_type": "code",
      "execution_count": 37,
      "metadata": {
        "colab": {
          "base_uri": "https://localhost:8080/"
        },
        "id": "WhcYRQXpsdtO",
        "outputId": "1d0d244c-f35d-4aef-db54-c32a0f203a7d"
      },
      "outputs": [
        {
          "data": {
            "text/plain": [
              "2"
            ]
          },
          "execution_count": 37,
          "metadata": {},
          "output_type": "execute_result"
        }
      ],
      "source": [
        "get_verse_frequency_score(clean(\"الصلاة\", 'KSUCCA')[0], clean(\"صلاة القيام\", 'KSUCCA'), model_ksucca)"
      ]
    },
    {
      "cell_type": "markdown",
      "metadata": {
        "id": "he162O_UJNMG"
      },
      "source": [
        "### Max Average Similarity Score"
      ]
    },
    {
      "cell_type": "markdown",
      "metadata": {
        "id": "Z6nkaT9TJYJA"
      },
      "source": [
        "We made an average of Word2Vec vectors between two words (A word in a query and a word in a Verse): s(word, phrase) = sum(s(word, phrase[0]), .., s(word, phrase[n - 1])) / n \n",
        "\n",
        "Example:\n",
        "```\n",
        "similarity(word, word) = 1.0\n",
        "similarity(phrase[0], word) = 0.234\n",
        "similarity(phrase[1], word) = 0.012\n",
        "..\n",
        "vector(phrase) = [0.234, 0.012, 0.5654]\n",
        "so, len(vector(phrase)) = 3\n",
        "\n",
        "then, similarity(word, vector(phrase)) = AVG = (0.234 + 0.012 + 0.5654) / 3\n",
        "```"
      ]
    },
    {
      "cell_type": "code",
      "execution_count": 39,
      "metadata": {
        "id": "oZclONbRMQMK"
      },
      "outputs": [],
      "source": [
        "def get_verse_avg_score(query_word, verse_text, model):\n",
        "    '''\n",
        "    Get the average similarity of query word and each word in a verse text.\n",
        "    Example:\n",
        "    >>> query_word = \"الصلاة\"\n",
        "    >>> verse_text = \"صلاة القيام\"\n",
        "    >>> get_avg_score(query_word, verse_text, model_ksucca)\n",
        "    0.463957015\n",
        "    >>> (0.64260626 + 0.330228) / 2.0\n",
        "    0.463957015\n",
        "    \n",
        "    @param query_word: only one query word\n",
        "    @param verse_text: verse text (one or more words)\n",
        "    @type query_word, verse_text: str (arabic unicode)\n",
        "    @param model: the pretrained model to use\n",
        "    @type model: KeyedVectors or Word2Vec\n",
        "    @return: average similarity\n",
        "    @rtype: float\n",
        "    '''\n",
        "\n",
        "    verse_vector = []\n",
        "    for verse_word in verse_text:\n",
        "        if query_word not in model or verse_word not in model:\n",
        "            continue\n",
        "        score = model.similarity(query_word, verse_word)\n",
        "\n",
        "        # Ignore negative scores\n",
        "        if score > 0:\n",
        "            verse_vector.append(score)\n",
        "\n",
        "    # Avoid division by zero\n",
        "    if len(verse_vector) == 0:\n",
        "        return 0.0\n",
        "\n",
        "    avg = sum(verse_vector) / len(verse_vector)\n",
        "    return avg"
      ]
    },
    {
      "cell_type": "code",
      "execution_count": 40,
      "metadata": {
        "colab": {
          "base_uri": "https://localhost:8080/"
        },
        "id": "C1MeDrDj9pM3",
        "outputId": "7518c4de-e06a-44f7-967d-eadf7c4143a1"
      },
      "outputs": [
        {
          "data": {
            "text/plain": [
              "[0.5483309775590897, [0.6911777, 0.40548423]]"
            ]
          },
          "execution_count": 40,
          "metadata": {},
          "output_type": "execute_result"
        }
      ],
      "source": [
        "query_word = clean(\"الصلاة\", 'FatText')[0]\n",
        "verse_text = clean(\"صلاة القيام\", 'FatText')\n",
        "a = get_verse_avg_score(query_word, verse_text, model_fasttext)\n",
        "b = [model_fasttext.similarity(query_word, verse_text[0]), model_fasttext.similarity(query_word, verse_text[1])]\n",
        "[a, b]"
      ]
    },
    {
      "cell_type": "code",
      "execution_count": 41,
      "metadata": {
        "colab": {
          "base_uri": "https://localhost:8080/"
        },
        "id": "EV9li_itwUIJ",
        "outputId": "10ad4002-4030-4bf1-e3b7-70863f43d695"
      },
      "outputs": [
        {
          "data": {
            "text/plain": [
              "[[0.0, 0.6114272028207779],\n",
              " [0.0, 0.5175802633166313],\n",
              " [0.008036648738197982, 0.4639570116996765],\n",
              " [0.09752023965120316, 0.5483309775590897]]"
            ]
          },
          "execution_count": 41,
          "metadata": {},
          "output_type": "execute_result"
        }
      ],
      "source": [
        "a = [get_verse_avg_score(\"الصلاة\", \"صلاة القيام\", model_tw), \\\n",
        "get_verse_avg_score(clean(\"الصلاة\", 'TWITTER')[0], clean(\"صلاة القيام\", 'TWITTER'), model_tw)]\n",
        "\n",
        "b = [get_verse_avg_score(\"الصلاة\", \"صلاة القيام\", model_wiki), \\\n",
        "get_verse_avg_score(clean(\"الصلاة\", 'WIKI')[0], clean(\"صلاة القيام\", 'WIKI'), model_wiki)]\n",
        "\n",
        "c = [get_verse_avg_score(\"الصلاة\", \"صلاة القيام\", model_ksucca), \\\n",
        "get_verse_avg_score(clean(\"الصلاة\", 'KSUCCA')[0], clean(\"صلاة القيام\", 'KSUCCA'), model_ksucca)]\n",
        "\n",
        "d = [get_verse_avg_score(\"الصلاة\", \"صلاة القيام\", model_fasttext), \\\n",
        "get_verse_avg_score(clean(\"الصلاة\", 'FASTTEXT')[0], clean(\"صلاة القيام\", 'FASTTEXT'), model_fasttext)]\n",
        "\n",
        "[a, b, c, d]"
      ]
    },
    {
      "cell_type": "markdown",
      "metadata": {
        "id": "yqaTMF3ij9Dl"
      },
      "source": [
        "## Most Similar Verses by a Query Word"
      ]
    },
    {
      "cell_type": "markdown",
      "metadata": {
        "id": "HUX8IT4mkICr"
      },
      "source": [
        "Retrieve the most similar verses to a query word, according to one model and one of the 3 maximizing methods (max, freq, avg)."
      ]
    },
    {
      "cell_type": "code",
      "execution_count": 44,
      "metadata": {
        "id": "v5NBSNNcljAn"
      },
      "outputs": [],
      "source": [
        "def get_most_similar_verses_by_query_word(query_word, model, method):\n",
        "    '''\n",
        "    Get the most similar verses to a query word,\n",
        "    according to one model and one of the 3 maximizing methods (max, freq, avg).\n",
        "    Example:\n",
        "    >>> get_most_similar_verses_by_query_word(u\"هدوء\", (model_fasttext, 'FASTTEXT'), get_verse_avg_score)[0]\n",
        "   (0.28051459789276123, 3896, 'سلام على إبراهيم')\n",
        "\n",
        "    @param query_word: only one query word  \n",
        "    @type query_word: str (arabic unicode)\n",
        "    @param model: tuple of the pretrained model to use and its name\n",
        "    @type model: KeyedVectors or Word2Vec\n",
        "    @param method: the maximizing method to use\n",
        "    @type method: function\n",
        "    @return: most similar verses\n",
        "    @rtype: list of tuples (score, verse_id, verse_text)\n",
        "    '''\n",
        "\n",
        "    (model_vectors, model_name) = model\n",
        "    verse_props, verse_id = [], 0\n",
        "\n",
        "    query_word = clean(query_word, model_name)\n",
        "    if len(query_word):\n",
        "      query_word = query_word[0]\n",
        "    else:\n",
        "      query_word = ''\n",
        "\n",
        "    for verse in quran_clean_text:\n",
        "        # Tokenizing and cleaning are made only once here :)\n",
        "        score = method(query_word, clean(verse, model_name), model_vectors)\n",
        "        verse_props.append((score, verse_id))\n",
        "        verse_id += 1\n",
        "\n",
        "    verse_props.sort(reverse=True)\n",
        "\n",
        "    # Return at most 50 verses\n",
        "    max_out_length = min(len(verse_props), 50)\n",
        "    most_similar_verses = [(score, verse_id, quran_clean_text[verse_id])\n",
        "                           for score, verse_id in verse_props[:max_out_length]]\n",
        "    return most_similar_verses"
      ]
    },
    {
      "cell_type": "markdown",
      "metadata": {
        "id": "3Sj69jOCxdLx"
      },
      "source": [
        "## Testing on Quran by the loaded models"
      ]
    },
    {
      "cell_type": "markdown",
      "metadata": {
        "id": "3F4ilAvyfsDv"
      },
      "source": [
        "### AraVec cbow_300_wiki"
      ]
    },
    {
      "cell_type": "code",
      "execution_count": 49,
      "metadata": {
        "colab": {
          "base_uri": "https://localhost:8080/"
        },
        "id": "XPKYCm52EoRa",
        "outputId": "1db4d924-f275-41b0-8d37-714ff87bfdac"
      },
      "outputs": [
        {
          "data": {
            "text/plain": [
              "[(0.53681993, 3693, 'وقالوا الحمد لله الذي أذهب عنا الحزن إن ربنا لغفور شكور'),\n",
              " (0.53681993,\n",
              "  1679,\n",
              "  'وتولى عنهم وقال يا أسفى على يوسف وابيضت عيناه من الحزن فهو كظيم'),\n",
              " (0.5333835,\n",
              "  80,\n",
              "  'ثم قست قلوبكم من بعد ذلك فهي كالحجارة أو أشد قسوة وإن من الحجارة لما يتفجر منه الأنهار وإن منها لما يشقق فيخرج منه الماء وإن منها لما يهبط من خشية الله وما الله بغافل عما تعملون'),\n",
              " (0.5307898,\n",
              "  3261,\n",
              "  'وأصبح فؤاد أم موسى فارغا إن كادت لتبدي به لولا أن ربطنا على قلبها لتكون من المؤمنين'),\n",
              " (0.5268251,\n",
              "  1767,\n",
              "  'مثل الذين كفروا بربهم أعمالهم كرماد اشتدت به الريح في يوم عاصف لا يقدرون مما كسبوا على شيء ذلك هو الضلال البعيد'),\n",
              " (0.5268251,\n",
              "  1385,\n",
              "  'هو الذي يسيركم في البر والبحر حتى إذا كنتم في الفلك وجرين بهم بريح طيبة وفرحوا بها جاءتها ريح عاصف وجاءهم الموج من كل مكان وظنوا أنهم أحيط بهم دعوا الله مخلصين له الدين لئن أنجيتنا من هذه لنكونن من الشاكرين'),\n",
              " (0.52408904, 6196, 'الذي أطعمهم من جوع وآمنهم من خوف'),\n",
              " (0.52408904, 5973, 'لا يسمن ولا يغني من جوع'),\n",
              " (0.505594,\n",
              "  2585,\n",
              "  'لا يحزنهم الفزع الأكبر وتتلقاهم الملائكة هذا يومكم الذي كنتم توعدون'),\n",
              " (0.5033926,\n",
              "  5209,\n",
              "  'ما أصاب من مصيبة إلا بإذن الله ومن يؤمن بالله يهد قلبه والله بكل شيء عليم')]"
            ]
          },
          "execution_count": 49,
          "metadata": {},
          "output_type": "execute_result"
        }
      ],
      "source": [
        "get_most_similar_verses_by_query_word(\"هدوء\", (model_wiki, 'WIKI'), get_verse_max_score)[:10]"
      ]
    },
    {
      "cell_type": "code",
      "execution_count": 50,
      "metadata": {
        "colab": {
          "base_uri": "https://localhost:8080/"
        },
        "id": "-tsGfrP4EyqR",
        "outputId": "d10e48f6-019c-4699-c3a0-f362c6065d20"
      },
      "outputs": [
        {
          "data": {
            "text/plain": [
              "[(6,\n",
              "  1390,\n",
              "  'والذين كسبوا السيئات جزاء سيئة بمثلها وترهقهم ذلة ما لهم من الله من عاصم كأنما أغشيت وجوههم قطعا من الليل مظلما أولئك أصحاب النار هم فيها خالدون'),\n",
              " (5,\n",
              "  4588,\n",
              "  'ويعذب المنافقين والمنافقات والمشركين والمشركات الظانين بالله ظن السوء عليهم دائرة السوء وغضب الله عليهم ولعنهم وأعد لهم جهنم وساءت مصيرا'),\n",
              " (5,\n",
              "  3280,\n",
              "  'فلما قضى موسى الأجل وسار بأهله آنس من جانب الطور نارا قال لأهله امكثوا إني آنست نارا لعلي آتيكم منها بخبر أو جذوة من النار لعلكم تصطلون'),\n",
              " (5,\n",
              "  3168,\n",
              "  'وألق عصاك فلما رآها تهتز كأنها جان ولى مدبرا ولم يعقب يا موسى لا تخف إني لا يخاف لدي المرسلون'),\n",
              " (5,\n",
              "  2853,\n",
              "  'لا تجعلوا دعاء الرسول بينكم كدعاء بعضكم بعضا قد يعلم الله الذين يتسللون منكم لواذا فليحذر الذين يخالفون عن أمره أن تصيبهم فتنة أو يصيبهم عذاب أليم'),\n",
              " (5,\n",
              "  1723,\n",
              "  'أنزل من السماء ماء فسالت أودية بقدرها فاحتمل السيل زبدا رابيا ومما يوقدون عليه في النار ابتغاء حلية أو متاع زبد مثله كذلك يضرب الله الحق والباطل فأما الزبد فيذهب جفاء وأما ما ينفع الناس فيمكث في الأرض كذلك يضرب الله الأمثال'),\n",
              " (5,\n",
              "  410,\n",
              "  'يا أيها الذين آمنوا لا تتخذوا بطانة من دونكم لا يألونكم خبالا ودوا ما عنتم قد بدت البغضاء من أفواههم وما تخفي صدورهم أكبر قد بينا لكم الآيات إن كنتم تعقلون'),\n",
              " (5,\n",
              "  171,\n",
              "  'ومن الناس من يتخذ من دون الله أندادا يحبونهم كحب الله والذين آمنوا أشد حبا لله ولو يرى الذين ظلموا إذ يرون العذاب أن القوة لله جميعا وأن الله شديد العذاب'),\n",
              " (4,\n",
              "  5525,\n",
              "  'وما جعلنا أصحاب النار إلا ملائكة وما جعلنا عدتهم إلا فتنة للذين كفروا ليستيقن الذين أوتوا الكتاب ويزداد الذين آمنوا إيمانا ولا يرتاب الذين أوتوا الكتاب والمؤمنون وليقول الذين في قلوبهم مرض والكافرون ماذا أراد الله بهذا مثلا كذلك يضل الله من يشاء ويهدي من يشاء وما يعلم جنود ربك إلا هو وما هي إلا ذكرى للبشر'),\n",
              " (4,\n",
              "  5494,\n",
              "  'إن ربك يعلم أنك تقوم أدنى من ثلثي الليل ونصفه وثلثه وطائفة من الذين معك والله يقدر الليل والنهار علم أن لن تحصوه فتاب عليكم فاقرءوا ما تيسر من القرآن علم أن سيكون منكم مرضى وآخرون يضربون في الأرض يبتغون من فضل الله وآخرون يقاتلون في سبيل الله فاقرءوا ما تيسر منه وأقيموا الصلاة وآتوا الزكاة وأقرضوا الله قرضا حسنا وما تقدموا لأنفسكم من خير تجدوه عند الله هو خيرا وأعظم أجرا واستغفروا الله إن الله غفور رحيم')]"
            ]
          },
          "execution_count": 50,
          "metadata": {},
          "output_type": "execute_result"
        }
      ],
      "source": [
        "get_most_similar_verses_by_query_word(\"هدوء\", (model_wiki, 'WIKI'), get_verse_frequency_score)[:10]"
      ]
    },
    {
      "cell_type": "code",
      "execution_count": 51,
      "metadata": {
        "colab": {
          "base_uri": "https://localhost:8080/"
        },
        "id": "5YbfpuTfonJ_",
        "outputId": "a1650fa6-44c9-4956-e098-01ec007088b8"
      },
      "outputs": [
        {
          "data": {
            "text/plain": [
              "[(0.2994438757499059, 5913, 'النار ذات الوقود'),\n",
              " (0.298277348279953, 4981, 'خافضة رافعة'),\n",
              " (0.2895754352211952, 3354, 'فأنجيناه وأصحاب السفينة وجعلناها آية للعالمين'),\n",
              " (0.26430097222328186, 5677, 'ألم نجعل الأرض مهادا'),\n",
              " (0.26430097222328186, 5646, 'ألم نجعل الأرض كفاتا'),\n",
              " (0.26290107518434525, 5434, 'وجعل القمر فيهن نورا وجعل الشمس سراجا'),\n",
              " (0.24571284651756287, 3060, 'وتتخذون مصانع لعلكم تخلدون'),\n",
              " (0.2249307706952095, 5937, 'يخرج من بين الصلب والترائب'),\n",
              " (0.22046978771686554, 3059, 'أتبنون بكل ريع آية تعبثون'),\n",
              " (0.2126622125506401, 6191, 'ترميهم بحجارة من سجيل')]"
            ]
          },
          "execution_count": 51,
          "metadata": {},
          "output_type": "execute_result"
        }
      ],
      "source": [
        "get_most_similar_verses_by_query_word(\"الصواريخ\", (model_wiki, 'WIKI'), get_verse_avg_score)[:10]"
      ]
    },
    {
      "cell_type": "markdown",
      "metadata": {
        "id": "2vbrJ-cLyhy-"
      },
      "source": [
        "### AraVec cbow_300_twitter"
      ]
    },
    {
      "cell_type": "code",
      "execution_count": 54,
      "metadata": {
        "colab": {
          "base_uri": "https://localhost:8080/"
        },
        "id": "EMp-wGq-Cm3P",
        "outputId": "07efe064-a2e0-4408-f115-adfbd06ad1be"
      },
      "outputs": [
        {
          "data": {
            "text/plain": [
              "[(1.0,\n",
              "  5236,\n",
              "  'يا أيها الذين آمنوا توبوا إلى الله توبة نصوحا عسى ربكم أن يكفر عنكم سيئاتكم ويدخلكم جنات تجري من تحتها الأنهار يوم لا يخزي الله النبي والذين آمنوا معه نورهم يسعى بين أيديهم وبأيمانهم يقولون ربنا أتمم لنا نورنا واغفر لنا إنك على كل شيء قدير'),\n",
              " (1.0,\n",
              "  584,\n",
              "  'وما كان لمؤمن أن يقتل مؤمنا إلا خطأ ومن قتل مؤمنا خطأ فتحرير رقبة مؤمنة ودية مسلمة إلى أهله إلا أن يصدقوا فإن كان من قوم عدو لكم وهو مؤمن فتحرير رقبة مؤمنة وإن كان من قوم بينكم وبينهم ميثاق فدية مسلمة إلى أهله وتحرير رقبة مؤمنة فمن لم يجد فصيام شهرين متتابعين توبة من الله وكان الله عليما حكيما'),\n",
              " (0.50092214,\n",
              "  4296,\n",
              "  'وهو الذي يقبل التوبة عن عباده ويعفو عن السيئات ويعلم ما تفعلون'),\n",
              " (0.50092214,\n",
              "  1338,\n",
              "  'ألم يعلموا أن الله هو يقبل التوبة عن عباده ويأخذ الصدقات وأن الله هو التواب الرحيم'),\n",
              " (0.50092214,\n",
              "  510,\n",
              "  'وليست التوبة للذين يعملون السيئات حتى إذا حضر أحدهم الموت قال إني تبت الآن ولا الذين يموتون وهم كفار أولئك أعتدنا لهم عذابا أليما'),\n",
              " (0.50092214,\n",
              "  509,\n",
              "  'إنما التوبة على الله للذين يعملون السوء بجهالة ثم يتوبون من قريب فأولئك يتوب الله عليهم وكان الله عليما حكيما'),\n",
              " (0.40583217, 5252, 'إن الذين يخشون ربهم بالغيب لهم مغفرة وأجر كبير'),\n",
              " (0.40583217,\n",
              "  5095,\n",
              "  'سابقوا إلى مغفرة من ربكم وجنة عرضها كعرض السماء والأرض أعدت للذين آمنوا بالله ورسله ذلك فضل الله يؤتيه من يشاء والله ذو الفضل العظيم'),\n",
              " (0.40583217,\n",
              "  4614,\n",
              "  'إن الذين يغضون أصواتهم عند رسول الله أولئك الذين امتحن الله قلوبهم للتقوى لهم مغفرة وأجر عظيم'),\n",
              " (0.40583217,\n",
              "  4611,\n",
              "  'محمد رسول الله والذين معه أشداء على الكفار رحماء بينهم تراهم ركعا سجدا يبتغون فضلا من الله ورضوانا سيماهم في وجوههم من أثر السجود ذلك مثلهم في التوراة ومثلهم في الإنجيل كزرع أخرج شطأه فآزره فاستغلظ فاستوى على سوقه يعجب الزراع ليغيظ بهم الكفار وعد الله الذين آمنوا وعملوا الصالحات منهم مغفرة وأجرا عظيما')]"
            ]
          },
          "execution_count": 54,
          "metadata": {},
          "output_type": "execute_result"
        }
      ],
      "source": [
        "get_most_similar_verses_by_query_word(\"توبة\", (model_tw, 'TWITTER'), get_verse_max_score)[:10]"
      ]
    },
    {
      "cell_type": "code",
      "execution_count": 55,
      "metadata": {
        "colab": {
          "base_uri": "https://localhost:8080/"
        },
        "id": "Glnz2yA0Fasi",
        "outputId": "d859be5c-9386-4411-c1f6-33e6126d779c"
      },
      "outputs": [
        {
          "data": {
            "text/plain": [
              "[(0.43591708,\n",
              "  1259,\n",
              "  'لقد نصركم الله في مواطن كثيرة ويوم حنين إذ أعجبتكم كثرتكم فلم تغن عنكم شيئا وضاقت عليكم الأرض بما رحبت ثم وليتم مدبرين'),\n",
              " (0.40902033, 1905, 'والأنعام خلقها لكم فيها دفء ومنافع ومنها تأكلون'),\n",
              " (0.40315998,\n",
              "  4613,\n",
              "  'يا أيها الذين آمنوا لا ترفعوا أصواتكم فوق صوت النبي ولا تجهروا له بالقول كجهر بعضكم لبعض أن تحبط أعمالكم وأنتم لا تشعرون'),\n",
              " (0.39123854, 1792, 'مهطعين مقنعي رءوسهم لا يرتد إليهم طرفهم وأفئدتهم هواء'),\n",
              " (0.3648635, 3216, 'وأمطرنا عليهم مطرا فساء مطر المنذرين'),\n",
              " (0.3648635, 3104, 'وأمطرنا عليهم مطرا فساء مطر المنذرين'),\n",
              " (0.3648635,\n",
              "  2894,\n",
              "  'ولقد أتوا على القرية التي أمطرت مطر السوء أفلم يكونوا يرونها بل كانوا لا يرجون نشورا'),\n",
              " (0.3648635,\n",
              "  594,\n",
              "  'وإذا كنت فيهم فأقمت لهم الصلاة فلتقم طائفة منهم معك وليأخذوا أسلحتهم فإذا سجدوا فليكونوا من ورائكم ولتأت طائفة أخرى لم يصلوا فليصلوا معك وليأخذوا حذرهم وأسلحتهم ود الذين كفروا لو تغفلون عن أسلحتكم وأمتعتكم فيميلون عليكم ميلة واحدة ولا جناح عليكم إن كان بكم أذى من مطر أو كنتم مرضى أن تضعوا أسلحتكم وخذوا حذركم إن الله أعد للكافرين عذابا مهينا'),\n",
              " (0.36153227, 6194, 'إيلافهم رحلة الشتاء والصيف'),\n",
              " (0.35990024, 3487, 'واقصد في مشيك واغضض من صوتك إن أنكر الأصوات لصوت الحمير')]"
            ]
          },
          "execution_count": 55,
          "metadata": {},
          "output_type": "execute_result"
        }
      ],
      "source": [
        "get_most_similar_verses_by_query_word(\"هدوء\", (model_tw, 'TWITTER'), get_verse_max_score)[:10]"
      ]
    },
    {
      "cell_type": "code",
      "execution_count": 56,
      "metadata": {
        "colab": {
          "base_uri": "https://localhost:8080/"
        },
        "id": "E5tnRe5xzBZw",
        "outputId": "416d3254-7b21-4c9e-b134-e58b1c3cfba4"
      },
      "outputs": [
        {
          "data": {
            "text/plain": [
              "[(5,\n",
              "  1732,\n",
              "  'الله يبسط الرزق لمن يشاء ويقدر وفرحوا بالحياة الدنيا وما الحياة الدنيا في الآخرة إلا متاع'),\n",
              " (4,\n",
              "  5094,\n",
              "  'اعلموا أنما الحياة الدنيا لعب ولهو وزينة وتفاخر بينكم وتكاثر في الأموال والأولاد كمثل غيث أعجب الكفار نباته ثم يهيج فتراه مصفرا ثم يكون حطاما وفي الآخرة عذاب شديد ومغفرة من الله ورضوان وما الحياة الدنيا إلا متاع الغرور'),\n",
              " (4,\n",
              "  3551,\n",
              "  'أشحة عليكم فإذا جاء الخوف رأيتهم ينظرون إليك تدور أعينهم كالذي يغشى عليه من الموت فإذا ذهب الخوف سلقوكم بألسنة حداد أشحة على الخير أولئك لم يؤمنوا فأحبط الله أعمالهم وكان ذلك على الله يسيرا'),\n",
              " (4,\n",
              "  1272,\n",
              "  'يا أيها الذين آمنوا ما لكم إذا قيل لكم انفروا في سبيل الله اثاقلتم إلى الأرض أرضيتم بالحياة الدنيا من الآخرة فما متاع الحياة الدنيا في الآخرة إلا قليل'),\n",
              " (4,\n",
              "  774,\n",
              "  'يا أيها الذين آمنوا شهادة بينكم إذا حضر أحدكم الموت حين الوصية اثنان ذوا عدل منكم أو آخران من غيركم إن أنتم ضربتم في الأرض فأصابتكم مصيبة الموت تحبسونهما من بعد الصلاة فيقسمان بالله إن ارتبتم لا نشتري به ثمنا ولو كان ذا قربى ولا نكتم شهادة الله إنا إذا لمن الآثمين'),\n",
              " (4,\n",
              "  477,\n",
              "  'كل نفس ذائقة الموت وإنما توفون أجوركم يوم القيامة فمن زحزح عن النار وأدخل الجنة فقد فاز وما الحياة الدنيا إلا متاع الغرور'),\n",
              " (3,\n",
              "  5494,\n",
              "  'إن ربك يعلم أنك تقوم أدنى من ثلثي الليل ونصفه وثلثه وطائفة من الذين معك والله يقدر الليل والنهار علم أن لن تحصوه فتاب عليكم فاقرءوا ما تيسر من القرآن علم أن سيكون منكم مرضى وآخرون يضربون في الأرض يبتغون من فضل الله وآخرون يقاتلون في سبيل الله فاقرءوا ما تيسر منه وأقيموا الصلاة وآتوا الزكاة وأقرضوا الله قرضا حسنا وما تقدموا لأنفسكم من خير تجدوه عند الله هو خيرا وأعظم أجرا واستغفروا الله إن الله غفور رحيم'),\n",
              " (3, 2237, 'قال هذا رحمة من ربي فإذا جاء وعد ربي جعله دكاء وكان وعد ربي حقا'),\n",
              " (3,\n",
              "  2184,\n",
              "  'واضرب لهم مثل الحياة الدنيا كماء أنزلناه من السماء فاختلط به نبات الأرض فأصبح هشيما تذروه الرياح وكان الله على كل شيء مقتدرا'),\n",
              " (3,\n",
              "  2167,\n",
              "  'واصبر نفسك مع الذين يدعون ربهم بالغداة والعشي يريدون وجهه ولا تعد عيناك عنهم تريد زينة الحياة الدنيا ولا تطع من أغفلنا قلبه عن ذكرنا واتبع هواه وكان أمره فرطا')]"
            ]
          },
          "execution_count": 56,
          "metadata": {},
          "output_type": "execute_result"
        }
      ],
      "source": [
        "get_most_similar_verses_by_query_word(\"الراحة\", (model_tw, 'TWITTER'), get_verse_frequency_score)[:10]"
      ]
    },
    {
      "cell_type": "code",
      "execution_count": 52,
      "metadata": {
        "colab": {
          "base_uri": "https://localhost:8080/"
        },
        "id": "AEY5u2IeuEwI",
        "outputId": "10289079-47fc-443b-af4b-c712d894f23f"
      },
      "outputs": [
        {
          "data": {
            "text/plain": [
              "[(0.35617557168006897, 5681, 'وجعلنا الليل لباسا'),\n",
              " (0.3175879716873169, 6084, 'ألم يجدك يتيما فآوى'),\n",
              " (0.26131783922513324, 5022, 'لا بارد ولا كريم'),\n",
              " (0.25994470715522766, 6061, 'إن سعيكم لشتى'),\n",
              " (0.25994470715522766, 4456, 'إن شجرت الزقوم'),\n",
              " (0.25994470715522766, 3891, 'وناديناه أن يا إبراهيم'),\n",
              " (0.25994470715522766, 3791, 'إن إلهكم لواحد'),\n",
              " (0.25994470715522766, 2550, 'قالوا حرقوه وانصروا آلهتكم إن كنتم فاعلين'),\n",
              " (0.25994470715522766,\n",
              "  1447,\n",
              "  'وقال موسى يا قوم إن كنتم آمنتم بالله فعليه توكلوا إن كنتم مسلمين'),\n",
              " (0.25622887909412384,\n",
              "  2410,\n",
              "  'قالوا إن هذان لساحران يريدان أن يخرجاكم من أرضكم بسحرهما ويذهبا بطريقتكم المثلى')]"
            ]
          },
          "execution_count": 52,
          "metadata": {},
          "output_type": "execute_result"
        }
      ],
      "source": [
        "get_most_similar_verses_by_query_word(\"هدوء\", (model_tw, 'TWITTER'), get_verse_avg_score)[:10]"
      ]
    },
    {
      "cell_type": "markdown",
      "metadata": {
        "id": "YzV3oDnPh2IK"
      },
      "source": [
        "### KSUCCA full_cbow"
      ]
    },
    {
      "cell_type": "code",
      "execution_count": 60,
      "metadata": {
        "colab": {
          "base_uri": "https://localhost:8080/"
        },
        "id": "GkSi5bLfFslL",
        "outputId": "2f0298a7-b8c7-4803-ce01-5394084f4a2d"
      },
      "outputs": [
        {
          "data": {
            "text/plain": [
              "[(0.33699578, 5680, 'وجعلنا نومكم سباتا'),\n",
              " (0.33699578,\n",
              "  2901,\n",
              "  'وهو الذي جعل لكم الليل لباسا والنوم سباتا وجعل النهار نشورا'),\n",
              " (0.33044893, 5817, 'والصبح إذا تنفس'),\n",
              " (0.3220397, 62, 'ثم بعثناكم من بعد موتكم لعلكم تشكرون'),\n",
              " (0.31106934,\n",
              "  446,\n",
              "  'ثم أنزل عليكم من بعد الغم أمنة نعاسا يغشى طائفة منكم وطائفة قد أهمتهم أنفسهم يظنون بالله غير الحق ظن الجاهلية يقولون هل لنا من الأمر من شيء قل إن الأمر كله لله يخفون في أنفسهم ما لا يبدون لك يقولون لو كان لنا من الأمر شيء ما قتلنا هاهنا قل لو كنتم في بيوتكم لبرز الذين كتب عليهم القتل إلى مضاجعهم وليبتلي الله ما في صدوركم وليمحص ما في قلوبكم والله عليم بذات الصدور'),\n",
              " (0.31055403, 6079, 'بسم الله الرحمن الرحيم والضحى'),\n",
              " (0.299146,\n",
              "  261,\n",
              "  'الله لا إله إلا هو الحي القيوم لا تأخذه سنة ولا نوم له ما في السماوات وما في الأرض من ذا الذي يشفع عنده إلا بإذنه يعلم ما بين أيديهم وما خلفهم ولا يحيطون بشيء من علمه إلا بما شاء وسع كرسيه السماوات والأرض ولا يئوده حفظهما وهو العلي العظيم'),\n",
              " (0.2896562,\n",
              "  4267,\n",
              "  'ولئن أذقناه رحمة منا من بعد ضراء مسته ليقولن هذا لي وما أظن الساعة قائمة ولئن رجعت إلى ربي إن لي عنده للحسنى فلننبئن الذين كفروا بما عملوا ولنذيقنهم من عذاب غليظ'),\n",
              " (0.2896562,\n",
              "  1482,\n",
              "  'ولئن أذقناه نعماء بعد ضراء مسته ليقولن ذهب السيئات عني إنه لفرح فخور'),\n",
              " (0.2896562,\n",
              "  1384,\n",
              "  'وإذا أذقنا الناس رحمة من بعد ضراء مستهم إذا لهم مكر في آياتنا قل الله أسرع مكرا إن رسلنا يكتبون ما تمكرون')]"
            ]
          },
          "execution_count": 60,
          "metadata": {},
          "output_type": "execute_result"
        }
      ],
      "source": [
        "get_most_similar_verses_by_query_word(\"هدوء\", (model_ksucca, 'KSUCCA'), get_verse_max_score)[:10]"
      ]
    },
    {
      "cell_type": "code",
      "execution_count": 61,
      "metadata": {
        "colab": {
          "base_uri": "https://localhost:8080/"
        },
        "id": "i_v8zySDYPse",
        "outputId": "4f98ac9b-25a9-4833-898b-d22dbab20f66"
      },
      "outputs": [
        {
          "data": {
            "text/plain": [
              "[(2, 4960, 'هل جزاء الإحسان إلا الإحسان'),\n",
              " (2, 2183, 'هنالك الولاية لله الحق هو خير ثوابا وخير عقبا'),\n",
              " (2,\n",
              "  2062,\n",
              "  'ولا تقربوا مال اليتيم إلا بالتي هي أحسن حتى يبلغ أشده وأوفوا بالعهد إن العهد كان مسئولا'),\n",
              " (2,\n",
              "  1991,\n",
              "  'وأوفوا بعهد الله إذا عاهدتم ولا تنقضوا الأيمان بعد توكيدها وقد جعلتم الله عليكم كفيلا إن الله يعلم ما تفعلون'),\n",
              " (2,\n",
              "  487,\n",
              "  'فاستجاب لهم ربهم أني لا أضيع عمل عامل منكم من ذكر أو أنثى بعضكم من بعض فالذين هاجروا وأخرجوا من ديارهم وأوذوا في سبيلي وقاتلوا وقتلوا لأكفرن عنهم سيئاتهم ولأدخلنهم جنات تجري من تحتها الأنهار ثوابا من عند الله والله عنده حسن الثواب'),\n",
              " (2,\n",
              "  86,\n",
              "  'وقالوا لن تمسنا النار إلا أياما معدودة قل أتخذتم عند الله عهدا فلن يخلف الله عهده أم تقولون على الله ما لا تعلمون'),\n",
              " (1, 6178, 'إلا الذين آمنوا وعملوا الصالحات وتواصوا بالحق وتواصوا بالصبر'),\n",
              " (1, 6039, 'ثم كان من الذين آمنوا وتواصوا بالصبر وتواصوا بالمرحمة'),\n",
              " (1, 5940, 'فما له من قوة ولا ناصر'),\n",
              " (1, 5749, 'وآثر الحياة الدنيا')]"
            ]
          },
          "execution_count": 61,
          "metadata": {},
          "output_type": "execute_result"
        }
      ],
      "source": [
        "get_most_similar_verses_by_query_word(\"الوفاء\", (model_ksucca, 'KSUCCA'), get_verse_frequency_score)[:10]"
      ]
    },
    {
      "cell_type": "code",
      "execution_count": 62,
      "metadata": {
        "colab": {
          "base_uri": "https://localhost:8080/"
        },
        "id": "0jhJ1fRXFrlg",
        "outputId": "d98ed3e0-cff2-4fad-a608-c3141d632c34"
      },
      "outputs": [
        {
          "data": {
            "text/plain": [
              "[(2, 2901, 'وهو الذي جعل لكم الليل لباسا والنوم سباتا وجعل النهار نشورا'),\n",
              " (1, 6079, 'بسم الله الرحمن الرحيم والضحى'),\n",
              " (1, 5817, 'والصبح إذا تنفس'),\n",
              " (1, 5680, 'وجعلنا نومكم سباتا'),\n",
              " (1,\n",
              "  446,\n",
              "  'ثم أنزل عليكم من بعد الغم أمنة نعاسا يغشى طائفة منكم وطائفة قد أهمتهم أنفسهم يظنون بالله غير الحق ظن الجاهلية يقولون هل لنا من الأمر من شيء قل إن الأمر كله لله يخفون في أنفسهم ما لا يبدون لك يقولون لو كان لنا من الأمر شيء ما قتلنا هاهنا قل لو كنتم في بيوتكم لبرز الذين كتب عليهم القتل إلى مضاجعهم وليبتلي الله ما في صدوركم وليمحص ما في قلوبكم والله عليم بذات الصدور'),\n",
              " (1, 62, 'ثم بعثناكم من بعد موتكم لعلكم تشكرون'),\n",
              " (0, 6235, 'من الجنة والناس'),\n",
              " (0, 6234, 'الذي يوسوس في صدور الناس'),\n",
              " (0, 6233, 'من شر الوسواس الخناس'),\n",
              " (0, 6232, 'إله الناس')]"
            ]
          },
          "execution_count": 62,
          "metadata": {},
          "output_type": "execute_result"
        }
      ],
      "source": [
        "get_most_similar_verses_by_query_word(\"هدوء\", (model_ksucca, 'KSUCCA'), get_verse_frequency_score)[:10]"
      ]
    },
    {
      "cell_type": "code",
      "execution_count": 58,
      "metadata": {
        "colab": {
          "base_uri": "https://localhost:8080/"
        },
        "id": "FGXhhprbz5jA",
        "outputId": "7a9eefbd-a1bd-40af-90dd-e023f65e7ae5"
      },
      "outputs": [
        {
          "data": {
            "text/plain": [
              "[(0.2579765319824219, 3943, 'أم لكم سلطان مبين'),\n",
              " (0.2246875762939453, 4788, 'علمه شديد القوى'),\n",
              " (0.21949513256549835, 5910, 'واليوم الموعود'),\n",
              " (0.19739185273647308, 2262, 'وحنانا من لدنا وزكاة وكان تقيا'),\n",
              " (0.19041509181261063, 3410, 'غلبت الروم'),\n",
              " (0.1840280145406723, 5852, 'ليوم عظيم'),\n",
              " (0.1762766788403193, 5512, 'إنه فكر وقدر'),\n",
              " (0.17603401839733124, 4902, 'علم القرآن'),\n",
              " (0.17246948927640915, 5773, 'كرام بررة'),\n",
              " (0.16737867891788483, 5922, 'وهو الغفور الودود')]"
            ]
          },
          "execution_count": 58,
          "metadata": {},
          "output_type": "execute_result"
        }
      ],
      "source": [
        "get_most_similar_verses_by_query_word(\"شجاعة\", (model_ksucca, 'KSUCCA'), get_verse_avg_score)[:10]"
      ]
    },
    {
      "cell_type": "code",
      "execution_count": 59,
      "metadata": {
        "colab": {
          "base_uri": "https://localhost:8080/"
        },
        "id": "TUaI8ksGh9N6",
        "outputId": "05e2641a-068e-4cf8-e57c-8ae6aa053334"
      },
      "outputs": [
        {
          "data": {
            "text/plain": [
              "[(0.2972675710916519, 5680, 'وجعلنا نومكم سباتا'),\n",
              " (0.20586979389190674, 5755, 'إلى ربك منتهاها'),\n",
              " (0.20282242695490518, 5902, 'لتركبن طبقا عن طبق'),\n",
              " (0.20207566767930984, 5733, 'ثم أدبر يسعى'),\n",
              " (0.20207566767930984, 5517, 'ثم أدبر واستكبر'),\n",
              " (0.1981704756617546, 5713, 'والناشطات نشطا'),\n",
              " (0.19686564803123474, 5714, 'والسابحات سبحا'),\n",
              " (0.19665132462978363, 5951, 'والذي أخرج المرعى'),\n",
              " (0.19460177421569824, 5817, 'والصبح إذا تنفس'),\n",
              " (0.19293488065401712, 5816, 'والليل إذا عسعس')]"
            ]
          },
          "execution_count": 59,
          "metadata": {},
          "output_type": "execute_result"
        }
      ],
      "source": [
        "get_most_similar_verses_by_query_word(\"هدوء\", (model_ksucca, 'KSUCCA'), get_verse_avg_score)[:10]"
      ]
    },
    {
      "cell_type": "markdown",
      "metadata": {
        "id": "Z9ujlM7n3kcF"
      },
      "source": [
        "### FastText Arabic CBOW-300"
      ]
    },
    {
      "cell_type": "code",
      "execution_count": 70,
      "metadata": {
        "colab": {
          "base_uri": "https://localhost:8080/"
        },
        "id": "XGT3oA4eV29I",
        "outputId": "b0139697-35cc-4c0c-d32e-03b958b6a6bf"
      },
      "outputs": [
        {
          "data": {
            "text/plain": [
              "[(0.50314784, 5265, 'ويقولون متى هذا الوعد إن كنتم صادقين'),\n",
              " (0.50314784, 3752, 'ويقولون متى هذا الوعد إن كنتم صادقين'),\n",
              " (0.50314784, 3634, 'ويقولون متى هذا الوعد إن كنتم صادقين'),\n",
              " (0.50314784, 3229, 'ويقولون متى هذا الوعد إن كنتم صادقين'),\n",
              " (0.50314784,\n",
              "  2579,\n",
              "  'واقترب الوعد الحق فإذا هي شاخصة أبصار الذين كفروا يا ويلنا قد كنا في غفلة من هذا بل كنا ظالمين'),\n",
              " (0.50314784, 2520, 'ويقولون متى هذا الوعد إن كنتم صادقين'),\n",
              " (0.50314784, 2491, 'ثم صدقناهم الوعد فأنجيناهم ومن نشاء وأهلكنا المسرفين'),\n",
              " (0.50314784,\n",
              "  2303,\n",
              "  'واذكر في الكتاب إسماعيل إنه كان صادق الوعد وكان رسولا نبيا'),\n",
              " (0.50314784, 1411, 'ويقولون متى هذا الوعد إن كنتم صادقين'),\n",
              " (0.4954666,\n",
              "  4525,\n",
              "  'أولئك الذين نتقبل عنهم أحسن ما عملوا ونتجاوز عن سيئاتهم في أصحاب الجنة وعد الصدق الذي كانوا يوعدون')]"
            ]
          },
          "execution_count": 70,
          "metadata": {},
          "output_type": "execute_result"
        }
      ],
      "source": [
        "get_most_similar_verses_by_query_word(\"الوفاء\", (model_fasttext, 'FASTTEXT'), get_verse_max_score)[:10]"
      ]
    },
    {
      "cell_type": "code",
      "execution_count": 71,
      "metadata": {
        "colab": {
          "base_uri": "https://localhost:8080/"
        },
        "id": "hW9YyE4X3uDo",
        "outputId": "fbf7d026-9448-4114-cf98-1d4b4a9bb205"
      },
      "outputs": [
        {
          "data": {
            "text/plain": [
              "[(0.46643838,\n",
              "  563,\n",
              "  'يا أيها الذين آمنوا خذوا حذركم فانفروا ثبات أو انفروا جميعا'),\n",
              " (0.4216647, 4005, 'فسخرنا له الريح تجري بأمره رخاء حيث أصاب'),\n",
              " (0.41341564, 4663, 'ادخلوها بسلام ذلك يوم الخلود'),\n",
              " (0.41341564, 1847, 'ادخلوها بسلام آمنين'),\n",
              " (0.41341564,\n",
              "  1520,\n",
              "  'قيل يا نوح اهبط بسلام منا وبركات عليك وعلى أمم ممن معك وأمم سنمتعهم ثم يمسهم منا عذاب أليم'),\n",
              " (0.41340402, 3968, 'وسلام على المرسلين'),\n",
              " (0.41340402,\n",
              "  3217,\n",
              "  'قل الحمد لله وسلام على عباده الذين اصطفى آلله خير أما يشركون'),\n",
              " (0.41340402, 2264, 'وسلام عليه يوم ولد ويوم يموت ويوم يبعث حيا'),\n",
              " (0.3914, 6129, 'سلام هي حتى مطلع الفجر'),\n",
              " (0.3914, 4699, 'إذ دخلوا عليه فقالوا سلاما قال سلام قوم منكرون')]"
            ]
          },
          "execution_count": 71,
          "metadata": {},
          "output_type": "execute_result"
        }
      ],
      "source": [
        "get_most_similar_verses_by_query_word(\"هدوء\", (model_fasttext, 'FASTTEXT'), get_verse_max_score)[:10]"
      ]
    },
    {
      "cell_type": "code",
      "execution_count": 72,
      "metadata": {
        "colab": {
          "base_uri": "https://localhost:8080/"
        },
        "id": "0_A91hSF3uLX",
        "outputId": "02a112c1-512a-4ab2-e51a-8944f8ab2d9b"
      },
      "outputs": [
        {
          "data": {
            "text/plain": [
              "[(2,\n",
              "  5260,\n",
              "  'أمن هذا الذي هو جند لكم ينصركم من دون الرحمن إن الكافرون إلا في غرور'),\n",
              " (2,\n",
              "  4608,\n",
              "  'إذ جعل الذين كفروا في قلوبهم الحمية حمية الجاهلية فأنزل الله سكينته على رسوله وعلى المؤمنين وألزمهم كلمة التقوى وكانوا أحق بها وأهلها وكان الله بكل شيء عليما'),\n",
              " (2,\n",
              "  4544,\n",
              "  'فاصبر كما صبر أولو العزم من الرسل ولا تستعجل لهم كأنهم يوم يرون ما يوعدون لم يلبثوا إلا ساعة من نهار بلاغ فهل يهلك إلا القوم الفاسقون'),\n",
              " (2,\n",
              "  4287,\n",
              "  'والذين يحاجون في الله من بعد ما استجيب له حجتهم داحضة عند ربهم وعليهم غضب ولهم عذاب شديد'),\n",
              " (2,\n",
              "  3356,\n",
              "  'إنما تعبدون من دون الله أوثانا وتخلقون إفكا إن الذين تعبدون من دون الله لا يملكون لكم رزقا فابتغوا عند الله الرزق واعبدوه واشكروا له إليه ترجعون'),\n",
              " (2,\n",
              "  3218,\n",
              "  'أمن خلق السماوات والأرض وأنزل لكم من السماء ماء فأنبتنا به حدائق ذات بهجة ما كان لكم أن تنبتوا شجرها أإله مع الله بل هم قوم يعدلون'),\n",
              " (2,\n",
              "  2848,\n",
              "  'يا أيها الذين آمنوا ليستأذنكم الذين ملكت أيمانكم والذين لم يبلغوا الحلم منكم ثلاث مرات من قبل صلاة الفجر وحين تضعون ثيابكم من الظهيرة ومن بعد صلاة العشاء ثلاث عورات لكم ليس عليكم ولا عليهم جناح بعدهن طوافون عليكم بعضكم على بعض كذلك يبين الله لكم الآيات والله عليم حكيم'),\n",
              " (2, 2735, 'بل قلوبهم في غمرة من هذا ولهم أعمال من دون ذلك هم لها عاملون'),\n",
              " (2,\n",
              "  2563,\n",
              "  'ولسليمان الريح عاصفة تجري بأمره إلى الأرض التي باركنا فيها وكنا بكل شيء عالمين'),\n",
              " (2,\n",
              "  2006,\n",
              "  'من كفر بالله من بعد إيمانه إلا من أكره وقلبه مطمئن بالإيمان ولكن من شرح بالكفر صدرا فعليهم غضب من الله ولهم عذاب عظيم')]"
            ]
          },
          "execution_count": 72,
          "metadata": {},
          "output_type": "execute_result"
        }
      ],
      "source": [
        "get_most_similar_verses_by_query_word(\"هدوء\", (model_fasttext, 'FASTTEXT'), get_verse_frequency_score)[:10]"
      ]
    },
    {
      "cell_type": "code",
      "execution_count": 63,
      "metadata": {
        "colab": {
          "base_uri": "https://localhost:8080/"
        },
        "id": "kHhQR8vL-gp-",
        "outputId": "e4863fa1-3dfb-44ad-a9c9-adbef81d5415"
      },
      "outputs": [
        {
          "data": {
            "text/plain": [
              "[(0.28051459789276123, 3896, 'سلام على إبراهيم'),\n",
              " (0.27566253145535785, 1847, 'ادخلوها بسلام آمنين'),\n",
              " (0.26370637615521747, 3917, 'سلام على إل ياسين'),\n",
              " (0.2635757140815258, 6129, 'سلام هي حتى مطلع الفجر'),\n",
              " (0.25783757865428925, 3907, 'سلام على موسى وهارون'),\n",
              " (0.2575249100724856, 3968, 'وسلام على المرسلين'),\n",
              " (0.24845048040151596, 3471, 'هدى ورحمة للمحسنين'),\n",
              " (0.24728529155254364, 1065, 'يأتوك بكل ساحر عليم'),\n",
              " (0.2468289166688919, 4663, 'ادخلوها بسلام ذلك يوم الخلود'),\n",
              " (0.2376958653330803, 5008, 'وظل ممدود')]"
            ]
          },
          "execution_count": 63,
          "metadata": {},
          "output_type": "execute_result"
        }
      ],
      "source": [
        "get_most_similar_verses_by_query_word(\"هدوء\", (model_fasttext, 'FASTTEXT'), get_verse_avg_score)[:10]"
      ]
    },
    {
      "cell_type": "code",
      "execution_count": 65,
      "metadata": {
        "colab": {
          "base_uri": "https://localhost:8080/"
        },
        "id": "qkoIlrInZj18",
        "outputId": "141a3c8d-de95-40a2-bc4a-5d6f83907269"
      },
      "outputs": [
        {
          "data": {
            "text/plain": [
              "[(0.3283767029643059, 4669, 'ومن الليل فسبحه وأدبار السجود'),\n",
              " (0.31168246269226074, 5995, 'والشفع والوتر'),\n",
              " (0.2832338586449623, 4783, 'ومن الليل فسبحه وإدبار النجوم'),\n",
              " (0.2804764628942524,\n",
              "  2106,\n",
              "  'أقم الصلاة لدلوك الشمس إلى غسق الليل وقرآن الفجر إن قرآن الفجر كان مشهودا'),\n",
              " (0.27031098554531735,\n",
              "  309,\n",
              "  'الصابرين والصادقين والقانتين والمنفقين والمستغفرين بالأسحار'),\n",
              " (0.266217365860939, 5816, 'والليل إذا عسعس'),\n",
              " (0.25197137147188187, 4902, 'علم القرآن'),\n",
              " (0.24958699196577072, 5396, 'إلا المصلين'),\n",
              " (0.2486003413796425,\n",
              "  244,\n",
              "  'حافظوا على الصلوات والصلاة الوسطى وقوموا لله قانتين'),\n",
              " (0.24542429558932782, 2502, 'يسبحون الليل والنهار لا يفترون')]"
            ]
          },
          "execution_count": 65,
          "metadata": {},
          "output_type": "execute_result"
        }
      ],
      "source": [
        "get_most_similar_verses_by_query_word(\"التهجد\", (model_fasttext, 'FASTTEXT'), get_verse_avg_score)[:10]"
      ]
    },
    {
      "cell_type": "code",
      "execution_count": 67,
      "metadata": {
        "colab": {
          "base_uri": "https://localhost:8080/"
        },
        "id": "MWDk5P1B0KuN",
        "outputId": "76f94772-ba7c-4843-b91f-0d696201a2e2"
      },
      "outputs": [
        {
          "data": {
            "text/plain": [
              "[(0.3177646646896998, 6019, 'يا أيتها النفس المطمئنة'),\n",
              " (0.29770080745220184, 1847, 'ادخلوها بسلام آمنين'),\n",
              " (0.26301364600658417, 3833, 'بيضاء لذة للشاربين'),\n",
              " (0.25496935844421387, 5072, 'وتصلية جحيم'),\n",
              " (0.25412189215421677, 6196, 'الذي أطعمهم من جوع وآمنهم من خوف'),\n",
              " (0.25089242309331894, 5796, 'ضاحكة مستبشرة'),\n",
              " (0.2484331081310908, 3021, 'وأزلفت الجنة للمتقين'),\n",
              " (0.24673651903867722, 5720, 'أبصارها خاشعة'),\n",
              " (0.246241707354784, 5004, 'إلا قيلا سلاما سلاما'),\n",
              " (0.24427675704161325, 3968, 'وسلام على المرسلين')]"
            ]
          },
          "execution_count": 67,
          "metadata": {},
          "output_type": "execute_result"
        }
      ],
      "source": [
        "get_most_similar_verses_by_query_word(\"طمأنينة\", (model_fasttext, 'FASTTEXT'), get_verse_avg_score)[:10]"
      ]
    },
    {
      "cell_type": "code",
      "execution_count": 68,
      "metadata": {
        "colab": {
          "base_uri": "https://localhost:8080/"
        },
        "id": "1r3G2_1v3t6e",
        "outputId": "e2604e7f-8288-4c26-c175-b5fc209233bb"
      },
      "outputs": [
        {
          "data": {
            "text/plain": [
              "[(0.28051459789276123, 3896, 'سلام على إبراهيم'),\n",
              " (0.27566253145535785, 1847, 'ادخلوها بسلام آمنين'),\n",
              " (0.26370637615521747, 3917, 'سلام على إل ياسين'),\n",
              " (0.2635757140815258, 6129, 'سلام هي حتى مطلع الفجر'),\n",
              " (0.25783757865428925, 3907, 'سلام على موسى وهارون'),\n",
              " (0.2575249100724856, 3968, 'وسلام على المرسلين'),\n",
              " (0.24845048040151596, 3471, 'هدى ورحمة للمحسنين'),\n",
              " (0.24728529155254364, 1065, 'يأتوك بكل ساحر عليم'),\n",
              " (0.2468289166688919, 4663, 'ادخلوها بسلام ذلك يوم الخلود'),\n",
              " (0.2376958653330803, 5008, 'وظل ممدود')]"
            ]
          },
          "execution_count": 68,
          "metadata": {},
          "output_type": "execute_result"
        }
      ],
      "source": [
        "get_most_similar_verses_by_query_word(\"هدوء\", (model_fasttext, 'FASTTEXT'), get_verse_avg_score)[:10]"
      ]
    },
    {
      "cell_type": "markdown",
      "metadata": {
        "id": "sIJE2Bql4Fls"
      },
      "source": [
        "### General Testing"
      ]
    },
    {
      "cell_type": "code",
      "execution_count": 73,
      "metadata": {
        "colab": {
          "base_uri": "https://localhost:8080/"
        },
        "id": "QcjzSA5I7VDa",
        "outputId": "663b5e43-ea4a-4290-cd8c-aaf76b66c7a5"
      },
      "outputs": [
        {
          "data": {
            "text/plain": [
              "['يَا أَيُّهَا الَّذِينَ آمَنُوا أَطِيعُوا اللَّهَ وَأَطِيعُوا الرَّسُولَ وَأُولِي الْأَمْرِ مِنْكُمْ فَإِنْ تَنَازَعْتُمْ فِي شَيْءٍ فَرُدُّوهُ إِلَى اللَّهِ وَالرَّسُولِ إِنْ كُنْتُمْ تُؤْمِنُونَ بِاللَّهِ وَالْيَوْمِ الْآخِرِ ذَلِكَ خَيْرٌ وَأَحْسَنُ تَأْوِيلًا',\n",
              " [[0.23093556, 0.05757772, 0.087316565, 0.07691681],\n",
              "  [0, 0, 0, 0],\n",
              "  [0.0844209166450633,\n",
              "   0.029759011818896397,\n",
              "   0.03572694238807474,\n",
              "   0.058686121233872006]]]"
            ]
          },
          "execution_count": 73,
          "metadata": {},
          "output_type": "execute_result"
        }
      ],
      "source": [
        "query_word = u'الطاعة'\n",
        "verse_text = 'يَا أَيُّهَا الَّذِينَ آمَنُوا أَطِيعُوا اللَّهَ وَأَطِيعُوا الرَّسُولَ وَأُولِي الْأَمْرِ مِنْكُمْ فَإِنْ تَنَازَعْتُمْ فِي شَيْءٍ فَرُدُّوهُ إِلَى اللَّهِ وَالرَّسُولِ إِنْ كُنْتُمْ تُؤْمِنُونَ بِاللَّهِ وَالْيَوْمِ الْآخِرِ ذَلِكَ خَيْرٌ وَأَحْسَنُ تَأْوِيلًا'\n",
        "\n",
        "maxi = [get_verse_max_score(clean(query_word, 'WIKI')[0], verse_text, model_wiki),\n",
        "        get_verse_max_score(clean(query_word, 'TWITTER')[0], verse_text, model_tw),\n",
        "        get_verse_max_score(clean(query_word, 'KSUCCA')[0], verse_text, model_ksucca),\n",
        "        get_verse_max_score(clean(query_word, 'FASTTEXT')[0], verse_text, model_fasttext)]\n",
        "\n",
        "freq = [get_verse_frequency_score(clean(query_word, 'WIKI')[0], verse_text, model_wiki),\n",
        "        get_verse_frequency_score(clean(query_word, 'TWITTER')[0], verse_text, model_tw),\n",
        "        get_verse_frequency_score(clean(query_word, 'KSUCCA')[0], verse_text, model_ksucca),\n",
        "        get_verse_frequency_score(clean(query_word, 'FASTTEXT')[0], verse_text, model_fasttext)]\n",
        "\n",
        "avg = [get_verse_avg_score(clean(query_word, 'WIKI')[0], verse_text, model_wiki),\n",
        "       get_verse_avg_score(clean(query_word, 'TWITTER')[0], verse_text, model_tw),\n",
        "       get_verse_avg_score(clean(query_word, 'KSUCCA')[0], verse_text, model_ksucca),\n",
        "       get_verse_avg_score(clean(query_word, 'FASTTEXT')[0], verse_text, model_fasttext)]\n",
        "\n",
        "[verse_text, [maxi, freq, avg]]"
      ]
    },
    {
      "cell_type": "markdown",
      "metadata": {
        "id": "Rk3aR2OukxoK"
      },
      "source": [
        "# Sentence Embedding"
      ]
    },
    {
      "cell_type": "markdown",
      "metadata": {
        "id": "jVzrMsxUk5Wl"
      },
      "source": [
        "```python\n",
        "query = \"صلاة قيام الليل\"\n",
        "```\n",
        "Important notes:\n",
        "  * In AraVec Twitter model, it is trained on tweets dataset, and by experiments we noticed that they had not removed the underscore character '_' while scraping tweets with hashtags, so a query_word or a verse_word may be one \"صلاة\" or two \"صلاة_القيام\".\n"
      ]
    },
    {
      "cell_type": "markdown",
      "metadata": {
        "id": "0zLFbhtPxy6U"
      },
      "source": [
        "## Most Similar Verses by a Query Text"
      ]
    },
    {
      "cell_type": "code",
      "execution_count": 74,
      "metadata": {
        "id": "k8UoOwFezCSF"
      },
      "outputs": [],
      "source": [
        "from pyarabic.araby import tokenize\n",
        "\n",
        "def get_most_similar_verses_by_query_text(query_text, model, method):\n",
        "    '''\n",
        "    Get the most similar verses to a query text,\n",
        "    according to one model and one of the 3 maximizing methods (max, freq, avg).\n",
        "    Example:\n",
        "    >>> query_text = clean(\"مثوى الكافرين\", ‘KSUCCA’)[0]\n",
        "    >>> get_most_similar_verses_by_query_text(query_text, (model_ksucca, 'KSUCCA'), get_verse_avg_score)[:5]\n",
        "    [(0.46887486428022385, 4025, 'جهنم يصلونها فبئس المهاد'),\n",
        "     (0.4668786823749542, 5693, 'للطاغين مآبا'),\n",
        "     (0.4514587353914976, 1929, 'فادخلوا أبواب جهنم خالدين فيها فلبئس مثوى المتكبرين'),\n",
        "     (0.448849493637681, 4208, 'ادخلوا أبواب جهنم خالدين فيها فبئس مثوى المتكبرين'),\n",
        "     (0.4369580075144768, 1778, 'جهنم يصلونها وبئس القرار')]\n",
        "\n",
        "    @param query_text: query text (one or more words)\n",
        "    @type query_text: str (arabic unicode)\n",
        "    @param model: tuple of the pretrained model to use and its name\n",
        "    @type model: KeyedVectors or Word2Vec\n",
        "    @param method: the maximizing method to use\n",
        "    @type method: function\n",
        "    @return: most similar verses\n",
        "    @rtype: list of tuples (score, verse_id, verse_text)\n",
        "    '''\n",
        "\n",
        "    # Generalized and better than the split method\n",
        "    query_text = tokenize(query_text)\n",
        "\n",
        "    verse2score = {}\n",
        "    for i in range(len(query_text)):\n",
        "        most_similar_verses1 = get_most_similar_verses_by_query_word(query_text[i], model, method)\n",
        "        for score, verse_id, verse in most_similar_verses1:\n",
        "            # Doubling the score for the frequent results\n",
        "            if (verse_id , verse) in verse2score:\n",
        "                verse2score[(verse_id, verse)] += score\n",
        "            else:\n",
        "                verse2score[(verse_id, verse)] = score\n",
        "\n",
        "        # Feature: Comparing a query word of one 'صلاة' or two concatenated words 'صلاة_القيام',\n",
        "        # with a verse word of one or two concatenated words\n",
        "        # WARNING: Works only with AraVec twitter model\n",
        "        if model[1] == 'TWITTER' and i + 1 < len(query_text):\n",
        "            term = query_text[i] + \"_\" + query_text[i + 1]\n",
        "            most_similar_verses2 = get_most_similar_verses_by_query_word(term, model, method)\n",
        "            for score, verse_id, verse in most_similar_verses2:\n",
        "                if (verse_id, verse) in verse2score:\n",
        "                    verse2score[(verse_id, verse)] += score\n",
        "                else:\n",
        "                    verse2score[(verse_id, verse)] = score\n",
        "\n",
        "    best_verses = [(score, verse_id, verse) for (verse_id, verse), score in verse2score.items()]\n",
        "    best_verses.sort(reverse=True)\n",
        "\n",
        "    # Return at most 50 verses\n",
        "    max_out_length = min(len(best_verses), 50)\n",
        "    return best_verses[:max_out_length]"
      ]
    },
    {
      "cell_type": "markdown",
      "metadata": {
        "id": "JU8BqEvPFhxh"
      },
      "source": [
        "### Testing version 1"
      ]
    },
    {
      "cell_type": "code",
      "execution_count": 89,
      "metadata": {
        "colab": {
          "base_uri": "https://localhost:8080/"
        },
        "id": "WjwXd0NGjMFD",
        "outputId": "0263101d-09d3-4fb1-8580-f661bca3adb1"
      },
      "outputs": [
        {
          "data": {
            "text/plain": [
              "[(1.5949079,\n",
              "  1553,\n",
              "  'قالوا يا لوط إنا رسل ربك لن يصلوا إليك فأسر بأهلك بقطع من الليل ولا يلتفت منكم أحد إلا امرأتك إنه مصيبها ما أصابهم إن موعدهم الصبح أليس الصبح بقريب'),\n",
              " (1.0592327,\n",
              "  223,\n",
              "  'يسألونك عن الشهر الحرام قتال فيه قل قتال فيه كبير وصد عن سبيل الله وكفر به والمسجد الحرام وإخراج أهله منه أكبر عند الله والفتنة أكبر من القتل ولا يزالون يقاتلونكم حتى يردوكم عن دينكم إن استطاعوا ومن يرتدد منكم عن دينه فيمت وهو كافر فأولئك حبطت أعمالهم في الدنيا والآخرة وأولئك أصحاب النار هم فيها خالدون'),\n",
              " (1.0, 5681, 'وجعلنا الليل لباسا'),\n",
              " (1.0, 5616, 'ومن الليل فاسجد له وسبحه ليلا طويلا'),\n",
              " (1.0,\n",
              "  5494,\n",
              "  'إن ربك يعلم أنك تقوم أدنى من ثلثي الليل ونصفه وثلثه وطائفة من الذين معك والله يقدر الليل والنهار علم أن لن تحصوه فتاب عليكم فاقرءوا ما تيسر من القرآن علم أن سيكون منكم مرضى وآخرون يضربون في الأرض يبتغون من فضل الله وآخرون يقاتلون في سبيل الله فاقرءوا ما تيسر منه وأقيموا الصلاة وآتوا الزكاة وأقرضوا الله قرضا حسنا وما تقدموا لأنفسكم من خير تجدوه عند الله هو خيرا وأعظم أجرا واستغفروا الله إن الله غفور رحيم'),\n",
              " (1.0, 5480, 'إن ناشئة الليل هي أشد وطئا وأقوم قيلا'),\n",
              " (1.0, 5476, 'قم الليل إلا قليلا'),\n",
              " (1.0,\n",
              "  5080,\n",
              "  'يولج الليل في النهار ويولج النهار في الليل وهو عليم بذات الصدور'),\n",
              " (1.0, 4783, 'ومن الليل فسبحه وإدبار النجوم'),\n",
              " (1.0, 4691, 'كانوا قليلا من الليل ما يهجعون')]"
            ]
          },
          "execution_count": 89,
          "metadata": {},
          "output_type": "execute_result"
        }
      ],
      "source": [
        "get_most_similar_verses_by_query_text(\"التهجد وقيام الليل\", (model_wiki, 'WIKI'), get_verse_max_score)[:10]"
      ]
    },
    {
      "cell_type": "code",
      "execution_count": 87,
      "metadata": {
        "colab": {
          "base_uri": "https://localhost:8080/"
        },
        "id": "MpF-zOWa3KuG",
        "outputId": "79bf05f7-3db6-46e5-b19f-5b5361e8993e"
      },
      "outputs": [
        {
          "data": {
            "text/plain": [
              "[(1.0, 5537, 'قالوا لم نك من المصلين'),\n",
              " (1.0, 5396, 'إلا المصلين'),\n",
              " (0.53869915, 5464, 'وأن المساجد لله فلا تدعوا مع الله أحدا'),\n",
              " (0.53869915,\n",
              "  193,\n",
              "  'أحل لكم ليلة الصيام الرفث إلى نسائكم هن لباس لكم وأنتم لباس لهن علم الله أنكم كنتم تختانون أنفسكم فتاب عليكم وعفا عنكم فالآن باشروهن وابتغوا ما كتب الله لكم وكلوا واشربوا حتى يتبين لكم الخيط الأبيض من الخيط الأسود من الفجر ثم أتموا الصيام إلى الليل ولا تباشروهن وأنتم عاكفون في المساجد تلك حدود الله فلا تقربوها كذلك يبين الله آياته للناس لعلهم يتقون'),\n",
              " (0.5083466,\n",
              "  4609,\n",
              "  'لقد صدق الله رسوله الرؤيا بالحق لتدخلن المسجد الحرام إن شاء الله آمنين محلقين رءوسكم ومقصرين لا تخافون فعلم ما لم تعلموا فجعل من دون ذلك فتحا قريبا'),\n",
              " (0.5083466,\n",
              "  4607,\n",
              "  'هم الذين كفروا وصدوكم عن المسجد الحرام والهدي معكوفا أن يبلغ محله ولولا رجال مؤمنون ونساء مؤمنات لم تعلموهم أن تطئوهم فتصيبكم منهم معرة بغير علم ليدخل الله في رحمته من يشاء لو تزيلوا لعذبنا الذين كفروا منهم عذابا أليما'),\n",
              " (0.5083466,\n",
              "  2035,\n",
              "  'إن أحسنتم أحسنتم لأنفسكم وإن أسأتم فلها فإذا جاء وعد الآخرة ليسوءوا وجوهكم وليدخلوا المسجد كما دخلوه أول مرة وليتبروا ما علوا تتبيرا'),\n",
              " (0.5083466,\n",
              "  2029,\n",
              "  'بسم الله الرحمن الرحيم سبحان الذي أسرى بعبده ليلا من المسجد الحرام إلى المسجد الأقصى الذي باركنا حوله لنريه من آياتنا إنه هو السميع البصير'),\n",
              " (0.5083466,\n",
              "  1262,\n",
              "  'يا أيها الذين آمنوا إنما المشركون نجس فلا يقربوا المسجد الحرام بعد عامهم هذا وإن خفتم عيلة فسوف يغنيكم الله من فضله إن شاء إن الله عليم حكيم'),\n",
              " (0.5083466,\n",
              "  1253,\n",
              "  'أجعلتم سقاية الحاج وعمارة المسجد الحرام كمن آمن بالله واليوم الآخر وجاهد في سبيل الله لا يستوون عند الله والله لا يهدي القوم الظالمين')]"
            ]
          },
          "execution_count": 87,
          "metadata": {},
          "output_type": "execute_result"
        }
      ],
      "source": [
        "get_most_similar_verses_by_query_text('صفات المصلين', (model_tw, 'TWITTER'), get_verse_max_score)[:10]"
      ]
    },
    {
      "cell_type": "code",
      "execution_count": 91,
      "metadata": {
        "colab": {
          "base_uri": "https://localhost:8080/"
        },
        "id": "uT_0xwECsMBi",
        "outputId": "8f96dfa4-30bc-481b-cb8b-7b8be68d5201"
      },
      "outputs": [
        {
          "data": {
            "text/plain": [
              "[(0.30748512264755035,\n",
              "  4296,\n",
              "  'وهو الذي يقبل التوبة عن عباده ويعفو عن السيئات ويعلم ما تفعلون'),\n",
              " (0.28008219599723816, 5808, 'بأي ذنب قتلت'),\n",
              " (0.24939078092575073, 5016, 'لأصحاب اليمين'),\n",
              " (0.2432815883504717,\n",
              "  509,\n",
              "  'إنما التوبة على الله للذين يعملون السوء بجهالة ثم يتوبون من قريب فأولئك يتوب الله عليهم وكان الله عليما حكيما'),\n",
              " (0.2418473412593206, 5542, 'فما تنفعهم شفاعة الشافعين'),\n",
              " (0.24040193855762482, 1152, 'خذ العفو وأمر بالعرف وأعرض عن الجاهلين'),\n",
              " (0.2284503554304441, 4249, 'نزلا من غفور رحيم'),\n",
              " (0.22488315850496293,\n",
              "  1338,\n",
              "  'ألم يعلموا أن الله هو يقبل التوبة عن عباده ويأخذ الصدقات وأن الله هو التواب الرحيم'),\n",
              " (0.21767877042293549, 5806, 'وإذا النفوس زوجت'),\n",
              " (0.2175883710384369,\n",
              "  2924,\n",
              "  'إلا من تاب وآمن وعمل عملا صالحا فأولئك يبدل الله سيئاتهم حسنات وكان الله غفورا رحيما')]"
            ]
          },
          "execution_count": 91,
          "metadata": {},
          "output_type": "execute_result"
        }
      ],
      "source": [
        "get_most_similar_verses_by_query_text('التوبة', (model_ksucca, 'KSUCCA'), get_verse_avg_score)[:10]"
      ]
    },
    {
      "cell_type": "code",
      "execution_count": 97,
      "metadata": {
        "colab": {
          "base_uri": "https://localhost:8080/"
        },
        "id": "BfozdmPls_P3",
        "outputId": "7a3db45b-f95b-42f0-fd24-784fa8ef3fbe"
      },
      "outputs": [
        {
          "data": {
            "text/plain": [
              "[(8,\n",
              "  1991,\n",
              "  'وأوفوا بعهد الله إذا عاهدتم ولا تنقضوا الأيمان بعد توكيدها وقد جعلتم الله عليكم كفيلا إن الله يعلم ما تفعلون'),\n",
              " (6,\n",
              "  2062,\n",
              "  'ولا تقربوا مال اليتيم إلا بالتي هي أحسن حتى يبلغ أشده وأوفوا بالعهد إن العهد كان مسئولا'),\n",
              " (6,\n",
              "  46,\n",
              "  'يا بني إسرائيل اذكروا نعمتي التي أنعمت عليكم وأوفوا بعهدي أوف بعهدكم وإياي فارهبون'),\n",
              " (4,\n",
              "  2844,\n",
              "  'قل أطيعوا الله وأطيعوا الرسول فإن تولوا فإنما عليه ما حمل وعليكم ما حملتم وإن تطيعوه تهتدوا وما على الرسول إلا البلاغ المبين'),\n",
              " (4,\n",
              "  86,\n",
              "  'وقالوا لن تمسنا النار إلا أياما معدودة قل أتخذتم عند الله عهدا فلن يخلف الله عهده أم تقولون على الله ما لا تعلمون'),\n",
              " (3,\n",
              "  5112,\n",
              "  'يا أيها الذين آمنوا إذا تناجيتم فلا تتناجوا بالإثم والعدوان ومعصيت الرسول وتناجوا بالبر والتقوى واتقوا الله الذي إليه تحشرون'),\n",
              " (3,\n",
              "  2672,\n",
              "  'وجاهدوا في الله حق جهاده هو اجتباكم وما جعل عليكم في الدين من حرج ملة أبيكم إبراهيم هو سماكم المسلمين من قبل وفي هذا ليكون الرسول شهيدا عليكم وتكونوا شهداء على الناس فأقيموا الصلاة وآتوا الزكاة واعتصموا بالله هو مولاكم فنعم المولى ونعم النصير'),\n",
              " (3, 1726, 'الذين يوفون بعهد الله ولا ينقضون الميثاق'),\n",
              " (3,\n",
              "  1246,\n",
              "  'وإن نكثوا أيمانهم من بعد عهدهم وطعنوا في دينكم فقاتلوا أئمة الكفر إنهم لا أيمان لهم لعلهم ينتهون'),\n",
              " (3,\n",
              "  1238,\n",
              "  'إلا الذين عاهدتم من المشركين ثم لم ينقصوكم شيئا ولم يظاهروا عليكم أحدا فأتموا إليهم عهدهم إلى مدتهم إن الله يحب المتقين')]"
            ]
          },
          "execution_count": 97,
          "metadata": {},
          "output_type": "execute_result"
        }
      ],
      "source": [
        "get_most_similar_verses_by_query_text('الوفاء بالعهد', (model_ksucca, 'KSUCCA'), get_verse_frequency_score)[:10]"
      ]
    },
    {
      "cell_type": "code",
      "execution_count": 90,
      "metadata": {
        "colab": {
          "base_uri": "https://localhost:8080/"
        },
        "id": "KUi5AoID3VYf",
        "outputId": "e01e9694-8e1b-4554-ded6-8b2610c61826"
      },
      "outputs": [
        {
          "data": {
            "text/plain": [
              "[(1.4854275,\n",
              "  2062,\n",
              "  'ولا تقربوا مال اليتيم إلا بالتي هي أحسن حتى يبلغ أشده وأوفوا بالعهد إن العهد كان مسئولا'),\n",
              " (0.98105514,\n",
              "  2433,\n",
              "  'فرجع موسى إلى قومه غضبان أسفا قال يا قوم ألم يعدكم ربكم وعدا حسنا أفطال عليكم العهد أم أردتم أن يحل عليكم غضب من ربكم فأخلفتم موعدي'),\n",
              " (0.8965465,\n",
              "  1991,\n",
              "  'وأوفوا بعهد الله إذا عاهدتم ولا تنقضوا الأيمان بعد توكيدها وقد جعلتم الله عليكم كفيلا إن الله يعلم ما تفعلون'),\n",
              " (0.82758605,\n",
              "  4592,\n",
              "  'إن الذين يبايعونك إنما يبايعون الله يد الله فوق أيديهم فمن نكث فإنما ينكث على نفسه ومن أوفى بما عاهد عليه الله فسيؤتيه أجرا عظيما'),\n",
              " (0.8007281,\n",
              "  1345,\n",
              "  'إن الله اشترى من المؤمنين أنفسهم وأموالهم بأن لهم الجنة يقاتلون في سبيل الله فيقتلون ويقتلون وعدا عليه حقا في التوراة والإنجيل والقرآن ومن أوفى بعهده من الله فاستبشروا ببيعكم الذي بايعتم به وذلك هو الفوز العظيم'),\n",
              " (0.8007281, 368, 'بلى من أوفى بعهده واتقى فإن الله يحب المتقين'),\n",
              " (0.75989807,\n",
              "  86,\n",
              "  'وقالوا لن تمسنا النار إلا أياما معدودة قل أتخذتم عند الله عهدا فلن يخلف الله عهده أم تقولون على الله ما لا تعلمون'),\n",
              " (0.7390019,\n",
              "  2170,\n",
              "  'أولئك لهم جنات عدن تجري من تحتهم الأنهار يحلون فيها من أساور من ذهب ويلبسون ثيابا خضرا من سندس وإستبرق متكئين فيها على الأرائك نعم الثواب وحسنت مرتفقا'),\n",
              " (0.7390019,\n",
              "  487,\n",
              "  'فاستجاب لهم ربهم أني لا أضيع عمل عامل منكم من ذكر أو أنثى بعضكم من بعض فالذين هاجروا وأخرجوا من ديارهم وأوذوا في سبيلي وقاتلوا وقتلوا لأكفرن عنهم سيئاتهم ولأدخلنهم جنات تجري من تحتها الأنهار ثوابا من عند الله والله عنده حسن الثواب'),\n",
              " (0.72304827,\n",
              "  1231,\n",
              "  'إن الذين آمنوا وهاجروا وجاهدوا بأموالهم وأنفسهم في سبيل الله والذين آووا ونصروا أولئك بعضهم أولياء بعض والذين آمنوا ولم يهاجروا ما لكم من ولايتهم من شيء حتى يهاجروا وإن استنصروكم في الدين فعليكم النصر إلا على قوم بينكم وبينهم ميثاق والله بما تعملون بصير')]"
            ]
          },
          "execution_count": 90,
          "metadata": {},
          "output_type": "execute_result"
        }
      ],
      "source": [
        "get_most_similar_verses_by_query_text('الوفاء بالعهد', (model_ksucca, 'KSUCCA'), get_verse_max_score)[:10]"
      ]
    },
    {
      "cell_type": "code",
      "execution_count": 93,
      "metadata": {
        "colab": {
          "base_uri": "https://localhost:8080/"
        },
        "id": "neziez_hElfx",
        "outputId": "e976811c-8942-4acc-c329-028433aa8d9b"
      },
      "outputs": [
        {
          "data": {
            "text/plain": [
              "[(1.4327471,\n",
              "  2062,\n",
              "  'ولا تقربوا مال اليتيم إلا بالتي هي أحسن حتى يبلغ أشده وأوفوا بالعهد إن العهد كان مسئولا'),\n",
              " (0.9571479,\n",
              "  1345,\n",
              "  'إن الله اشترى من المؤمنين أنفسهم وأموالهم بأن لهم الجنة يقاتلون في سبيل الله فيقتلون ويقتلون وعدا عليه حقا في التوراة والإنجيل والقرآن ومن أوفى بعهده من الله فاستبشروا ببيعكم الذي بايعتم به وذلك هو الفوز العظيم'),\n",
              " (0.9571479, 368, 'بلى من أوفى بعهده واتقى فإن الله يحب المتقين'),\n",
              " (0.93902236, 5265, 'ويقولون متى هذا الوعد إن كنتم صادقين'),\n",
              " (0.93902236, 3752, 'ويقولون متى هذا الوعد إن كنتم صادقين'),\n",
              " (0.93902236, 3634, 'ويقولون متى هذا الوعد إن كنتم صادقين'),\n",
              " (0.92999005,\n",
              "  183,\n",
              "  'ليس البر أن تولوا وجوهكم قبل المشرق والمغرب ولكن البر من آمن بالله واليوم الآخر والملائكة والكتاب والنبيين وآتى المال على حبه ذوي القربى واليتامى والمساكين وابن السبيل والسائلين وفي الرقاب وأقام الصلاة وآتى الزكاة والموفون بعهدهم إذا عاهدوا والصابرين في البأساء والضراء وحين البأس أولئك الذين صدقوا وأولئك هم المتقون'),\n",
              " (0.91666865, 5597, 'يوفون بالنذر ويخافون يوما كان شره مستطيرا'),\n",
              " (0.91666865, 4881, 'ولقد أنذرهم بطشتنا فتماروا بالنذر'),\n",
              " (0.91666865, 4878, 'كذبت قوم لوط بالنذر')]"
            ]
          },
          "execution_count": 93,
          "metadata": {},
          "output_type": "execute_result"
        }
      ],
      "source": [
        "get_most_similar_verses_by_query_text('الوفاء بالعهد', (model_fasttext, 'FASTTEXT'), get_verse_max_score)[:10]"
      ]
    },
    {
      "cell_type": "code",
      "execution_count": 84,
      "metadata": {
        "colab": {
          "base_uri": "https://localhost:8080/"
        },
        "id": "3tcF8ZUMzx2W",
        "outputId": "1e2548dc-f008-4b6a-8d90-8fb0cb30a05e"
      },
      "outputs": [
        {
          "data": {
            "text/plain": [
              "[(0.4950829322139422, 5056, 'في كتاب مكنون'),\n",
              " (0.48159336671233177, 4902, 'علم القرآن'),\n",
              " (0.45381811261177063, 5634, 'ليوم الفصل'),\n",
              " (0.29319538176059723, 6110, 'علم الإنسان ما لم يعلم'),\n",
              " (0.2927052676677704, 3, 'مالك يوم الدين'),\n",
              " (0.27782437205314636, 5048, 'لو نشاء جعلناه أجاجا فلولا تشكرون'),\n",
              " (0.2738831043243408, 4964, 'مدهامتان'),\n",
              " (0.26571905612945557, 5054, 'وإنه لقسم لو تعلمون عظيم'),\n",
              " (0.2630220055580139, 5867, 'كتاب مرقوم'),\n",
              " (0.2630220055580139, 5856, 'كتاب مرقوم')]"
            ]
          },
          "execution_count": 84,
          "metadata": {},
          "output_type": "execute_result"
        }
      ],
      "source": [
        "get_most_similar_verses_by_query_text(\"علوم البلاغة\", (model_tw, 'TWITTER'), get_verse_avg_score)[:10]"
      ]
    },
    {
      "cell_type": "code",
      "execution_count": 86,
      "metadata": {
        "colab": {
          "base_uri": "https://localhost:8080/"
        },
        "id": "cNBiL6glEciI",
        "outputId": "8db1a4a7-fb07-46d8-d2da-f879d5223263"
      },
      "outputs": [
        {
          "data": {
            "text/plain": [
              "[(0.8510092794895172, 4902, 'علم القرآن'),\n",
              " (0.550209067761898, 4904, 'علمه البيان'),\n",
              " (0.545628587404887, 5749, 'وآثر الحياة الدنيا'),\n",
              " (0.5277290642261505, 3904, 'وآتيناهما الكتاب المستبين'),\n",
              " (0.5126987975090742, 4818, 'أعنده علم الغيب فهو يرى'),\n",
              " (0.48682739213109016, 4694, 'وفي الأرض آيات للموقنين'),\n",
              " (0.4812457412481308, 6109, 'الذي علم بالقلم'),\n",
              " (0.47858272306621075, 3253, 'تلك آيات الكتاب المبين'),\n",
              " (0.47858272306621075, 2933, 'تلك آيات الكتاب المبين'),\n",
              " (0.4767161551862955, 6172, 'كلا لو تعلمون علم اليقين')]"
            ]
          },
          "execution_count": 86,
          "metadata": {},
          "output_type": "execute_result"
        }
      ],
      "source": [
        "get_most_similar_verses_by_query_text(\"علوم البلاغة\", (model_fasttext, 'FASTTEXT'), get_verse_avg_score)[:10]"
      ]
    },
    {
      "cell_type": "code",
      "execution_count": 94,
      "metadata": {
        "colab": {
          "base_uri": "https://localhost:8080/"
        },
        "id": "8ihwbqV_vHcL",
        "outputId": "42bc2f3b-7846-4b4e-89e1-8c5a0dd76ed8"
      },
      "outputs": [
        {
          "data": {
            "text/plain": [
              "[(2.571965,\n",
              "  3488,\n",
              "  'ألم تروا أن الله سخر لكم ما في السماوات وما في الأرض وأسبغ عليكم نعمه ظاهرة وباطنة ومن الناس من يجادل في الله بغير علم ولا هدى ولا كتاب منير'),\n",
              " (2.571965, 2602, 'ومن الناس من يجادل في الله بغير علم ولا هدى ولا كتاب منير'),\n",
              " (2.571965, 2597, 'ومن الناس من يجادل في الله بغير علم ويتبع كل شيطان مريد'),\n",
              " (2.4906023,\n",
              "  896,\n",
              "  'ولا تسبوا الذين يدعون من دون الله فيسبوا الله عدوا بغير علم كذلك زينا لكل أمة عملهم ثم إلى ربهم مرجعهم فينبئهم بما كانوا يعملون'),\n",
              " (2.0,\n",
              "  4607,\n",
              "  'هم الذين كفروا وصدوكم عن المسجد الحرام والهدي معكوفا أن يبلغ محله ولولا رجال مؤمنون ونساء مؤمنات لم تعلموهم أن تطئوهم فتصيبكم منهم معرة بغير علم ليدخل الله في رحمته من يشاء لو تزيلوا لعذبنا الذين كفروا منهم عذابا أليما'),\n",
              " (2.0,\n",
              "  3474,\n",
              "  'ومن الناس من يشتري لهو الحديث ليضل عن سبيل الله بغير علم ويتخذها هزوا أولئك لهم عذاب مهين'),\n",
              " (2.0,\n",
              "  3437,\n",
              "  'بل اتبع الذين ظلموا أهواءهم بغير علم فمن يهدي من أضل الله وما لهم من ناصرين'),\n",
              " (2.0,\n",
              "  1925,\n",
              "  'ليحملوا أوزارهم كاملة يوم القيامة ومن أوزار الذين يضلونهم بغير علم ألا ساء ما يزرون'),\n",
              " (2.0,\n",
              "  932,\n",
              "  'ومن الإبل اثنين ومن البقر اثنين قل آلذكرين حرم أم الأنثيين أما اشتملت عليه أرحام الأنثيين أم كنتم شهداء إذ وصاكم الله بهذا فمن أظلم ممن افترى على الله كذبا ليضل الناس بغير علم إن الله لا يهدي القوم الظالمين'),\n",
              " (2.0,\n",
              "  928,\n",
              "  'قد خسر الذين قتلوا أولادهم سفها بغير علم وحرموا ما رزقهم الله افتراء على الله قد ضلوا وما كانوا مهتدين')]"
            ]
          },
          "execution_count": 94,
          "metadata": {},
          "output_type": "execute_result"
        }
      ],
      "source": [
        "get_most_similar_verses_by_query_text('المجادلة بغير علم', (model_tw, 'TWITTER'), get_verse_max_score)[:10]"
      ]
    },
    {
      "cell_type": "code",
      "execution_count": 95,
      "metadata": {
        "colab": {
          "base_uri": "https://localhost:8080/"
        },
        "id": "31_EkJpGE2WN",
        "outputId": "9187c76d-d30e-4022-ca3b-0c2854b821cd"
      },
      "outputs": [
        {
          "data": {
            "text/plain": [
              "[(2.0,\n",
              "  4607,\n",
              "  'هم الذين كفروا وصدوكم عن المسجد الحرام والهدي معكوفا أن يبلغ محله ولولا رجال مؤمنون ونساء مؤمنات لم تعلموهم أن تطئوهم فتصيبكم منهم معرة بغير علم ليدخل الله في رحمته من يشاء لو تزيلوا لعذبنا الذين كفروا منهم عذابا أليما'),\n",
              " (2.0,\n",
              "  3488,\n",
              "  'ألم تروا أن الله سخر لكم ما في السماوات وما في الأرض وأسبغ عليكم نعمه ظاهرة وباطنة ومن الناس من يجادل في الله بغير علم ولا هدى ولا كتاب منير'),\n",
              " (2.0,\n",
              "  3474,\n",
              "  'ومن الناس من يشتري لهو الحديث ليضل عن سبيل الله بغير علم ويتخذها هزوا أولئك لهم عذاب مهين'),\n",
              " (2.0,\n",
              "  3437,\n",
              "  'بل اتبع الذين ظلموا أهواءهم بغير علم فمن يهدي من أضل الله وما لهم من ناصرين'),\n",
              " (2.0, 2602, 'ومن الناس من يجادل في الله بغير علم ولا هدى ولا كتاب منير'),\n",
              " (2.0, 2597, 'ومن الناس من يجادل في الله بغير علم ويتبع كل شيطان مريد'),\n",
              " (2.0,\n",
              "  1925,\n",
              "  'ليحملوا أوزارهم كاملة يوم القيامة ومن أوزار الذين يضلونهم بغير علم ألا ساء ما يزرون'),\n",
              " (2.0,\n",
              "  932,\n",
              "  'ومن الإبل اثنين ومن البقر اثنين قل آلذكرين حرم أم الأنثيين أما اشتملت عليه أرحام الأنثيين أم كنتم شهداء إذ وصاكم الله بهذا فمن أظلم ممن افترى على الله كذبا ليضل الناس بغير علم إن الله لا يهدي القوم الظالمين'),\n",
              " (2.0,\n",
              "  928,\n",
              "  'قد خسر الذين قتلوا أولادهم سفها بغير علم وحرموا ما رزقهم الله افتراء على الله قد ضلوا وما كانوا مهتدين'),\n",
              " (2.0,\n",
              "  907,\n",
              "  'وما لكم ألا تأكلوا مما ذكر اسم الله عليه وقد فصل لكم ما حرم عليكم إلا ما اضطررتم إليه وإن كثيرا ليضلون بأهوائهم بغير علم إن ربك هو أعلم بالمعتدين')]"
            ]
          },
          "execution_count": 95,
          "metadata": {},
          "output_type": "execute_result"
        }
      ],
      "source": [
        "get_most_similar_verses_by_query_text('المجادلة بغير علم', (model_fasttext, 'FASTTEXT'), get_verse_max_score)[:10]"
      ]
    },
    {
      "cell_type": "markdown",
      "metadata": {
        "id": "fO94G4Qt0sEi"
      },
      "source": [
        "## Combining results of all models"
      ]
    },
    {
      "cell_type": "code",
      "execution_count": 100,
      "metadata": {
        "id": "gQBMWEHf0RMF"
      },
      "outputs": [],
      "source": [
        "def get_combined_models_results(query_text, method):\n",
        "    '''\n",
        "    Get the most similar verses to a query text,\n",
        "    according to all models and one of the 3 maximizing methods (max, freq, avg).\n",
        "    \n",
        "    @param query_text: query text (one or more words)\n",
        "    @type query_text: str (arabic unicode)\n",
        "    @param method: the maximizing method to use\n",
        "    @type method: function\n",
        "    @return: most similar verses\n",
        "    @rtype: list of tuples (score, verse_id, verse_text)\n",
        "    '''\n",
        "\n",
        "    verse2score = {}\n",
        "    for model in [(model_wiki, 'WIKI'), (model_tw, 'TWITTER'), (model_ksucca, 'KSUCCA'), (model_fasttext, 'FASTTEXT')]:\n",
        "        score2verse = get_most_similar_verses_by_query_text(query_text, model, method)\n",
        "        for score, verse_id, verse in score2verse:\n",
        "            if (verse_id, verse) in verse2score:\n",
        "                verse2score[(verse_id, verse)] += score\n",
        "            else:\n",
        "                verse2score[(verse_id, verse)] = score\n",
        "\n",
        "    best_score2verse = [(score, verse_id, verse) for (verse_id, verse), score in verse2score.items()]\n",
        "    best_score2verse.sort(reverse=True)\n",
        "\n",
        "    # Return at most 50 verses\n",
        "    max_out_length = min(len(best_score2verse), 50)\n",
        "    return best_score2verse[:max_out_length]"
      ]
    },
    {
      "cell_type": "markdown",
      "metadata": {
        "id": "0yfqALajFyO9"
      },
      "source": [
        "### Testing version 2"
      ]
    },
    {
      "cell_type": "code",
      "execution_count": 105,
      "metadata": {
        "colab": {
          "base_uri": "https://localhost:8080/"
        },
        "id": "eU6z60HRHlkz",
        "outputId": "f8f3eb3b-4a77-415b-ce77-9d0404f3471e"
      },
      "outputs": [
        {
          "data": {
            "text/plain": [
              "[(4.0, 4296, 'وهو الذي يقبل التوبة عن عباده ويعفو عن السيئات ويعلم ما تفعلون'),\n",
              " (4.0,\n",
              "  1338,\n",
              "  'ألم يعلموا أن الله هو يقبل التوبة عن عباده ويأخذ الصدقات وأن الله هو التواب الرحيم'),\n",
              " (4.0,\n",
              "  510,\n",
              "  'وليست التوبة للذين يعملون السيئات حتى إذا حضر أحدهم الموت قال إني تبت الآن ولا الذين يموتون وهم كفار أولئك أعتدنا لهم عذابا أليما'),\n",
              " (4.0,\n",
              "  509,\n",
              "  'إنما التوبة على الله للذين يعملون السوء بجهالة ثم يتوبون من قريب فأولئك يتوب الله عليهم وكان الله عليما حكيما'),\n",
              " (2.3758178, 5550, 'وما يذكرون إلا أن يشاء الله هو أهل التقوى وأهل المغفرة'),\n",
              " (2.3758178,\n",
              "  4815,\n",
              "  'الذين يجتنبون كبائر الإثم والفواحش إلا اللمم إن ربك واسع المغفرة هو أعلم بكم إذ أنشأكم من الأرض وإذ أنتم أجنة في بطون أمهاتكم فلا تزكوا أنفسكم هو أعلم بمن اتقى'),\n",
              " (2.2074943,\n",
              "  4110,\n",
              "  'قل يا عبادي الذين أسرفوا على أنفسهم لا تقنطوا من رحمة الله إن الله يغفر الذنوب جميعا إنه هو الغفور الرحيم'),\n",
              " (2.2074943,\n",
              "  427,\n",
              "  'والذين إذا فعلوا فاحشة أو ظلموا أنفسهم ذكروا الله فاستغفروا لذنوبهم ومن يغفر الذنوب إلا الله ولم يصروا على ما فعلوا وهم يعلمون'),\n",
              " (1.6296734,\n",
              "  5236,\n",
              "  'يا أيها الذين آمنوا توبوا إلى الله توبة نصوحا عسى ربكم أن يكفر عنكم سيئاتكم ويدخلكم جنات تجري من تحتها الأنهار يوم لا يخزي الله النبي والذين آمنوا معه نورهم يسعى بين أيديهم وبأيمانهم يقولون ربنا أتمم لنا نورنا واغفر لنا إنك على كل شيء قدير'),\n",
              " (1.6296734,\n",
              "  584,\n",
              "  'وما كان لمؤمن أن يقتل مؤمنا إلا خطأ ومن قتل مؤمنا خطأ فتحرير رقبة مؤمنة ودية مسلمة إلى أهله إلا أن يصدقوا فإن كان من قوم عدو لكم وهو مؤمن فتحرير رقبة مؤمنة وإن كان من قوم بينكم وبينهم ميثاق فدية مسلمة إلى أهله وتحرير رقبة مؤمنة فمن لم يجد فصيام شهرين متتابعين توبة من الله وكان الله عليما حكيما'),\n",
              " (1.5404207,\n",
              "  5125,\n",
              "  'لا تجد قوما يؤمنون بالله واليوم الآخر يوادون من حاد الله ورسوله ولو كانوا آباءهم أو أبناءهم أو إخوانهم أو عشيرتهم أولئك كتب في قلوبهم الإيمان وأيدهم بروح منه ويدخلهم جنات تجري من تحتها الأنهار خالدين فيها رضي الله عنهم ورضوا عنه أولئك حزب الله ألا إن حزب الله هم المفلحون'),\n",
              " (1.5404207,\n",
              "  4625,\n",
              "  'قالت الأعراب آمنا قل لم تؤمنوا ولكن قولوا أسلمنا ولما يدخل الإيمان في قلوبكم وإن تطيعوا الله ورسوله لا يلتكم من أعمالكم شيئا إن الله غفور رحيم'),\n",
              " (1.5404207,\n",
              "  4622,\n",
              "  'يا أيها الذين آمنوا لا يسخر قوم من قوم عسى أن يكونوا خيرا منهم ولا نساء من نساء عسى أن يكن خيرا منهن ولا تلمزوا أنفسكم ولا تنابزوا بالألقاب بئس الاسم الفسوق بعد الإيمان ومن لم يتب فأولئك هم الظالمون'),\n",
              " (1.5404207,\n",
              "  4618,\n",
              "  'واعلموا أن فيكم رسول الله لو يطيعكم في كثير من الأمر لعنتم ولكن الله حبب إليكم الإيمان وزينه في قلوبكم وكره إليكم الكفر والفسوق والعصيان أولئك هم الراشدون'),\n",
              " (1.5404207,\n",
              "  4323,\n",
              "  'وكذلك أوحينا إليك روحا من أمرنا ما كنت تدري ما الكتاب ولا الإيمان ولكن جعلناه نورا نهدي به من نشاء من عبادنا وإنك لتهدي إلى صراط مستقيم'),\n",
              " (1.5404207,\n",
              "  4142,\n",
              "  'إن الذين كفروا ينادون لمقت الله أكبر من مقتكم أنفسكم إذ تدعون إلى الإيمان فتكفرون'),\n",
              " (1.5404207,\n",
              "  1257,\n",
              "  'يا أيها الذين آمنوا لا تتخذوا آباءكم وإخوانكم أولياء إن استحبوا الكفر على الإيمان ومن يتولهم منكم فأولئك هم الظالمون'),\n",
              " (1.4014394,\n",
              "  4135,\n",
              "  'غافر الذنب وقابل التوب شديد العقاب ذي الطول لا إله إلا هو إليه المصير'),\n",
              " (1.171147,\n",
              "  4410,\n",
              "  'ولا يملك الذين يدعون من دونه الشفاعة إلا من شهد بالحق وهم يعلمون'),\n",
              " (1.171147,\n",
              "  4101,\n",
              "  'قل لله الشفاعة جميعا له ملك السماوات والأرض ثم إليه ترجعون')]"
            ]
          },
          "execution_count": 105,
          "metadata": {},
          "output_type": "execute_result"
        }
      ],
      "source": [
        "get_combined_models_results('التوبة', get_verse_max_score)[:20]"
      ]
    },
    {
      "cell_type": "code",
      "execution_count": 104,
      "metadata": {
        "colab": {
          "base_uri": "https://localhost:8080/"
        },
        "id": "gQmr43x2C_7A",
        "outputId": "1b4baa92-acd9-4b94-8c45-277ad3454cdf"
      },
      "outputs": [
        {
          "data": {
            "text/plain": [
              "[(6.238496,\n",
              "  569,\n",
              "  'ألم تر إلى الذين قيل لهم كفوا أيديكم وأقيموا الصلاة وآتوا الزكاة فلما كتب عليهم القتال إذا فريق منهم يخشون الناس كخشية الله أو أشد خشية وقالوا ربنا لم كتبت علينا القتال لولا أخرتنا إلى أجل قريب قل متاع الدنيا قليل والآخرة خير لمن اتقى ولا تظلمون فتيلا'),\n",
              " (5.139816,\n",
              "  759,\n",
              "  'إنما يريد الشيطان أن يوقع بينكم العداوة والبغضاء في الخمر والميسر ويصدكم عن ذكر الله وعن الصلاة فهل أنتم منتهون'),\n",
              " (4.560791,\n",
              "  680,\n",
              "  'ولقد أخذ الله ميثاق بني إسرائيل وبعثنا منهم اثني عشر نقيبا وقال الله إني معكم لئن أقمتم الصلاة وآتيتم الزكاة وآمنتم برسلي وعزرتموهم وأقرضتم الله قرضا حسنا لأكفرن عنكم سيئاتكم ولأدخلنكم جنات تجري من تحتها الأنهار فمن كفر بعد ذلك منكم فقد ضل سواء السبيل'),\n",
              " (4.4125013,\n",
              "  2672,\n",
              "  'وجاهدوا في الله حق جهاده هو اجتباكم وما جعل عليكم في الدين من حرج ملة أبيكم إبراهيم هو سماكم المسلمين من قبل وفي هذا ليكون الرسول شهيدا عليكم وتكونوا شهداء على الناس فأقيموا الصلاة وآتوا الزكاة واعتصموا بالله هو مولاكم فنعم المولى ونعم النصير'),\n",
              " (4.3163, 3439, 'منيبين إليه واتقوه وأقيموا الصلاة ولا تكونوا من المشركين'),\n",
              " (4.308825,\n",
              "  5494,\n",
              "  'إن ربك يعلم أنك تقوم أدنى من ثلثي الليل ونصفه وثلثه وطائفة من الذين معك والله يقدر الليل والنهار علم أن لن تحصوه فتاب عليكم فاقرءوا ما تيسر من القرآن علم أن سيكون منكم مرضى وآخرون يضربون في الأرض يبتغون من فضل الله وآخرون يقاتلون في سبيل الله فاقرءوا ما تيسر منه وأقيموا الصلاة وآتوا الزكاة وأقرضوا الله قرضا حسنا وما تقدموا لأنفسكم من خير تجدوه عند الله هو خيرا وأعظم أجرا واستغفروا الله إن الله غفور رحيم'),\n",
              " (4.0,\n",
              "  6134,\n",
              "  'وما أمروا إلا ليعبدوا الله مخلصين له الدين حنفاء ويقيموا الصلاة ويؤتوا الزكاة وذلك دين القيمة'),\n",
              " (4.0,\n",
              "  5186,\n",
              "  'فإذا قضيت الصلاة فانتشروا في الأرض وابتغوا من فضل الله واذكروا الله كثيرا لعلكم تفلحون'),\n",
              " (4.0,\n",
              "  5116,\n",
              "  'أأشفقتم أن تقدموا بين يدي نجواكم صدقات فإذ لم تفعلوا وتاب الله عليكم فأقيموا الصلاة وآتوا الزكاة وأطيعوا الله ورسوله والله خبير بما تعملون'),\n",
              " (4.0,\n",
              "  4309,\n",
              "  'والذين استجابوا لربهم وأقاموا الصلاة وأمرهم شورى بينهم ومما رزقناهم ينفقون'),\n",
              " (4.0,\n",
              "  3688,\n",
              "  'إن الذين يتلون كتاب الله وأقاموا الصلاة وأنفقوا مما رزقناهم سرا وعلانية يرجون تجارة لن تبور'),\n",
              " (4.0,\n",
              "  3677,\n",
              "  'ولا تزر وازرة وزر أخرى وإن تدع مثقلة إلى حملها لا يحمل منه شيء ولو كان ذا قربى إنما تنذر الذين يخشون ربهم بالغيب وأقاموا الصلاة ومن تزكى فإنما يتزكى لنفسه وإلى الله المصير'),\n",
              " (4.0,\n",
              "  3565,\n",
              "  'وقرن في بيوتكن ولا تبرجن تبرج الجاهلية الأولى وأقمن الصلاة وآتين الزكاة وأطعن الله ورسوله إنما يريد الله ليذهب عنكم الرجس أهل البيت ويطهركم تطهيرا'),\n",
              " (4.0,\n",
              "  3485,\n",
              "  'يا بني أقم الصلاة وأمر بالمعروف وانه عن المنكر واصبر على ما أصابك إن ذلك من عزم الأمور'),\n",
              " (4.0, 3472, 'الذين يقيمون الصلاة ويؤتون الزكاة وهم بالآخرة هم يوقنون'),\n",
              " (4.0,\n",
              "  3384,\n",
              "  'اتل ما أوحي إليك من الكتاب وأقم الصلاة إن الصلاة تنهى عن الفحشاء والمنكر ولذكر الله أكبر والله يعلم ما تصنعون'),\n",
              " (4.0, 3161, 'الذين يقيمون الصلاة ويؤتون الزكاة وهم بالآخرة هم يوقنون'),\n",
              " (4.0, 2846, 'وأقيموا الصلاة وآتوا الزكاة وأطيعوا الرسول لعلكم ترحمون'),\n",
              " (4.0,\n",
              "  2827,\n",
              "  'رجال لا تلهيهم تجارة ولا بيع عن ذكر الله وإقام الصلاة وإيتاء الزكاة يخافون يوما تتقلب فيه القلوب والأبصار'),\n",
              " (4.0,\n",
              "  2635,\n",
              "  'الذين إن مكناهم في الأرض أقاموا الصلاة وآتوا الزكاة وأمروا بالمعروف ونهوا عن المنكر ولله عاقبة الأمور')]"
            ]
          },
          "execution_count": 104,
          "metadata": {},
          "output_type": "execute_result"
        }
      ],
      "source": [
        "get_combined_models_results('الصلاة وقت الحرب', get_verse_max_score)[:20]"
      ]
    },
    {
      "cell_type": "code",
      "execution_count": 102,
      "metadata": {
        "colab": {
          "base_uri": "https://localhost:8080/"
        },
        "id": "im96F6rdH3_y",
        "outputId": "3213e80a-cf9b-46eb-8730-247f64377302"
      },
      "outputs": [
        {
          "data": {
            "text/plain": [
              "[(1.3378965047498543, 5579, 'والتفت الساق بالساق'),\n",
              " (1.1530736138423285, 5974, 'وجوه يومئذ ناعمة'),\n",
              " (0.9558047354221344, 5995, 'والشفع والوتر'),\n",
              " (0.9502903148531914, 5980, 'وأكواب موضوعة'),\n",
              " (0.7338173687458038, 5008, 'وظل ممدود'),\n",
              " (0.7199279963970184, 3833, 'بيضاء لذة للشاربين'),\n",
              " (0.6950308208664259, 5005, 'وأصحاب اليمين ما أصحاب اليمين'),\n",
              " (0.6864072009921074, 5031, 'فمالئون منها البطون'),\n",
              " (0.6493485644459724, 5019, 'وأصحاب الشمال ما أصحاب الشمال'),\n",
              " (0.6230508759617805, 6035, 'فك رقبة'),\n",
              " (0.5757891535758972, 3113, 'وزنوا بالقسطاس المستقيم'),\n",
              " (0.5681670531630516, 3905, 'وهديناهما الصراط المستقيم'),\n",
              " (0.5279583632946014, 5722, 'أإذا كنا عظاما نخرة'),\n",
              " (0.5272972472012043, 4804, 'ألكم الذكر وله الأنثى'),\n",
              " (0.5271717011928558, 4817, 'وأعطى قليلا وأكدى'),\n",
              " (0.5150741045363247, 5061, 'فلولا إذا بلغت الحلقوم'),\n",
              " (0.4957534745335579, 5553, 'أيحسب الإنسان ألن نجمع عظامه'),\n",
              " (0.4749542837962508, 1916, 'وعلامات وبالنجم هم يهتدون'),\n",
              " (0.47285299748182297, 4911, 'فيها فاكهة والنخل ذات الأكمام'),\n",
              " (0.45233070229490596, 6161, 'وتكون الجبال كالعهن المنفوش')]"
            ]
          },
          "execution_count": 102,
          "metadata": {},
          "output_type": "execute_result"
        }
      ],
      "source": [
        "get_combined_models_results('بصمات الأصابع', get_verse_avg_score)[:20]"
      ]
    },
    {
      "cell_type": "code",
      "execution_count": 106,
      "metadata": {
        "colab": {
          "base_uri": "https://localhost:8080/"
        },
        "id": "_2i7EeBlHnDG",
        "outputId": "1f0d42aa-2435-4473-d924-e03246736fce"
      },
      "outputs": [
        {
          "data": {
            "text/plain": [
              "[(31,\n",
              "  674,\n",
              "  'يا أيها الذين آمنوا إذا قمتم إلى الصلاة فاغسلوا وجوهكم وأيديكم إلى المرافق وامسحوا برءوسكم وأرجلكم إلى الكعبين وإن كنتم جنبا فاطهروا وإن كنتم مرضى أو على سفر أو جاء أحد منكم من الغائط أو لامستم النساء فلم تجدوا ماء فتيمموا صعيدا طيبا فامسحوا بوجوهكم وأيديكم منه ما يريد الله ليجعل عليكم من حرج ولكن يريد ليطهركم وليتم نعمته عليكم لعلكم تشكرون'),\n",
              " (31,\n",
              "  202,\n",
              "  'وأتموا الحج والعمرة لله فإن أحصرتم فما استيسر من الهدي ولا تحلقوا رءوسكم حتى يبلغ الهدي محله فمن كان منكم مريضا أو به أذى من رأسه ففدية من صيام أو صدقة أو نسك فإذا أمنتم فمن تمتع بالعمرة إلى الحج فما استيسر من الهدي فمن لم يجد فصيام ثلاثة أيام في الحج وسبعة إذا رجعتم تلك عشرة كاملة ذلك لمن لم يكن أهله حاضري المسجد الحرام واتقوا الله واعلموا أن الله شديد العقاب'),\n",
              " (27,\n",
              "  193,\n",
              "  'أحل لكم ليلة الصيام الرفث إلى نسائكم هن لباس لكم وأنتم لباس لهن علم الله أنكم كنتم تختانون أنفسكم فتاب عليكم وعفا عنكم فالآن باشروهن وابتغوا ما كتب الله لكم وكلوا واشربوا حتى يتبين لكم الخيط الأبيض من الخيط الأسود من الفجر ثم أتموا الصيام إلى الليل ولا تباشروهن وأنتم عاكفون في المساجد تلك حدود الله فلا تقربوها كذلك يبين الله آياته للناس لعلهم يتقون'),\n",
              " (23,\n",
              "  5494,\n",
              "  'إن ربك يعلم أنك تقوم أدنى من ثلثي الليل ونصفه وثلثه وطائفة من الذين معك والله يقدر الليل والنهار علم أن لن تحصوه فتاب عليكم فاقرءوا ما تيسر من القرآن علم أن سيكون منكم مرضى وآخرون يضربون في الأرض يبتغون من فضل الله وآخرون يقاتلون في سبيل الله فاقرءوا ما تيسر منه وأقيموا الصلاة وآتوا الزكاة وأقرضوا الله قرضا حسنا وما تقدموا لأنفسكم من خير تجدوه عند الله هو خيرا وأعظم أجرا واستغفروا الله إن الله غفور رحيم'),\n",
              " (23,\n",
              "  2848,\n",
              "  'يا أيها الذين آمنوا ليستأذنكم الذين ملكت أيمانكم والذين لم يبلغوا الحلم منكم ثلاث مرات من قبل صلاة الفجر وحين تضعون ثيابكم من الظهيرة ومن بعد صلاة العشاء ثلاث عورات لكم ليس عليكم ولا عليهم جناح بعدهن طوافون عليكم بعضكم على بعض كذلك يبين الله لكم الآيات والله عليم حكيم'),\n",
              " (18,\n",
              "  3585,\n",
              "  'يا أيها الذين آمنوا لا تدخلوا بيوت النبي إلا أن يؤذن لكم إلى طعام غير ناظرين إناه ولكن إذا دعيتم فادخلوا فإذا طعمتم فانتشروا ولا مستأنسين لحديث إن ذلكم كان يؤذي النبي فيستحيي منكم والله لا يستحيي من الحق وإذا سألتموهن متاعا فاسألوهن من وراء حجاب ذلكم أطهر لقلوبكم وقلوبهن وما كان لكم أن تؤذوا رسول الله ولا أن تنكحوا أزواجه من بعده أبدا إن ذلكم كان عند الله عظيما'),\n",
              " (17,\n",
              "  288,\n",
              "  'يا أيها الذين آمنوا إذا تداينتم بدين إلى أجل مسمى فاكتبوه وليكتب بينكم كاتب بالعدل ولا يأب كاتب أن يكتب كما علمه الله فليكتب وليملل الذي عليه الحق وليتق الله ربه ولا يبخس منه شيئا فإن كان الذي عليه الحق سفيها أو ضعيفا أو لا يستطيع أن يمل هو فليملل وليه بالعدل واستشهدوا شهيدين من رجالكم فإن لم يكونا رجلين فرجل وامرأتان ممن ترضون من الشهداء أن تضل إحداهما فتذكر إحداهما الأخرى ولا يأب الشهداء إذا ما دعوا ولا تسأموا أن تكتبوه صغيرا أو كبيرا إلى أجله ذلكم أقسط عند الله وأقوم للشهادة وأدنى ألا ترتابوا إلا أن تكون تجارة حاضرة تديرونها بينكم فليس عليكم جناح ألا تكتبوها وأشهدوا إذا تبايعتم ولا يضار كاتب ولا شهيد وإن تفعلوا فإنه فسوق بكم واتقوا الله ويعلمكم الله والله بكل شيء عليم'),\n",
              " (16,\n",
              "  2825,\n",
              "  'الله نور السماوات والأرض مثل نوره كمشكاة فيها مصباح المصباح في زجاجة الزجاجة كأنها كوكب دري يوقد من شجرة مباركة زيتونة لا شرقية ولا غربية يكاد زيتها يضيء ولو لم تمسسه نار نور على نور يهدي الله لنوره من يشاء ويضرب الله الأمثال للناس والله بكل شيء عليم'),\n",
              " (16,\n",
              "  2672,\n",
              "  'وجاهدوا في الله حق جهاده هو اجتباكم وما جعل عليكم في الدين من حرج ملة أبيكم إبراهيم هو سماكم المسلمين من قبل وفي هذا ليكون الرسول شهيدا عليكم وتكونوا شهداء على الناس فأقيموا الصلاة وآتوا الزكاة واعتصموا بالله هو مولاكم فنعم المولى ونعم النصير'),\n",
              " (15,\n",
              "  5217,\n",
              "  'بسم الله الرحمن الرحيم يا أيها النبي إذا طلقتم النساء فطلقوهن لعدتهن وأحصوا العدة واتقوا الله ربكم لا تخرجوهن من بيوتهن ولا يخرجن إلا أن يأتين بفاحشة مبينة وتلك حدود الله ومن يتعد حدود الله فقد ظلم نفسه لا تدري لعل الله يحدث بعد ذلك أمرا'),\n",
              " (15,\n",
              "  5116,\n",
              "  'أأشفقتم أن تقدموا بين يدي نجواكم صدقات فإذ لم تفعلوا وتاب الله عليكم فأقيموا الصلاة وآتوا الزكاة وأطيعوا الله ورسوله والله خبير بما تعملون'),\n",
              " (15,\n",
              "  4611,\n",
              "  'محمد رسول الله والذين معه أشداء على الكفار رحماء بينهم تراهم ركعا سجدا يبتغون فضلا من الله ورضوانا سيماهم في وجوههم من أثر السجود ذلك مثلهم في التوراة ومثلهم في الإنجيل كزرع أخرج شطأه فآزره فاستغلظ فاستوى على سوقه يعجب الزراع ليغيظ بهم الكفار وعد الله الذين آمنوا وعملوا الصالحات منهم مغفرة وأجرا عظيما'),\n",
              " (15,\n",
              "  670,\n",
              "  'يا أيها الذين آمنوا لا تحلوا شعائر الله ولا الشهر الحرام ولا الهدي ولا القلائد ولا آمين البيت الحرام يبتغون فضلا من ربهم ورضوانا وإذا حللتم فاصطادوا ولا يجرمنكم شنآن قوم أن صدوكم عن المسجد الحرام أن تعتدوا وتعاونوا على البر والتقوى ولا تعاونوا على الإثم والعدوان واتقوا الله إن الله شديد العقاب'),\n",
              " (14,\n",
              "  1723,\n",
              "  'أنزل من السماء ماء فسالت أودية بقدرها فاحتمل السيل زبدا رابيا ومما يوقدون عليه في النار ابتغاء حلية أو متاع زبد مثله كذلك يضرب الله الحق والباطل فأما الزبد فيذهب جفاء وأما ما ينفع الناس فيمكث في الأرض كذلك يضرب الله الأمثال'),\n",
              " (14,\n",
              "  237,\n",
              "  'وإذا طلقتم النساء فبلغن أجلهن فأمسكوهن بمعروف أو سرحوهن بمعروف ولا تمسكوهن ضرارا لتعتدوا ومن يفعل ذلك فقد ظلم نفسه ولا تتخذوا آيات الله هزوا واذكروا نعمت الله عليكم وما أنزل عليكم من الكتاب والحكمة يعظكم به واتقوا الله واعلموا أن الله بكل شيء عليم'),\n",
              " (13,\n",
              "  5150,\n",
              "  'بسم الله الرحمن الرحيم يا أيها الذين آمنوا لا تتخذوا عدوي وعدوكم أولياء تلقون إليهم بالمودة وقد كفروا بما جاءكم من الحق يخرجون الرسول وإياكم أن تؤمنوا بالله ربكم إن كنتم خرجتم جهادا في سبيلي وابتغاء مرضاتي تسرون إليهم بالمودة وأنا أعلم بما أخفيتم وما أعلنتم ومن يفعله منكم فقد ضل سواء السبيل'),\n",
              " (13,\n",
              "  4559,\n",
              "  'مثل الجنة التي وعد المتقون فيها أنهار من ماء غير آسن وأنهار من لبن لم يتغير طعمه وأنهار من خمر لذة للشاربين وأنهار من عسل مصفى ولهم فيها من كل الثمرات ومغفرة من ربهم كمن هو خالد في النار وسقوا ماء حميما فقطع أمعاءهم'),\n",
              " (13,\n",
              "  1305,\n",
              "  'والمؤمنون والمؤمنات بعضهم أولياء بعض يأمرون بالمعروف وينهون عن المنكر ويقيمون الصلاة ويؤتون الزكاة ويطيعون الله ورسوله أولئك سيرحمهم الله إن الله عزيز حكيم'),\n",
              " (13,\n",
              "  765,\n",
              "  'جعل الله الكعبة البيت الحرام قياما للناس والشهر الحرام والهدي والقلائد ذلك لتعلموا أن الله يعلم ما في السماوات وما في الأرض وأن الله بكل شيء عليم'),\n",
              " (13,\n",
              "  716,\n",
              "  'وأنزلنا إليك الكتاب بالحق مصدقا لما بين يديه من الكتاب ومهيمنا عليه فاحكم بينهم بما أنزل الله ولا تتبع أهواءهم عما جاءك من الحق لكل جعلنا منكم شرعة ومنهاجا ولو شاء الله لجعلكم أمة واحدة ولكن ليبلوكم في ما آتاكم فاستبقوا الخيرات إلى الله مرجعكم جميعا فينبئكم بما كنتم فيه تختلفون')]"
            ]
          },
          "execution_count": 106,
          "metadata": {},
          "output_type": "execute_result"
        }
      ],
      "source": [
        "get_combined_models_results('الوضوء', get_verse_frequency_score)[:20]"
      ]
    },
    {
      "cell_type": "markdown",
      "metadata": {
        "id": "25rVyRu5uW_1"
      },
      "source": [
        "## Combining(models, methods)"
      ]
    },
    {
      "cell_type": "code",
      "execution_count": 107,
      "metadata": {
        "id": "VotsMS4W5WXr"
      },
      "outputs": [],
      "source": [
        "def get_all_combined(query_text):\n",
        "    '''\n",
        "    Get the most similar verses to a query text,\n",
        "    based on combining all models with all maximizing methods.\n",
        "    \n",
        "    @param query_text: query text (one or more words)\n",
        "    @type query_text: str (arabic unicode)\n",
        "    @return: most similar verses\n",
        "    @rtype: list of tuples (score, verse_id, verse_text)\n",
        "    '''\n",
        "\n",
        "    methods = [get_combined_models_results(query_text, get_verse_max_score),\n",
        "               get_combined_models_results(query_text, get_verse_frequency_score),\n",
        "               get_combined_models_results(query_text, get_verse_avg_score)]\n",
        "\n",
        "    # To have a constant measurement, scores are defined based on sum of all scores\n",
        "    max_score = [sum([score for score, verse_id, verse in method]) for method in methods]\n",
        "    verse2score = {}\n",
        "    for i in range(3):\n",
        "        for score, verse_id, verse in methods[i]:\n",
        "            final_score = score / max_score[i]\n",
        "\n",
        "            # Avoid division by zero\n",
        "            if final_score == 0:\n",
        "                continue\n",
        "            if (verse_id, verse) in verse2score:\n",
        "                verse2score[(verse_id, verse)][0] += final_score\n",
        "                verse2score[(verse_id, verse)][1] += 1.0\n",
        "            else:\n",
        "                verse2score[(verse_id, verse)] = [final_score, 1.0]\n",
        "\n",
        "    score2verse = []\n",
        "    for (verse_id, verse), [score, frequency] in verse2score.items():\n",
        "        score2verse.append((score / frequency, verse_id, verse))\n",
        "\n",
        "    score2verse.sort(reverse=True)\n",
        "\n",
        "    # Return at most 50 verses\n",
        "    max_out_length = min(len(score2verse), 50)\n",
        "    return score2verse[:max_out_length]"
      ]
    },
    {
      "cell_type": "markdown",
      "metadata": {
        "id": "a9arQhah5PMl"
      },
      "source": [
        "### Testing Legendary Grand Master Version"
      ]
    },
    {
      "cell_type": "code",
      "execution_count": 108,
      "metadata": {
        "colab": {
          "base_uri": "https://localhost:8080/"
        },
        "id": "MwLk7wRWKMKL",
        "outputId": "76bed480-1974-40b9-cb36-6a6be347f752"
      },
      "outputs": [
        {
          "data": {
            "text/plain": [
              "[(0.06563245823389022,\n",
              "  202,\n",
              "  'وأتموا الحج والعمرة لله فإن أحصرتم فما استيسر من الهدي ولا تحلقوا رءوسكم حتى يبلغ الهدي محله فمن كان منكم مريضا أو به أذى من رأسه ففدية من صيام أو صدقة أو نسك فإذا أمنتم فمن تمتع بالعمرة إلى الحج فما استيسر من الهدي فمن لم يجد فصيام ثلاثة أيام في الحج وسبعة إذا رجعتم تلك عشرة كاملة ذلك لمن لم يكن أهله حاضري المسجد الحرام واتقوا الله واعلموا أن الله شديد العقاب'),\n",
              " (0.059665871121718374,\n",
              "  193,\n",
              "  'أحل لكم ليلة الصيام الرفث إلى نسائكم هن لباس لكم وأنتم لباس لهن علم الله أنكم كنتم تختانون أنفسكم فتاب عليكم وعفا عنكم فالآن باشروهن وابتغوا ما كتب الله لكم وكلوا واشربوا حتى يتبين لكم الخيط الأبيض من الخيط الأسود من الفجر ثم أتموا الصيام إلى الليل ولا تباشروهن وأنتم عاكفون في المساجد تلك حدود الله فلا تقربوها كذلك يبين الله آياته للناس لعلهم يتقون'),\n",
              " (0.04653656691140208, 5895, 'ويصلى سعيرا'),\n",
              " (0.04440220597171151,\n",
              "  2848,\n",
              "  'يا أيها الذين آمنوا ليستأذنكم الذين ملكت أيمانكم والذين لم يبلغوا الحلم منكم ثلاث مرات من قبل صلاة الفجر وحين تضعون ثيابكم من الظهيرة ومن بعد صلاة العشاء ثلاث عورات لكم ليس عليكم ولا عليهم جناح بعدهن طوافون عليكم بعضكم على بعض كذلك يبين الله لكم الآيات والله عليم حكيم'),\n",
              " (0.0422353906659889,\n",
              "  244,\n",
              "  'حافظوا على الصلوات والصلاة الوسطى وقوموا لله قانتين'),\n",
              " (0.04166248017754315, 5396, 'إلا المصلين'),\n",
              " (0.033506412514123535, 4669, 'ومن الليل فسبحه وأدبار السجود'),\n",
              " (0.03329162789964458, 5995, 'والشفع والوتر'),\n",
              " (0.032821445745367765,\n",
              "  5494,\n",
              "  'إن ربك يعلم أنك تقوم أدنى من ثلثي الليل ونصفه وثلثه وطائفة من الذين معك والله يقدر الليل والنهار علم أن لن تحصوه فتاب عليكم فاقرءوا ما تيسر من القرآن علم أن سيكون منكم مرضى وآخرون يضربون في الأرض يبتغون من فضل الله وآخرون يقاتلون في سبيل الله فاقرءوا ما تيسر منه وأقيموا الصلاة وآتوا الزكاة وأقرضوا الله قرضا حسنا وما تقدموا لأنفسكم من خير تجدوه عند الله هو خيرا وأعظم أجرا واستغفروا الله إن الله غفور رحيم'),\n",
              " (0.03211117650870634, 49, 'وأقيموا الصلاة وآتوا الزكاة واركعوا مع الراكعين'),\n",
              " (0.029832935560859187,\n",
              "  3585,\n",
              "  'يا أيها الذين آمنوا لا تدخلوا بيوت النبي إلا أن يؤذن لكم إلى طعام غير ناظرين إناه ولكن إذا دعيتم فادخلوا فإذا طعمتم فانتشروا ولا مستأنسين لحديث إن ذلكم كان يؤذي النبي فيستحيي منكم والله لا يستحيي من الحق وإذا سألتموهن متاعا فاسألوهن من وراء حجاب ذلكم أطهر لقلوبكم وقلوبهن وما كان لكم أن تؤذوا رسول الله ولا أن تنكحوا أزواجه من بعده أبدا إن ذلكم كان عند الله عظيما'),\n",
              " (0.029429850968765048, 6200, 'فويل للمصلين'),\n",
              " (0.028731328559466092,\n",
              "  2846,\n",
              "  'وأقيموا الصلاة وآتوا الزكاة وأطيعوا الرسول لعلكم ترحمون'),\n",
              " (0.028639618138424822,\n",
              "  191,\n",
              "  'شهر رمضان الذي أنزل فيه القرآن هدى للناس وبينات من الهدى والفرقان فمن شهد منكم الشهر فليصمه ومن كان مريضا أو على سفر فعدة من أيام أخر يريد الله بكم اليسر ولا يريد بكم العسر ولتكملوا العدة ولتكبروا الله على ما هداكم ولعلكم تشكرون'),\n",
              " (0.028348408176990005, 5556, 'يسأل أيان يوم القيامة'),\n",
              " (0.028232981160280224,\n",
              "  2106,\n",
              "  'أقم الصلاة لدلوك الشمس إلى غسق الليل وقرآن الفجر إن قرآن الفجر كان مشهودا'),\n",
              " (0.027446300715990454,\n",
              "  670,\n",
              "  'يا أيها الذين آمنوا لا تحلوا شعائر الله ولا الشهر الحرام ولا الهدي ولا القلائد ولا آمين البيت الحرام يبتغون فضلا من ربهم ورضوانا وإذا حللتم فاصطادوا ولا يجرمنكم شنآن قوم أن صدوكم عن المسجد الحرام أن تعتدوا وتعاونوا على البر والتقوى ولا تعاونوا على الإثم والعدوان واتقوا الله إن الله شديد العقاب'),\n",
              " (0.02740210634838986, 5720, 'أبصارها خاشعة'),\n",
              " (0.026252983293556086,\n",
              "  288,\n",
              "  'يا أيها الذين آمنوا إذا تداينتم بدين إلى أجل مسمى فاكتبوه وليكتب بينكم كاتب بالعدل ولا يأب كاتب أن يكتب كما علمه الله فليكتب وليملل الذي عليه الحق وليتق الله ربه ولا يبخس منه شيئا فإن كان الذي عليه الحق سفيها أو ضعيفا أو لا يستطيع أن يمل هو فليملل وليه بالعدل واستشهدوا شهيدين من رجالكم فإن لم يكونا رجلين فرجل وامرأتان ممن ترضون من الشهداء أن تضل إحداهما فتذكر إحداهما الأخرى ولا يأب الشهداء إذا ما دعوا ولا تسأموا أن تكتبوه صغيرا أو كبيرا إلى أجله ذلكم أقسط عند الله وأقوم للشهادة وأدنى ألا ترتابوا إلا أن تكون تجارة حاضرة تديرونها بينكم فليس عليكم جناح ألا تكتبوها وأشهدوا إذا تبايعتم ولا يضار كاتب ولا شهيد وإن تفعلوا فإنه فسوق بكم واتقوا الله ويعلمكم الله والله بكل شيء عليم'),\n",
              " (0.026252983293556086,\n",
              "  149,\n",
              "  'وكذلك جعلناكم أمة وسطا لتكونوا شهداء على الناس ويكون الرسول عليكم شهيدا وما جعلنا القبلة التي كنت عليها إلا لنعلم من يتبع الرسول ممن ينقلب على عقبيه وإن كانت لكبيرة إلا على الذين هدى الله وما كان الله ليضيع إيمانكم إن الله بالناس لرءوف رحيم')]"
            ]
          },
          "execution_count": 108,
          "metadata": {},
          "output_type": "execute_result"
        }
      ],
      "source": [
        "get_all_combined('صلاة الجمعة')[:20]"
      ]
    },
    {
      "cell_type": "code",
      "execution_count": 109,
      "metadata": {
        "colab": {
          "base_uri": "https://localhost:8080/"
        },
        "id": "QJLxxGHFJ5wE",
        "outputId": "fe4ac2ee-928d-4b18-8be7-7f1578b0c72c"
      },
      "outputs": [
        {
          "data": {
            "text/plain": [
              "[(0.057233597633765586,\n",
              "  510,\n",
              "  'وليست التوبة للذين يعملون السيئات حتى إذا حضر أحدهم الموت قال إني تبت الآن ولا الذين يموتون وهم كفار أولئك أعتدنا لهم عذابا أليما'),\n",
              " (0.04441000603079315, 5571, 'وتذرون الآخرة'),\n",
              " (0.043761638733705775,\n",
              "  288,\n",
              "  'يا أيها الذين آمنوا إذا تداينتم بدين إلى أجل مسمى فاكتبوه وليكتب بينكم كاتب بالعدل ولا يأب كاتب أن يكتب كما علمه الله فليكتب وليملل الذي عليه الحق وليتق الله ربه ولا يبخس منه شيئا فإن كان الذي عليه الحق سفيها أو ضعيفا أو لا يستطيع أن يمل هو فليملل وليه بالعدل واستشهدوا شهيدين من رجالكم فإن لم يكونا رجلين فرجل وامرأتان ممن ترضون من الشهداء أن تضل إحداهما فتذكر إحداهما الأخرى ولا يأب الشهداء إذا ما دعوا ولا تسأموا أن تكتبوه صغيرا أو كبيرا إلى أجله ذلكم أقسط عند الله وأقوم للشهادة وأدنى ألا ترتابوا إلا أن تكون تجارة حاضرة تديرونها بينكم فليس عليكم جناح ألا تكتبوها وأشهدوا إذا تبايعتم ولا يضار كاتب ولا شهيد وإن تفعلوا فإنه فسوق بكم واتقوا الله ويعلمكم الله والله بكل شيء عليم'),\n",
              " (0.04330871594538962,\n",
              "  4296,\n",
              "  'وهو الذي يقبل التوبة عن عباده ويعفو عن السيئات ويعلم ما تفعلون'),\n",
              " (0.041641862260459364,\n",
              "  1338,\n",
              "  'ألم يعلموا أن الله هو يقبل التوبة عن عباده ويأخذ الصدقات وأن الله هو التواب الرحيم'),\n",
              " (0.03683256983350405,\n",
              "  509,\n",
              "  'إنما التوبة على الله للذين يعملون السوء بجهالة ثم يتوبون من قريب فأولئك يتوب الله عليهم وكان الله عليما حكيما'),\n",
              " (0.035381750465549346,\n",
              "  202,\n",
              "  'وأتموا الحج والعمرة لله فإن أحصرتم فما استيسر من الهدي ولا تحلقوا رءوسكم حتى يبلغ الهدي محله فمن كان منكم مريضا أو به أذى من رأسه ففدية من صيام أو صدقة أو نسك فإذا أمنتم فمن تمتع بالعمرة إلى الحج فما استيسر من الهدي فمن لم يجد فصيام ثلاثة أيام في الحج وسبعة إذا رجعتم تلك عشرة كاملة ذلك لمن لم يكن أهله حاضري المسجد الحرام واتقوا الله واعلموا أن الله شديد العقاب'),\n",
              " (0.034811987850033525, 2, 'الرحمن الرحيم'),\n",
              " (0.03399414965676701,\n",
              "  5550,\n",
              "  'وما يذكرون إلا أن يشاء الله هو أهل التقوى وأهل المغفرة'),\n",
              " (0.03399414965676701,\n",
              "  4815,\n",
              "  'الذين يجتنبون كبائر الإثم والفواحش إلا اللمم إن ربك واسع المغفرة هو أعلم بكم إذ أنشأكم من الأرض وإذ أنتم أجنة في بطون أمهاتكم فلا تزكوا أنفسكم هو أعلم بمن اتقى'),\n",
              " (0.03369805012435111, 3021, 'وأزلفت الجنة للمتقين'),\n",
              " (0.032588454376163874,\n",
              "  5494,\n",
              "  'إن ربك يعلم أنك تقوم أدنى من ثلثي الليل ونصفه وثلثه وطائفة من الذين معك والله يقدر الليل والنهار علم أن لن تحصوه فتاب عليكم فاقرءوا ما تيسر من القرآن علم أن سيكون منكم مرضى وآخرون يضربون في الأرض يبتغون من فضل الله وآخرون يقاتلون في سبيل الله فاقرءوا ما تيسر منه وأقيموا الصلاة وآتوا الزكاة وأقرضوا الله قرضا حسنا وما تقدموا لأنفسكم من خير تجدوه عند الله هو خيرا وأعظم أجرا واستغفروا الله إن الله غفور رحيم'),\n",
              " (0.031585709547905176,\n",
              "  4110,\n",
              "  'قل يا عبادي الذين أسرفوا على أنفسهم لا تقنطوا من رحمة الله إن الله يغفر الذنوب جميعا إنه هو الغفور الرحيم'),\n",
              " (0.031585709547905176,\n",
              "  427,\n",
              "  'والذين إذا فعلوا فاحشة أو ظلموا أنفسهم ذكروا الله فاستغفروا لذنوبهم ومن يغفر الذنوب إلا الله ولم يصروا على ما فعلوا وهم يعلمون'),\n",
              " (0.027932960893854747,\n",
              "  193,\n",
              "  'أحل لكم ليلة الصيام الرفث إلى نسائكم هن لباس لكم وأنتم لباس لهن علم الله أنكم كنتم تختانون أنفسكم فتاب عليكم وعفا عنكم فالآن باشروهن وابتغوا ما كتب الله لكم وكلوا واشربوا حتى يتبين لكم الخيط الأبيض من الخيط الأسود من الفجر ثم أتموا الصيام إلى الليل ولا تباشروهن وأنتم عاكفون في المساجد تلك حدود الله فلا تقربوها كذلك يبين الله آياته للناس لعلهم يتقون'),\n",
              " (0.027001862197392923,\n",
              "  3585,\n",
              "  'يا أيها الذين آمنوا لا تدخلوا بيوت النبي إلا أن يؤذن لكم إلى طعام غير ناظرين إناه ولكن إذا دعيتم فادخلوا فإذا طعمتم فانتشروا ولا مستأنسين لحديث إن ذلكم كان يؤذي النبي فيستحيي منكم والله لا يستحيي من الحق وإذا سألتموهن متاعا فاسألوهن من وراء حجاب ذلكم أطهر لقلوبكم وقلوبهن وما كان لكم أن تؤذوا رسول الله ولا أن تنكحوا أزواجه من بعده أبدا إن ذلكم كان عند الله عظيما'),\n",
              " (0.027001862197392923,\n",
              "  2848,\n",
              "  'يا أيها الذين آمنوا ليستأذنكم الذين ملكت أيمانكم والذين لم يبلغوا الحلم منكم ثلاث مرات من قبل صلاة الفجر وحين تضعون ثيابكم من الظهيرة ومن بعد صلاة العشاء ثلاث عورات لكم ليس عليكم ولا عليهم جناح بعدهن طوافون عليكم بعضكم على بعض كذلك يبين الله لكم الآيات والله عليم حكيم'),\n",
              " (0.026828542283418823, 6063, 'وصدق بالحسنى'),\n",
              " (0.026296785667481334, 1893, 'فوربك لنسألنهم أجمعين'),\n",
              " (0.0260707635009311,\n",
              "  670,\n",
              "  'يا أيها الذين آمنوا لا تحلوا شعائر الله ولا الشهر الحرام ولا الهدي ولا القلائد ولا آمين البيت الحرام يبتغون فضلا من ربهم ورضوانا وإذا حللتم فاصطادوا ولا يجرمنكم شنآن قوم أن صدوكم عن المسجد الحرام أن تعتدوا وتعاونوا على البر والتقوى ولا تعاونوا على الإثم والعدوان واتقوا الله إن الله شديد العقاب')]"
            ]
          },
          "execution_count": 109,
          "metadata": {},
          "output_type": "execute_result"
        }
      ],
      "source": [
        "get_all_combined('التوبة')[:20]"
      ]
    },
    {
      "cell_type": "code",
      "execution_count": 110,
      "metadata": {
        "colab": {
          "base_uri": "https://localhost:8080/"
        },
        "id": "UoTdSO1JJC_j",
        "outputId": "cd41d796-ebd7-43b0-fc00-6d4b7996049d"
      },
      "outputs": [
        {
          "data": {
            "text/plain": [
              "[(0.07128460063818569,\n",
              "  2624,\n",
              "  'ذلك ومن يعظم حرمات الله فهو خير له عند ربه وأحلت لكم الأنعام إلا ما يتلى عليكم فاجتنبوا الرجس من الأوثان واجتنبوا قول الزور'),\n",
              " (0.04832398124870964, 2375, 'يفقهوا قولي'),\n",
              " (0.04766269477543538,\n",
              "  288,\n",
              "  'يا أيها الذين آمنوا إذا تداينتم بدين إلى أجل مسمى فاكتبوه وليكتب بينكم كاتب بالعدل ولا يأب كاتب أن يكتب كما علمه الله فليكتب وليملل الذي عليه الحق وليتق الله ربه ولا يبخس منه شيئا فإن كان الذي عليه الحق سفيها أو ضعيفا أو لا يستطيع أن يمل هو فليملل وليه بالعدل واستشهدوا شهيدين من رجالكم فإن لم يكونا رجلين فرجل وامرأتان ممن ترضون من الشهداء أن تضل إحداهما فتذكر إحداهما الأخرى ولا يأب الشهداء إذا ما دعوا ولا تسأموا أن تكتبوه صغيرا أو كبيرا إلى أجله ذلكم أقسط عند الله وأقوم للشهادة وأدنى ألا ترتابوا إلا أن تكون تجارة حاضرة تديرونها بينكم فليس عليكم جناح ألا تكتبوها وأشهدوا إذا تبايعتم ولا يضار كاتب ولا شهيد وإن تفعلوا فإنه فسوق بكم واتقوا الله ويعلمكم الله والله بكل شيء عليم'),\n",
              " (0.042346297641899164,\n",
              "  5104,\n",
              "  'بسم الله الرحمن الرحيم قد سمع الله قول التي تجادلك في زوجها وتشتكي إلى الله والله يسمع تحاوركما إن الله سميع بصير'),\n",
              " (0.04084032768352564, 3818, 'فحق علينا قول ربنا إنا لذائقون'),\n",
              " (0.04036797614669953, 4682, 'إنكم لفي قول مختلف'),\n",
              " (0.03666361136571952,\n",
              "  446,\n",
              "  'ثم أنزل عليكم من بعد الغم أمنة نعاسا يغشى طائفة منكم وطائفة قد أهمتهم أنفسهم يظنون بالله غير الحق ظن الجاهلية يقولون هل لنا من الأمر من شيء قل إن الأمر كله لله يخفون في أنفسهم ما لا يبدون لك يقولون لو كان لنا من الأمر شيء ما قتلنا هاهنا قل لو كنتم في بيوتكم لبرز الذين كتب عليهم القتل إلى مضاجعهم وليبتلي الله ما في صدوركم وليمحص ما في قلوبكم والله عليم بذات الصدور'),\n",
              " (0.035642300319092844,\n",
              "  2926,\n",
              "  'والذين لا يشهدون الزور وإذا مروا باللغو مروا كراما'),\n",
              " (0.035642300319092844,\n",
              "  2841,\n",
              "  'إنما كان قول المؤمنين إذا دعوا إلى الله ورسوله ليحكم بينهم أن يقولوا سمعنا وأطعنا وأولئك هم المفلحون'),\n",
              " (0.035642300319092844,\n",
              "  473,\n",
              "  'لقد سمع الله قول الذين قالوا إن الله فقير ونحن أغنياء سنكتب ما قالوا وقتلهم الأنبياء بغير حق ونقول ذوقوا عذاب الحريق'),\n",
              " (0.035642300319092844,\n",
              "  269,\n",
              "  'قول معروف ومغفرة خير من صدقة يتبعها أذى والله غني حليم'),\n",
              " (0.03391384051329056,\n",
              "  265,\n",
              "  'أو كالذي مر على قرية وهي خاوية على عروشها قال أنى يحيي هذه الله بعد موتها فأماته الله مائة عام ثم بعثه قال كم لبثت قال لبثت يوما أو بعض يوم قال بل لبثت مائة عام فانظر إلى طعامك وشرابك لم يتسنه وانظر إلى حمارك ولنجعلك آية للناس وانظر إلى العظام كيف ننشزها ثم نكسوها لحما فلما تبين له قال أعلم أن الله على كل شيء قدير'),\n",
              " (0.03236619577599816, 5519, 'إن هذا إلا قول البشر'),\n",
              " (0.031164069660861594,\n",
              "  881,\n",
              "  'ومن أظلم ممن افترى على الله كذبا أو قال أوحي إلي ولم يوح إليه شيء ومن قال سأنزل مثل ما أنزل الله ولو ترى إذ الظالمون في غمرات الموت والملائكة باسطو أيديهم أخرجوا أنفسكم اليوم تجزون عذاب الهون بما كنتم تقولون على الله غير الحق وكنتم عن آياته تستكبرون'),\n",
              " (0.030413380969098788, 2329, 'ونرثه ما يقول ويأتينا فردا'),\n",
              " (0.03024747937671861,\n",
              "  3585,\n",
              "  'يا أيها الذين آمنوا لا تدخلوا بيوت النبي إلا أن يؤذن لكم إلى طعام غير ناظرين إناه ولكن إذا دعيتم فادخلوا فإذا طعمتم فانتشروا ولا مستأنسين لحديث إن ذلكم كان يؤذي النبي فيستحيي منكم والله لا يستحيي من الحق وإذا سألتموهن متاعا فاسألوهن من وراء حجاب ذلكم أطهر لقلوبكم وقلوبهن وما كان لكم أن تؤذوا رسول الله ولا أن تنكحوا أزواجه من بعده أبدا إن ذلكم كان عند الله عظيما'),\n",
              " (0.030195118995476763,\n",
              "  5153,\n",
              "  'قد كانت لكم أسوة حسنة في إبراهيم والذين معه إذ قالوا لقومهم إنا برآء منكم ومما تعبدون من دون الله كفرنا بكم وبدا بيننا وبينكم العداوة والبغضاء أبدا حتى تؤمنوا بالله وحده إلا قول إبراهيم لأبيه لأستغفرن لك وما أملك لك من الله من شيء ربنا عليك توكلنا وإليك أنبنا وإليك المصير'),\n",
              " (0.02933088909257562,\n",
              "  5494,\n",
              "  'إن ربك يعلم أنك تقوم أدنى من ثلثي الليل ونصفه وثلثه وطائفة من الذين معك والله يقدر الليل والنهار علم أن لن تحصوه فتاب عليكم فاقرءوا ما تيسر من القرآن علم أن سيكون منكم مرضى وآخرون يضربون في الأرض يبتغون من فضل الله وآخرون يقاتلون في سبيل الله فاقرءوا ما تيسر منه وأقيموا الصلاة وآتوا الزكاة وأقرضوا الله قرضا حسنا وما تقدموا لأنفسكم من خير تجدوه عند الله هو خيرا وأعظم أجرا واستغفروا الله إن الله غفور رحيم'),\n",
              " (0.02933088909257562,\n",
              "  663,\n",
              "  'يا أهل الكتاب لا تغلوا في دينكم ولا تقولوا على الله إلا الحق إنما المسيح عيسى ابن مريم رسول الله وكلمته ألقاها إلى مريم وروح منه فآمنوا بالله ورسله ولا تقولوا ثلاثة انتهوا خيرا لكم إنما الله إله واحد سبحانه أن يكون له ولد له ما في السماوات وما في الأرض وكفى بالله وكيلا'),\n",
              " (0.029103686525623666, 4053, 'قال فالحق والحق أقول')]"
            ]
          },
          "execution_count": 110,
          "metadata": {},
          "output_type": "execute_result"
        }
      ],
      "source": [
        "get_all_combined('قول الزور')[:20]"
      ]
    },
    {
      "cell_type": "markdown",
      "metadata": {
        "id": "ej49oEvZ7Ymk"
      },
      "source": [
        "## Pooling"
      ]
    },
    {
      "cell_type": "code",
      "execution_count": 111,
      "metadata": {
        "colab": {
          "base_uri": "https://localhost:8080/"
        },
        "id": "1zb2Bsuy8mjb",
        "outputId": "2a0fd23c-a9ec-43a6-e3e3-638983fd7bd6"
      },
      "outputs": [
        {
          "data": {
            "text/plain": [
              "['كيف', 'نشأ', 'الإنسان']"
            ]
          },
          "execution_count": 111,
          "metadata": {},
          "output_type": "execute_result"
        }
      ],
      "source": [
        "from pyarabic.araby import tokenize\n",
        "\n",
        "query = \"كيف نشأ الإنسان\"\n",
        "query_tokens = tokenize(query)\n",
        "query_tokens"
      ]
    },
    {
      "cell_type": "code",
      "execution_count": 112,
      "metadata": {
        "colab": {
          "base_uri": "https://localhost:8080/"
        },
        "id": "QvVI4_jK9FTI",
        "outputId": "b30f317e-b5b4-4c2d-e0cd-8b538ebe91bc"
      },
      "outputs": [
        {
          "name": "stdout",
          "output_type": "stream",
          "text": [
            "كيف\n",
            "(1, 300)\n",
            "(1, 300)\n",
            "(1, 300)\n",
            "(1, 300)\n",
            "نشأ\n",
            "(1, 300)\n",
            "(1, 300)\n",
            "(1, 300)\n",
            "(1, 300)\n",
            "الإنسان\n",
            "(1, 300)\n",
            "(1, 300)\n",
            "(1, 300)\n",
            "(1, 300)\n"
          ]
        }
      ],
      "source": [
        "import numpy as np\n",
        "\n",
        "for token in query_tokens:\n",
        "  print(token)\n",
        "  vec1 = model_tw[clean(token, 'TWITTER')]\n",
        "  vec2 = model_wiki[clean(token, 'WIKI')]\n",
        "  vec3 = model_ksucca[clean(token, 'KSUCCA')]\n",
        "  vec4 = model_fasttext[clean(token, 'FASTTEXT')]\n",
        "\n",
        "  print(np.shape(vec1)) # 1-dimensional array with length 300\n",
        "  print(np.shape(vec2)) # 1-dimensional array with length 300\n",
        "  print(np.shape(vec3)) # 1-dimensional array with length 300\n",
        "  print(np.shape(vec4)) # 1-dimensional array with length 300"
      ]
    },
    {
      "cell_type": "markdown",
      "metadata": {
        "id": "84QLvJTr8ZgG"
      },
      "source": [
        "### MAX Pooling"
      ]
    },
    {
      "cell_type": "code",
      "execution_count": 113,
      "metadata": {
        "id": "8AthRB2vHxW4"
      },
      "outputs": [],
      "source": [
        "def get_max_pooling_vec(tokens, model):\n",
        "  arr = [-1e9 for idx in range(300)]\n",
        "  max_pooling_vec = np.copy(np.array(arr))  # avoid read-only error\n",
        "\n",
        "  (model_vectors, model_name) = model\n",
        "  for token in tokens:\n",
        "    cleaned = clean(token, model_name)\n",
        "    if len(cleaned):\n",
        "      cleaned = cleaned[0]\n",
        "    else:\n",
        "      cleaned = ''\n",
        "    \n",
        "    if cleaned not in model_vectors:\n",
        "      continue\n",
        "    vec = model_vectors[cleaned]\n",
        "    for idx in range(300):\n",
        "      max_pooling_vec[idx] = max(max_pooling_vec[idx], vec[idx])\n",
        "  \n",
        "  return max_pooling_vec"
      ]
    },
    {
      "cell_type": "code",
      "execution_count": 114,
      "metadata": {
        "colab": {
          "base_uri": "https://localhost:8080/"
        },
        "id": "bEapB8-ODsNr",
        "outputId": "afd42b8e-251e-42b0-8d96-1926ef4482bb"
      },
      "outputs": [
        {
          "data": {
            "text/plain": [
              "array([ 0.0628    ,  0.0737    ,  0.2638    ,  0.1122    ,  1.07319999,\n",
              "        0.0854    ,  0.15899999,  0.13259999,  0.1516    ,  0.0736    ,\n",
              "        0.0675    ,  0.0605    ,  0.1077    ,  0.0567    ,  0.1787    ,\n",
              "        0.15710001,  0.14129999,  0.18170001,  0.0315    ,  0.1407    ,\n",
              "        0.1919    ,  0.0168    ,  0.0585    ,  0.1973    ,  0.26289999,\n",
              "        0.0176    ,  0.198     ,  0.23639999,  0.0711    ,  0.2059    ,\n",
              "        0.2449    ,  0.1584    ,  0.0563    , -0.0796    ,  0.338     ,\n",
              "        0.13150001,  0.1434    ,  0.0617    ,  0.2726    ,  0.14049999,\n",
              "        0.2298    ,  0.1873    ,  0.1523    ,  0.044     ,  0.1998    ,\n",
              "        0.163     ,  0.43000001,  0.1578    ,  0.0293    ,  0.1991    ,\n",
              "        0.1171    ,  0.1418    ,  0.30500001,  0.27360001,  0.2423    ,\n",
              "        0.4603    ,  0.1006    ,  0.32370001,  0.0212    ,  0.1114    ,\n",
              "        0.2554    ,  0.112     ,  0.0382    ,  0.20280001,  0.1556    ,\n",
              "        0.1092    ,  0.19840001,  0.2342    ,  0.29030001,  0.40259999,\n",
              "        0.0087    ,  0.4149    ,  0.1353    ,  0.2052    ,  0.1855    ,\n",
              "        0.0603    ,  0.0402    ,  0.1076    ,  0.1552    ,  0.1275    ,\n",
              "        0.083     ,  0.15889999,  0.2379    ,  0.1038    ,  0.33399999,\n",
              "        0.1113    ,  0.1062    ,  0.3414    ,  0.29339999,  0.22319999,\n",
              "        0.1815    ,  0.0029    ,  0.1163    ,  0.2096    ,  0.0767    ,\n",
              "        0.34799999,  0.1236    ,  0.21610001,  0.18870001,  0.2586    ,\n",
              "        0.43309999,  0.27020001,  0.1763    ,  0.2412    ,  0.0849    ,\n",
              "        0.1259    ,  0.38569999,  0.21349999, -0.0598    ,  0.14049999,\n",
              "        0.0917    ,  0.154     ,  0.25310001,  0.2062    ,  0.2552    ,\n",
              "        0.1556    ,  0.33669999,  0.0735    ,  0.2253    ,  0.207     ,\n",
              "        0.32949999,  0.1337    ,  0.1902    ,  0.0194    ,  0.21870001,\n",
              "        0.18870001,  0.0652    ,  0.1918    ,  0.13519999,  0.1851    ,\n",
              "        0.1213    ,  0.0379    ,  0.1988    ,  0.1216    ,  0.1684    ,\n",
              "        0.1997    ,  0.0938    ,  0.1357    ,  0.2617    ,  0.061     ,\n",
              "        0.1391    ,  0.1955    ,  0.1626    , -0.0435    ,  0.25080001,\n",
              "        0.1266    ,  0.4648    ,  0.28310001,  0.0465    ,  0.0774    ,\n",
              "        0.1256    ,  0.2897    ,  0.1169    ,  0.0749    ,  0.23540001,\n",
              "        0.1313    ,  0.27669999,  0.1761    ,  0.20730001,  0.26269999,\n",
              "        0.2359    , -0.0047    ,  0.39230001,  0.31130001,  0.1831    ,\n",
              "        0.1494    ,  0.1285    ,  0.0049    ,  0.19230001,  0.35260001,\n",
              "        0.27579999,  0.12540001,  0.1166    ,  0.2199    ,  0.26769999,\n",
              "        0.0386    ,  0.0466    ,  0.2428    ,  0.13699999,  0.0204    ,\n",
              "        0.0342    ,  0.30630001, -0.0013    ,  0.21170001,  0.27079999,\n",
              "        0.0058    ,  0.1004    ,  0.15449999,  0.15000001,  0.34619999,\n",
              "        0.1982    ,  0.2983    ,  0.1213    ,  0.27129999,  0.1237    ,\n",
              "        0.28040001,  0.29120001,  0.0783    ,  0.18870001,  0.0573    ,\n",
              "        0.0488    ,  0.40549999,  0.1105    ,  0.21250001, -0.0284    ,\n",
              "        0.15180001,  0.0451    ,  0.0989    ,  0.042     ,  0.0392    ,\n",
              "        0.1496    ,  0.25319999,  0.20640001,  0.15899999,  0.0454    ,\n",
              "        0.1807    ,  0.40869999,  0.071     , -0.1132    ,  0.18080001,\n",
              "        0.1235    , -0.17399999,  0.27239999,  0.0834    ,  0.0124    ,\n",
              "        0.0833    ,  0.0226    ,  0.207     ,  0.1249    ,  0.1919    ,\n",
              "       -0.0662    ,  0.2762    ,  0.0719    ,  0.12970001,  0.29010001,\n",
              "       -0.0178    ,  0.1008    ,  0.19589999,  0.0879    ,  0.1901    ,\n",
              "        0.13060001,  0.17200001,  0.21789999,  0.0773    ,  0.28529999,\n",
              "        0.1136    ,  0.0991    ,  0.13160001,  0.1674    ,  0.27630001,\n",
              "        0.1392    ,  0.1429    ,  0.1247    ,  0.2273    ,  0.28979999,\n",
              "        0.0371    ,  0.1094    ,  0.16859999,  0.25209999,  0.43419999,\n",
              "        0.18449999,  0.0614    ,  0.2042    ,  0.2667    ,  0.1652    ,\n",
              "        0.134     ,  0.0829    ,  0.25729999,  0.21259999,  0.1189    ,\n",
              "        0.1925    , -0.0106    , -0.0015    ,  0.1053    ,  0.1338    ,\n",
              "        0.20720001,  0.0786    ,  0.38440001,  0.14040001,  0.0139    ,\n",
              "        0.18350001,  0.31369999,  0.43650001,  0.32690001,  0.13600001,\n",
              "        0.0854    ,  0.1972    ,  0.2297    ,  0.0527    ,  0.1052    ,\n",
              "        0.1006    ,  0.0701    ,  0.2322    ,  0.0811    ,  0.2024    ,\n",
              "        0.2212    ,  0.3003    ,  0.25009999,  0.1347    ,  0.0284    ])"
            ]
          },
          "execution_count": 114,
          "metadata": {},
          "output_type": "execute_result"
        }
      ],
      "source": [
        "get_max_pooling_vec(\"الوفاء بالعهد\", (model_fasttext, 'FASTTEXT'))"
      ]
    },
    {
      "cell_type": "markdown",
      "metadata": {
        "id": "lM96k35x8e1O"
      },
      "source": [
        "### AVG Pooling"
      ]
    },
    {
      "cell_type": "code",
      "execution_count": 116,
      "metadata": {
        "id": "W2oPONDK8nFl"
      },
      "outputs": [],
      "source": [
        "def get_avg_pooling_vec(tokens, model):\n",
        "  arr = [0 for idx in range(300)]\n",
        "  avg_pooling_vec = np.copy(np.array(arr))  # avoid read-only error\n",
        "\n",
        "  cnt = 0\n",
        "  (model_vectors, model_name) = model\n",
        "  \n",
        "  for token in tokens:\n",
        "    cleaned = clean(token, model_name)\n",
        "    if len(cleaned):\n",
        "      cleaned = cleaned[0]\n",
        "    else:\n",
        "      cleaned = ''\n",
        "    \n",
        "    if cleaned not in model_vectors:\n",
        "      continue   \n",
        "    cnt += 1\n",
        "    vec = model_vectors[cleaned]\n",
        "    for idx in range(300):\n",
        "      avg_pooling_vec[idx] += vec[idx]\n",
        "\n",
        "  for idx in range(300):\n",
        "    avg_pooling_vec[idx] /= max(1, cnt)\n",
        "  \n",
        "  return avg_pooling_vec"
      ]
    },
    {
      "cell_type": "code",
      "execution_count": 119,
      "metadata": {
        "colab": {
          "base_uri": "https://localhost:8080/"
        },
        "id": "DfWc28LbLGgy",
        "outputId": "2cf77cd3-a1f8-49cf-ac81-ba3c4c3736bf"
      },
      "outputs": [
        {
          "data": {
            "text/plain": [
              "array([ 0,  0,  0,  0,  0,  1,  2,  0,  0,  0,  0,  0,  0,  0,  0, -1,  0,\n",
              "        0,  0,  0,  0,  0, -1,  0,  0,  0,  2,  0,  0,  0,  0,  0,  1,  0,\n",
              "       -1, -2,  0,  0,  0,  0,  0,  0,  0,  2,  0,  0,  0,  0,  0,  0, -1,\n",
              "        0,  0,  1, -1,  0,  0,  0,  0,  1,  0,  0,  0,  0,  0,  1,  2,  0,\n",
              "        0,  2,  0,  0,  0,  0,  0,  0,  0,  0,  1,  0,  0,  0, -1,  0,  0,\n",
              "        0,  0,  0,  0,  0,  0, -1,  0,  0, -1,  0,  0,  0,  0,  0,  0,  0,\n",
              "       -1, -1,  0,  0,  0,  0, -1,  0,  0, -1,  0,  0,  0,  0,  0,  0,  0,\n",
              "        0,  0,  0,  0,  0,  0,  0,  0,  0,  0,  0,  1,  0, -2,  0,  0,  1,\n",
              "        0,  0,  0,  0,  0,  0,  0,  0,  0, -1,  0,  1, -1,  0, -1,  0,  0,\n",
              "        0,  0,  0,  1,  0,  0,  0,  0,  0,  0,  0,  0, -1,  0,  0,  0,  0,\n",
              "        0,  0,  0,  0,  0,  0,  0,  0,  0,  0,  0,  0,  1, -1,  1,  0,  0,\n",
              "        0,  0,  0,  0,  0,  0,  0, -1,  0,  0,  0,  0,  1,  0,  0,  0, -1,\n",
              "        0, -1,  1,  0, -1,  0,  0,  1, -1,  0,  0,  0,  0, -1, -1,  0,  0,\n",
              "        0,  0,  0,  0,  0,  0, -2, -1,  0,  0,  0,  0,  0,  1,  0,  0,  0,\n",
              "        0,  0,  0,  0,  1,  0, -1,  1,  0,  0,  0,  0,  0,  0,  0,  0,  0,\n",
              "        0,  0,  0, -1,  0,  0,  2, -2, -2,  0,  0, -1,  0,  0,  0,  1, -2,\n",
              "        0,  0,  0,  0,  0,  0,  0,  0,  0,  0,  0,  0,  0,  0,  0,  0, -2,\n",
              "        0, -2,  0,  0,  0,  0,  1,  0,  0,  0,  0])"
            ]
          },
          "execution_count": 119,
          "metadata": {},
          "output_type": "execute_result"
        }
      ],
      "source": [
        "get_avg_pooling_vec(\"التهجد وقيام الليل\", (model_tw, 'TWITTER'))"
      ]
    },
    {
      "cell_type": "markdown",
      "metadata": {
        "id": "UUrw1GXsMFTT"
      },
      "source": [
        "### Testing"
      ]
    },
    {
      "cell_type": "code",
      "execution_count": 120,
      "metadata": {
        "id": "TcciAf5RMEUr"
      },
      "outputs": [],
      "source": [
        "import numpy as np\n",
        "\n",
        "def get_pooling_results(query_text, model, method):\n",
        "    '''\n",
        "    Get the pooling results for the given tokens,\n",
        "    according to the given model and method.\n",
        "    \n",
        "    @param query_text: list of words\n",
        "    @type query_text: list\n",
        "    @param model: the model to use\n",
        "    @type model: Word2Vec or KeyedVectors\n",
        "    @param method: the method to use\n",
        "    @type method: function\n",
        "    @return: most similar verses\n",
        "    @rtype: list of tuples (score, verse_id, verse)\n",
        "    '''\n",
        "\n",
        "    query_method_pooling_vec = method(query_text, model)\n",
        "\n",
        "    verse_scores, verse_id = [], 0\n",
        "    for verse in quran_clean_text:\n",
        "        verse_method_pooling_vec = method(verse, model)\n",
        "        cosine_similarity = np.dot(query_method_pooling_vec, verse_method_pooling_vec) / (\n",
        "            np.linalg.norm(query_method_pooling_vec) * np.linalg.norm(verse_method_pooling_vec))\n",
        "\n",
        "        # score = model_vectors.similarity(query_max_pooling_vec, verse_max_pooling_vec)\n",
        "        # will fail, because we generated new vectors that doesn't belong to any model\n",
        "        verse_scores.append((cosine_similarity, verse_id))\n",
        "        verse_id += 1\n",
        "\n",
        "    verse_scores.sort(reverse=True)\n",
        "\n",
        "    # Return at most 50 verses\n",
        "    max_out_length = min(len(verse_scores), 50)\n",
        "    most_similar_verses = [(score, verse_id, quran_clean_text[verse_id])\n",
        "                           for score, verse_id in verse_scores[:max_out_length]]\n",
        "\n",
        "    return most_similar_verses"
      ]
    },
    {
      "cell_type": "code",
      "execution_count": 121,
      "metadata": {
        "colab": {
          "base_uri": "https://localhost:8080/"
        },
        "id": "h4U8DJfGnsa3",
        "outputId": "ff1f5ed1-955d-4786-d128-4d4c3058d300"
      },
      "outputs": [
        {
          "data": {
            "text/plain": [
              "[(0.9781673769181193, 4833, 'وأنه أهلك عادا الأولى'),\n",
              " (0.9776652632273602,\n",
              "  3166,\n",
              "  'فلما جاءها نودي أن بورك من في النار ومن حولها وسبحان الله رب العالمين'),\n",
              " (0.9770342282100043, 4845, 'فاسجدوا لله واعبدوا'),\n",
              " (0.9766098275464736, 4339, 'وجعلوا له من عباده جزءا إن الإنسان لكفور مبين'),\n",
              " (0.9751549145345476, 4721, 'والسماء بنيناها بأيد وإنا لموسعون'),\n",
              " (0.9743300967305012, 3008, 'فإنهم عدو لي إلا رب العالمين'),\n",
              " (0.9729596766001537, 3969, 'والحمد لله رب العالمين'),\n",
              " (0.9720432208984134,\n",
              "  2039,\n",
              "  'ويدع الإنسان بالشر دعاءه بالخير وكان الإنسان عجولا'),\n",
              " (0.9720251128150306, 4793, 'فأوحى إلى عبده ما أوحى'),\n",
              " (0.9718574684028467, 4123, 'بل الله فاعبد وكن من الشاكرين'),\n",
              " (0.9708932960553968, 4236, 'ويوم يحشر أعداء الله إلى النار فهم يوزعون'),\n",
              " (0.9708535011749969, 3885, 'فأرادوا به كيدا فجعلناهم الأسفلين'),\n",
              " (0.9708413781576097,\n",
              "  915,\n",
              "  'لهم دار السلام عند ربهم وهو وليهم بما كانوا يعملون'),\n",
              " (0.9707222046781244,\n",
              "  215,\n",
              "  'فإن زللتم من بعد ما جاءتكم البينات فاعلموا أن الله عزيز حكيم'),\n",
              " (0.9706785101807531, 6195, 'فليعبدوا رب هذا البيت'),\n",
              " (0.9705992847780305, 3877, 'فتولوا عنه مدبرين'),\n",
              " (0.9704192585671387,\n",
              "  2870,\n",
              "  'لهم فيها ما يشاءون خالدين كان على ربك وعدا مسئولا'),\n",
              " (0.9702801488494172, 4091, 'لهم ما يشاءون عند ربهم ذلك جزاء المحسنين'),\n",
              " (0.9701490740590482,\n",
              "  829,\n",
              "  'بل إياه تدعون فيكشف ما تدعون إليه إن شاء وتنسون ما تشركون'),\n",
              " (0.969765234442129, 4708, 'مسومة عند ربك للمسرفين'),\n",
              " (0.9697223417752477, 4890, 'سيهزم الجمع ويولون الدبر'),\n",
              " (0.9697206229762166, 4891, 'بل الساعة موعدهم والساعة أدهى وأمر'),\n",
              " (0.969301053729045, 4897, 'وكل شيء فعلوه في الزبر'),\n",
              " (0.9692433229992004,\n",
              "  5118,\n",
              "  'أعد الله لهم عذابا شديدا إنهم ساء ما كانوا يعملون'),\n",
              " (0.9690161659097745, 3473, 'أولئك على هدى من ربهم وأولئك هم المفلحون'),\n",
              " (0.9690161659097745, 11, 'أولئك على هدى من ربهم وأولئك هم المفلحون'),\n",
              " (0.9689352531742992, 5760, 'وما يدريك لعله يزكى'),\n",
              " (0.9688763535214399, 3761, 'لهم فيها فاكهة ولهم ما يدعون'),\n",
              " (0.9687325780624575,\n",
              "  1133,\n",
              "  'ولله الأسماء الحسنى فادعوه بها وذروا الذين يلحدون في أسمائه سيجزون ما كانوا يعملون'),\n",
              " (0.968535807026595, 4468, 'يدعون فيها بكل فاكهة آمنين'),\n",
              " (0.9683313668129336,\n",
              "  4541,\n",
              "  'ومن لا يجب داعي الله فليس بمعجز في الأرض وليس له من دونه أولياء أولئك في ضلال مبين'),\n",
              " (0.9682728501820211,\n",
              "  3307,\n",
              "  'إنك لا تهدي من أحببت ولكن الله يهدي من يشاء وهو أعلم بالمهتدين'),\n",
              " (0.9680069547325152,\n",
              "  4268,\n",
              "  'وإذا أنعمنا على الإنسان أعرض ونأى بجانبه وإذا مسه الشر فذو دعاء عريض'),\n",
              " (0.9678767467167084, 5492, 'السماء منفطر به كان وعده مفعولا'),\n",
              " (0.9678290950368688,\n",
              "  5319,\n",
              "  'لولا أن تداركه نعمة من ربه لنبذ بالعراء وهو مذموم'),\n",
              " (0.9678197659696599,\n",
              "  3732,\n",
              "  'وما أنزلنا على قومه من بعده من جند من السماء وما كنا منزلين'),\n",
              " (0.9678196759886607,\n",
              "  118,\n",
              "  'بلى من أسلم وجهه لله وهو محسن فله أجره عند ربه ولا خوف عليهم ولا هم يحزنون'),\n",
              " (0.966974040419869,\n",
              "  2606,\n",
              "  'يدعو من دون الله ما لا يضره وما لا ينفعه ذلك هو الضلال البعيد'),\n",
              " (0.9669228440916329,\n",
              "  4515,\n",
              "  'وإذا حشر الناس كانوا لهم أعداء وكانوا بعبادتهم كافرين'),\n",
              " (0.9669148855387742, 4734, 'فويل للذين كفروا من يومهم الذي يوعدون'),\n",
              " (0.9668329989979534, 2552, 'وأرادوا به كيدا فجعلناهم الأخسرين'),\n",
              " (0.9666743404069019, 5596, 'عينا يشرب بها عباد الله يفجرونها تفجيرا'),\n",
              " (0.9666202329139933, 3787, 'فسبحان الذي بيده ملكوت كل شيء وإليه ترجعون'),\n",
              " (0.9666042647095293, 3999, 'ووهبنا لداوود سليمان نعم العبد إنه أواب'),\n",
              " (0.9665917643742078,\n",
              "  4148,\n",
              "  'يوم هم بارزون لا يخفى على الله منهم شيء لمن الملك اليوم لله الواحد القهار'),\n",
              " (0.9665695375650195, 4431, 'أن أدوا إلي عباد الله إني لكم رسول أمين'),\n",
              " (0.966520208248949, 1653, 'وجاء إخوة يوسف فدخلوا عليه فعرفهم وهم له منكرون'),\n",
              " (0.9663586196014444,\n",
              "  1514,\n",
              "  'وهي تجري بهم في موج كالجبال ونادى نوح ابنه وكان في معزل يا بني اركب معنا ولا تكن مع الكافرين'),\n",
              " (0.9662297226900157, 5380, 'إنهم يرونه بعيدا'),\n",
              " (0.9661210702837335, 4430, 'ولقد فتنا قبلهم قوم فرعون وجاءهم رسول كريم')]"
            ]
          },
          "execution_count": 121,
          "metadata": {},
          "output_type": "execute_result"
        }
      ],
      "source": [
        "get_pooling_results(\"الوفاء بالعهد\", (model_fasttext, 'FASTTEXT'), get_max_pooling_vec)"
      ]
    },
    {
      "cell_type": "code",
      "execution_count": 122,
      "metadata": {
        "colab": {
          "base_uri": "https://localhost:8080/"
        },
        "id": "Q6wah137xdP9",
        "outputId": "125059c2-b31f-4a29-bcf0-1e2bebed460c"
      },
      "outputs": [
        {
          "data": {
            "text/plain": [
              "[(0.9709195467257719,\n",
              "  5080,\n",
              "  'يولج الليل في النهار ويولج النهار في الليل وهو عليم بذات الصدور'),\n",
              " (0.960819982747272,\n",
              "  3497,\n",
              "  'ألم تر أن الله يولج الليل في النهار ويولج النهار في الليل وسخر الشمس والقمر كل يجري إلى أجل مسمى وأن الله بما تعملون خبير'),\n",
              " (0.960768922830523,\n",
              "  1111,\n",
              "  'قل يا أيها الناس إني رسول الله إليكم جميعا الذي له ملك السماوات والأرض لا إله إلا هو يحيي ويميت فآمنوا بالله ورسوله النبي الأمي الذي يؤمن بالله وكلماته واتبعوه لعلكم تهتدون'),\n",
              " (0.9579311388238991, 2281, 'وبرا بوالدتي ولم يجعلني جبارا شقيا'),\n",
              " (0.9562603624149731, 3115, 'واتقوا الذي خلقكم والجبلة الأولين'),\n",
              " (0.9562603624149731,\n",
              "  2127,\n",
              "  'أولم يروا أن الله الذي خلق السماوات والأرض قادر على أن يخلق مثلهم وجعل لهم أجلا لا ريب فيه فأبى الظالمون إلا كفورا'),\n",
              " (0.9558036755202326, 6000, 'التي لم يخلق مثلها في البلاد'),\n",
              " (0.9519230769230771,\n",
              "  2655,\n",
              "  'ذلك بأن الله يولج الليل في النهار ويولج النهار في الليل وأن الله سميع بصير'),\n",
              " (0.9518745131357371, 5633, 'لأي يوم أجلت'),\n",
              " (0.9516486024850805, 4927, 'ويبقى وجه ربك ذو الجلال والإكرام'),\n",
              " (0.9515011557912564, 2376, 'واجعل لي وزيرا من أهلي'),\n",
              " (0.9509146221003929,\n",
              "  388,\n",
              "  'إن أول بيت وضع للناس للذي ببكة مباركا وهدى للعالمين'),\n",
              " (0.9509146221003929,\n",
              "  196,\n",
              "  'وقاتلوا في سبيل الله الذين يقاتلونكم ولا تعتدوا إن الله لا يحب المعتدين'),\n",
              " (0.9507632033773296,\n",
              "  537,\n",
              "  'والله أعلم بأعدائكم وكفى بالله وليا وكفى بالله نصيرا'),\n",
              " (0.950760913217705,\n",
              "  400,\n",
              "  'تلك آيات الله نتلوها عليك بالحق وما الله يريد ظلما للعالمين'),\n",
              " (0.950760913217705,\n",
              "  369,\n",
              "  'إن الذين يشترون بعهد الله وأيمانهم ثمنا قليلا أولئك لا خلاق لهم في الآخرة ولا يكلمهم الله ولا ينظر إليهم يوم القيامة ولا يزكيهم ولهم عذاب أليم'),\n",
              " (0.950760913217705,\n",
              "  295,\n",
              "  'نزل عليك الكتاب بالحق مصدقا لما بين يديه وأنزل التوراة والإنجيل'),\n",
              " (0.9507082380237135,\n",
              "  4612,\n",
              "  'بسم الله الرحمن الرحيم يا أيها الذين آمنوا لا تقدموا بين يدي الله ورسوله واتقوا الله إن الله سميع عليم'),\n",
              " (0.9507082380237135,\n",
              "  579,\n",
              "  'الله لا إله إلا هو ليجمعنكم إلى يوم القيامة لا ريب فيه ومن أصدق من الله حديثا'),\n",
              " (0.9479631196434646,\n",
              "  4421,\n",
              "  'لا إله إلا هو يحيي ويميت ربكم ورب آبائكم الأولين'),\n",
              " (0.9478946531678896,\n",
              "  890,\n",
              "  'ذلكم الله ربكم لا إله إلا هو خالق كل شيء فاعبدوه وهو على كل شيء وكيل'),\n",
              " (0.9468709523731814, 6028, 'يقول أهلكت مالا لبدا'),\n",
              " (0.9465942763306255,\n",
              "  4541,\n",
              "  'ومن لا يجب داعي الله فليس بمعجز في الأرض وليس له من دونه أولياء أولئك في ضلال مبين'),\n",
              " (0.9461635504451551,\n",
              "  5103,\n",
              "  'لئلا يعلم أهل الكتاب ألا يقدرون على شيء من فضل الله وأن الفضل بيد الله يؤتيه من يشاء والله ذو الفضل العظيم'),\n",
              " (0.9461635504451551,\n",
              "  4542,\n",
              "  'أولم يروا أن الله الذي خلق السماوات والأرض ولم يعي بخلقهن بقادر على أن يحيي الموتى بلى إنه على كل شيء قدير'),\n",
              " (0.9461635504451551,\n",
              "  103,\n",
              "  'قل من كان عدوا لجبريل فإنه نزله على قلبك بإذن الله مصدقا لما بين يديه وهدى وبشرى للمؤمنين'),\n",
              " (0.9458662280408974, 2183, 'هنالك الولاية لله الحق هو خير ثوابا وخير عقبا'),\n",
              " (0.9456936252285787,\n",
              "  5128,\n",
              "  'ولولا أن كتب الله عليهم الجلاء لعذبهم في الدنيا ولهم في الآخرة عذاب النار'),\n",
              " (0.9456936252285787,\n",
              "  628,\n",
              "  'يا أيها الذين آمنوا آمنوا بالله ورسوله والكتاب الذي نزل على رسوله والكتاب الذي أنزل من قبل ومن يكفر بالله وملائكته وكتبه ورسله واليوم الآخر فقد ضل ضلالا بعيدا'),\n",
              " (0.9456936252285787,\n",
              "  124,\n",
              "  'وقال الذين لا يعلمون لولا يكلمنا الله أو تأتينا آية كذلك قال الذين من قبلهم مثل قولهم تشابهت قلوبهم قد بينا الآيات لقوم يوقنون'),\n",
              " (0.9456912729880024,\n",
              "  5169,\n",
              "  'ومن أظلم ممن افترى على الله الكذب وهو يدعى إلى الإسلام والله لا يهدي القوم الظالمين'),\n",
              " (0.9456912729880024,\n",
              "  2670,\n",
              "  'يعلم ما بين أيديهم وما خلفهم وإلى الله ترجع الأمور'),\n",
              " (0.9456912729880024,\n",
              "  282,\n",
              "  'يمحق الله الربا ويربي الصدقات والله لا يحب كل كفار أثيم'),\n",
              " (0.9456912729880024,\n",
              "  130,\n",
              "  'وإذ ابتلى إبراهيم ربه بكلمات فأتمهن قال إني جاعلك للناس إماما قال ومن ذريتي قال لا ينال عهدي الظالمين'),\n",
              " (0.9456377579341729,\n",
              "  3613,\n",
              "  'أفترى على الله كذبا أم به جنة بل الذين لا يؤمنون بالآخرة في العذاب والضلال البعيد'),\n",
              " (0.9456377579341729, 2721, 'ولقد آتينا موسى الكتاب لعلهم يهتدون'),\n",
              " (0.9456377579341729,\n",
              "  2467,\n",
              "  'فوسوس إليه الشيطان قال يا آدم هل أدلك على شجرة الخلد وملك لا يبلى'),\n",
              " (0.9456377579341729,\n",
              "  1744,\n",
              "  'ولقد أرسلنا رسلا من قبلك وجعلنا لهم أزواجا وذرية وما كان لرسول أن يأتي بآية إلا بإذن الله لكل أجل كتاب'),\n",
              " (0.9456377579341729,\n",
              "  663,\n",
              "  'يا أهل الكتاب لا تغلوا في دينكم ولا تقولوا على الله إلا الحق إنما المسيح عيسى ابن مريم رسول الله وكلمته ألقاها إلى مريم وروح منه فآمنوا بالله ورسله ولا تقولوا ثلاثة انتهوا خيرا لكم إنما الله إله واحد سبحانه أن يكون له ولد له ما في السماوات وما في الأرض وكفى بالله وكيلا'),\n",
              " (0.9456377579341729,\n",
              "  615,\n",
              "  'ليس بأمانيكم ولا أماني أهل الكتاب من يعمل سوءا يجز به ولا يجد له من دون الله وليا ولا نصيرا'),\n",
              " (0.945092878742904, 4186, 'هدى وذكرى لأولي الألباب'),\n",
              " (0.9415130835240085,\n",
              "  2629,\n",
              "  'الذين إذا ذكر الله وجلت قلوبهم والصابرين على ما أصابهم والمقيمي الصلاة ومما رزقناهم ينفقون'),\n",
              " (0.9413574486632833, 4691, 'كانوا قليلا من الليل ما يهجعون'),\n",
              " (0.9413574486632833,\n",
              "  3550,\n",
              "  'قد يعلم الله المعوقين منكم والقائلين لإخوانهم هلم إلينا ولا يأتون البأس إلا قليلا'),\n",
              " (0.9410747291241351,\n",
              "  1908,\n",
              "  'والخيل والبغال والحمير لتركبوها وزينة ويخلق ما لا تعلمون'),\n",
              " (0.9410747291241351,\n",
              "  765,\n",
              "  'جعل الله الكعبة البيت الحرام قياما للناس والشهر الحرام والهدي والقلائد ذلك لتعلموا أن الله يعلم ما في السماوات وما في الأرض وأن الله بكل شيء عليم'),\n",
              " (0.9410747291241351,\n",
              "  635,\n",
              "  'مذبذبين بين ذلك لا إلى هؤلاء ولا إلى هؤلاء ومن يضلل الله فلن تجد له سبيلا'),\n",
              " (0.9410092614535138, 5892, 'وينقلب إلى أهله مسرورا'),\n",
              " (0.9410092614535138,\n",
              "  5183,\n",
              "  'ولا يتمنونه أبدا بما قدمت أيديهم والله عليم بالظالمين'),\n",
              " (0.9410092614535138, 442, 'بل الله مولاكم وهو خير الناصرين')]"
            ]
          },
          "execution_count": 122,
          "metadata": {},
          "output_type": "execute_result"
        }
      ],
      "source": [
        "get_pooling_results(\"التهجد وقيام الليل\", (model_tw, 'TWITTER'), get_avg_pooling_vec)"
      ]
    },
    {
      "cell_type": "markdown",
      "metadata": {
        "id": "VN58rkSMHHkX"
      },
      "source": [
        "# Evaluation"
      ]
    },
    {
      "cell_type": "markdown",
      "metadata": {
        "id": "K5V6pPEXyK2c"
      },
      "source": [
        "We manually collected random 22 different topics of 215 Verses, from Mushaf Al-Tajweed that is trusted by many Islamic authorizations, one of them is Al-Azhar Islamic Research Academy (مجمع البحوث الإسلامية بالأزهر الشريف). "
      ]
    },
    {
      "cell_type": "code",
      "execution_count": 123,
      "metadata": {
        "id": "xUVe3ScOHDDx"
      },
      "outputs": [],
      "source": [
        "data = {\n",
        "\"الوفاء بالعهد\":\n",
        "['2/26', '2/27', '2/40', '2/80', '2/100', '2/177', '3/76', '3/77', '5/1', '5/7', '5/12', '6/152' , '8/42','9/4' , '9/7', '9/12', '13/20' , '13/25', '16/91', '16/92', '16/94', '16/95', '17/34', '23/8', '33/7', '33/15', '33/23', '70/32'],\n",
        "\"التهجد وقيام الليل\":\n",
        "[\"17/78\",\"17/79\",\"50/40\",\"51/17\",\"51/18\",\"52/48\",\"52/49\",\"73/1\",\"73/2\",\"73/3\",\"73/4\",\"73/5\",\"73/6\",\"73/7\",\"73/20\",\"76/26\"],\n",
        "\"التوبة\":\n",
        "['2/160' ,'3/86', '3/87', '3/88', '3/89', '3/90' , '3/135' , '3/136', '4/17' , '4/18', '4/26', '4/110', '5/39', '7/153' , '9/104', '9/112', '11/3' , '11/4', '11/5', '17/25', '19/60','25/70', '25/71', '39/53', '39/54', '42/25','66/8','85/10'],\n",
        "\"الصلاة وقت الحرب\":\n",
        "['4/101' , '4/102' , '4/103'],\n",
        "\"صفات المصلين\":\n",
        "[\"23/2\",\"23/9\",\"70/22\",\"70/23\",\"70/34\",\"70/35\"],\n",
        "\"أسماء الله الحسنى\":\n",
        "[\"7/180\", \"17/110\", \"20/8\", \"59/24\"],\n",
        "\"المجادلة بغير علم\":\n",
        "[\"22/3\", \"22/8\", \"31/20\"],\n",
        "\"علوم البلاغة\":\n",
        "['6/112' , '55/1' , '55/2', '55/3', '55/4'],\n",
        "\"قول الزور\":\n",
        "['22/30', '25/72'],\n",
        "\"صلاة الجمعة\":\n",
        "[\"62/9\"],\n",
        "\"غزوة الحديبية وبيعة الرضوان\":\n",
        "['48/1', '48/2', '48/3', '48/4', '48/5', '48/6', '48/7', '48/8', '48/9', '48/10', '48/11', '48/12', '48/13', '48/14', '48/15', '48/16',\n",
        " '48/17', '48/18', '48/19', '48/20', '48/21', '48/22', '48/23', '48/24', '48/25', '48/26', '48/27'],\n",
        "\"الابتلاء والفتن\":\n",
        "['2/155', '2/214' , '3/152', '3/154' , '3/179' , '3/186' , '5/51', '6/165', '11/7', '21/35' , '2/29' , '47/31', '67/2'],\n",
        "\"سلامة القلب\":\n",
        "['6/127' , '8/61' , '10/9' , '10/10', '13/24' , '19/62', '21/102' , '25/63', '33/44', '39/73', '56/26'],\n",
        "\"بصمات الاصابع\":\n",
        "['75/3', '75/4'],\n",
        "\"ذم الجهل والجاهلين\":\n",
        "[\"7/199\", \"11/46\", \"16/119\", \"25/63\"],\n",
        "\"حول ما يدعى بالتطور\":\n",
        "[\"2/29\", \"2/30\", \"2/259\", \"6/38\", \"7/11\", \"22/7\", \"71/14\", \"75/37\", \"75/38\", \"75/39\", \"75/40\", \"76/6\", \"86/5\", \"86/6\", \"86/7\", \"86/8\"],\n",
        "\"آداب المجلس\":\n",
        "[\"58/9\", \"58/11\", \"58/12\"],\n",
        "\"صلاة الخوف\":\n",
        "[\"4/101\",\"4/102\"],\n",
        "\"الاستذان في أوقات الخلوة\":\n",
        "[\"24/58\",\"24/59\",\"24/60\"],\n",
        "\"القضاء والقدر\":\n",
        "['3/145' , '3/154', '6/35', '6/57', '6/96', '7/34', '9/51', '10/3', '10/49', '10/99', '10/100' , '11/6', '13/39', '15/4', '15/5', '15/21', '17/58','23/43', '25/2','27/74','27/75', '34/3', '35/11', '44/4', '54/51', '54/53', '57/22', '59/3','64/11', '65/3', '65/12', '71/4', '72/25', '72/28'],\n",
        "\"حد المحاربة\":\n",
        "['5/33'],\n",
        "\"الوضوء\":\n",
        "['4/43', '5/6', '5/7']\n",
        "}"
      ]
    },
    {
      "cell_type": "code",
      "execution_count": 126,
      "metadata": {
        "colab": {
          "base_uri": "https://localhost:8080/"
        },
        "id": "QW4i9HD6vTR7",
        "outputId": "29193924-d1d5-4a66-d08f-1caedc9d8fe6"
      },
      "outputs": [
        {
          "name": "stdout",
          "output_type": "stream",
          "text": [
            "Number of topics: 22\n",
            "Number of Verses: 215\n"
          ]
        }
      ],
      "source": [
        "print('Number of topics:', len(data))\n",
        "cnt = 0\n",
        "for key, value in data.items():\n",
        "  cnt += len(value)\n",
        "print('Number of Verses:', cnt)"
      ]
    },
    {
      "cell_type": "code",
      "execution_count": 127,
      "metadata": {
        "id": "rqzLptOSU9kY"
      },
      "outputs": [],
      "source": [
        "def compare_us(output, expected):\n",
        "  output = set(output)\n",
        "  passed = []\n",
        "  for item in expected:\n",
        "    if item in output:\n",
        "      passed.append(item)\n",
        "  return passed"
      ]
    },
    {
      "cell_type": "code",
      "execution_count": 128,
      "metadata": {
        "id": "hzrTf8B2gdlb"
      },
      "outputs": [],
      "source": [
        "def fetch_api(surah_verse):\n",
        "  test_results = []\n",
        "  for verse in surah_verse:\n",
        "    url = f\"https://ahr9n-quran-api.herokuapp.com/api/get-verse/{verse}\"\n",
        "    headers = {'content-type': 'application/json'}\n",
        "    results = requests.get(url, headers=headers)\n",
        "    results = results.json()\n",
        "    test_results.append(int(results['data']['numberInQuran']))\n",
        "  return test_results"
      ]
    },
    {
      "cell_type": "markdown",
      "metadata": {
        "id": "YP9bvVq0_wQR"
      },
      "source": [
        "## Testing all models with all methods by `get_most_similar_verses_by_query_text`"
      ]
    },
    {
      "cell_type": "code",
      "execution_count": 129,
      "metadata": {
        "id": "7U_cLgygG3Rq"
      },
      "outputs": [],
      "source": [
        "import requests  \n",
        "import json\n",
        "\n",
        "def test_get_most_similar_verses_by_query_text(test_data):\n",
        "  for query_text, surah_verse in test_data.items():\n",
        "    print(query_text, ':', sep='')\n",
        "    for model in [(model_wiki, 'WIKI'), (model_tw, 'TWITTER'), (model_ksucca, \"KSUCCA\"), (model_fasttext, \"FASTTEXT\")]:\n",
        "      print(model[1], ':', sep='')\n",
        "      for method_name, method in {\"MAX\": get_verse_max_score, \"FREQ\": get_verse_frequency_score, \"AVG\": get_verse_avg_score}.items():\n",
        "        model_results = get_most_similar_verses_by_query_text(query_text, model, method)\n",
        "        model_results = [int(item[1])+1 for item in model_results]\n",
        "        test_results = fetch_api(surah_verse)\n",
        "        \n",
        "        passed = compare_us(model_results, test_results)\n",
        "        print(method_name, f\"{len(passed)}/{len(test_results)}\", sep='-')"
      ]
    },
    {
      "cell_type": "code",
      "execution_count": null,
      "metadata": {
        "colab": {
          "base_uri": "https://localhost:8080/"
        },
        "id": "e32iTPNZDnJg",
        "outputId": "70d67854-f1ad-4c4a-ed29-5593e1c783ab"
      },
      "outputs": [
        {
          "name": "stdout",
          "output_type": "stream",
          "text": [
            "الوفاء بالعهد:\n",
            "WIKI:\n",
            "MAX-1/28\n",
            "FREQ-2/28\n",
            "AVG-0/28\n",
            "TWITTER:\n",
            "MAX-7/28\n",
            "FREQ-1/28\n",
            "AVG-0/28\n",
            "KSUCCA:\n",
            "MAX-17/28\n",
            "FREQ-15/28\n",
            "AVG-5/28\n",
            "FASTTEXT:\n",
            "MAX-23/28\n",
            "FREQ-5/28\n",
            "AVG-9/28\n",
            "التهجد وقيام الليل:\n",
            "WIKI:\n",
            "MAX-11/16\n",
            "FREQ-1/16\n",
            "AVG-3/16\n",
            "TWITTER:\n",
            "MAX-10/16\n",
            "FREQ-1/16\n",
            "AVG-7/16\n",
            "KSUCCA:\n",
            "MAX-10/16\n",
            "FREQ-10/16\n",
            "AVG-9/16\n",
            "FASTTEXT:\n",
            "MAX-10/16\n",
            "FREQ-5/16\n",
            "AVG-9/16\n",
            "التوبة:\n",
            "WIKI:\n",
            "MAX-6/28\n",
            "FREQ-1/28\n",
            "AVG-1/28\n",
            "TWITTER:\n",
            "MAX-7/28\n",
            "FREQ-6/28\n",
            "AVG-4/28\n",
            "KSUCCA:\n",
            "MAX-16/28\n",
            "FREQ-15/28\n",
            "AVG-13/28\n",
            "FASTTEXT:\n",
            "MAX-15/28\n",
            "FREQ-3/28\n",
            "AVG-6/28\n",
            "الصلاة وقت الحرب:\n",
            "WIKI:\n",
            "MAX-2/3\n",
            "FREQ-1/3\n",
            "AVG-1/3\n",
            "TWITTER:\n",
            "MAX-2/3\n",
            "FREQ-1/3\n",
            "AVG-1/3\n",
            "KSUCCA:\n",
            "MAX-3/3\n",
            "FREQ-0/3\n",
            "AVG-1/3\n",
            "FASTTEXT:\n",
            "MAX-3/3\n",
            "FREQ-0/3\n",
            "AVG-1/3\n",
            "صفات المصلين:\n",
            "WIKI:\n",
            "MAX-4/6\n",
            "FREQ-0/6\n",
            "AVG-1/6\n",
            "TWITTER:\n",
            "MAX-4/6\n",
            "FREQ-0/6\n",
            "AVG-4/6\n",
            "KSUCCA:\n",
            "MAX-4/6\n",
            "FREQ-0/6\n",
            "AVG-5/6\n",
            "FASTTEXT:\n",
            "MAX-1/6\n",
            "FREQ-0/6\n",
            "AVG-3/6\n",
            "أسماء الله الحسنى:\n",
            "WIKI:\n",
            "MAX-0/4\n",
            "FREQ-0/4\n",
            "AVG-1/4\n",
            "TWITTER:\n",
            "MAX-4/4\n",
            "FREQ-0/4\n",
            "AVG-1/4\n",
            "KSUCCA:\n",
            "MAX-1/4\n",
            "FREQ-1/4\n",
            "AVG-1/4\n",
            "FASTTEXT:\n",
            "MAX-4/4\n",
            "FREQ-1/4\n",
            "AVG-3/4\n",
            "المجادلة بغير علم:\n",
            "WIKI:\n",
            "MAX-3/3\n",
            "FREQ-0/3\n",
            "AVG-0/3\n",
            "TWITTER:\n",
            "MAX-3/3\n",
            "FREQ-1/3\n",
            "AVG-2/3\n",
            "KSUCCA:\n",
            "MAX-3/3\n",
            "FREQ-1/3\n",
            "AVG-2/3\n",
            "FASTTEXT:\n",
            "MAX-3/3\n",
            "FREQ-1/3\n",
            "AVG-2/3\n",
            "علوم البلاغة:\n",
            "WIKI:\n",
            "MAX-0/5\n",
            "FREQ-0/5\n",
            "AVG-2/5\n",
            "TWITTER:\n",
            "MAX-1/5\n",
            "FREQ-0/5\n",
            "AVG-2/5\n",
            "KSUCCA:\n",
            "MAX-1/5\n",
            "FREQ-0/5\n",
            "AVG-2/5\n",
            "FASTTEXT:\n",
            "MAX-0/5\n",
            "FREQ-0/5\n",
            "AVG-2/5\n",
            "قول الزور:\n",
            "WIKI:\n",
            "MAX-2/2\n",
            "FREQ-0/2\n",
            "AVG-0/2\n",
            "TWITTER:\n",
            "MAX-2/2\n",
            "FREQ-0/2\n",
            "AVG-0/2\n",
            "KSUCCA:\n",
            "MAX-2/2\n",
            "FREQ-2/2\n",
            "AVG-2/2\n",
            "FASTTEXT:\n",
            "MAX-2/2\n",
            "FREQ-0/2\n",
            "AVG-1/2\n",
            "صلاة الجمعة:\n",
            "WIKI:\n",
            "MAX-1/1\n",
            "FREQ-0/1\n",
            "AVG-0/1\n",
            "TWITTER:\n",
            "MAX-1/1\n",
            "FREQ-1/1\n",
            "AVG-0/1\n",
            "KSUCCA:\n",
            "MAX-1/1\n",
            "FREQ-1/1\n",
            "AVG-1/1\n",
            "FASTTEXT:\n",
            "MAX-1/1\n",
            "FREQ-1/1\n",
            "AVG-0/1\n",
            "غزوة الحديبية وبيعة الرضوان:\n",
            "WIKI:\n",
            "MAX-1/27\n",
            "FREQ-0/27\n",
            "AVG-0/27\n",
            "TWITTER:\n",
            "MAX-2/27\n",
            "FREQ-2/27\n",
            "AVG-0/27\n",
            "KSUCCA:\n",
            "MAX-5/27\n",
            "FREQ-0/27\n",
            "AVG-0/27\n",
            "FASTTEXT:\n",
            "MAX-4/27\n",
            "FREQ-3/27\n",
            "AVG-1/27\n",
            "الابتلاء والفتن:\n",
            "WIKI:\n",
            "MAX-0/13\n",
            "FREQ-1/13\n",
            "AVG-0/13\n",
            "TWITTER:\n",
            "MAX-1/13\n",
            "FREQ-4/13\n",
            "AVG-0/13\n",
            "KSUCCA:\n",
            "MAX-3/13\n",
            "FREQ-3/13\n",
            "AVG-1/13\n",
            "FASTTEXT:\n",
            "MAX-1/13\n",
            "FREQ-3/13\n",
            "AVG-1/13\n",
            "سلامة القلب:\n",
            "WIKI:\n",
            "MAX-0/11\n",
            "FREQ-0/11\n",
            "AVG-0/11\n",
            "TWITTER:\n",
            "MAX-0/11\n",
            "FREQ-0/11\n",
            "AVG-0/11\n",
            "KSUCCA:\n",
            "MAX-0/11\n",
            "FREQ-0/11\n",
            "AVG-0/11\n",
            "FASTTEXT:\n",
            "MAX-0/11\n",
            "FREQ-0/11\n",
            "AVG-0/11\n",
            "بصمات الاصابع:\n",
            "WIKI:\n",
            "MAX-0/2\n",
            "FREQ-0/2\n",
            "AVG-1/2\n",
            "TWITTER:\n",
            "MAX-0/2\n",
            "FREQ-0/2\n",
            "AVG-0/2\n",
            "KSUCCA:\n",
            "MAX-0/2\n",
            "FREQ-0/2\n",
            "AVG-0/2\n",
            "FASTTEXT:\n",
            "MAX-0/2\n",
            "FREQ-0/2\n",
            "AVG-0/2\n",
            "ذم الجهل والجاهلين:\n",
            "WIKI:\n",
            "MAX-0/4\n",
            "FREQ-0/4\n",
            "AVG-0/4\n",
            "TWITTER:\n",
            "MAX-0/4\n",
            "FREQ-1/4\n",
            "AVG-0/4\n",
            "KSUCCA:\n",
            "MAX-0/4\n",
            "FREQ-1/4\n",
            "AVG-1/4\n",
            "FASTTEXT:\n",
            "MAX-3/4\n",
            "FREQ-0/4\n",
            "AVG-1/4\n",
            "حول ما يدعى بالتطور:\n",
            "WIKI:\n",
            "MAX-0/16\n",
            "FREQ-0/16\n",
            "AVG-0/16\n",
            "TWITTER:\n",
            "MAX-0/16\n",
            "FREQ-0/16\n",
            "AVG-0/16\n",
            "KSUCCA:\n",
            "MAX-0/16\n",
            "FREQ-1/16\n",
            "AVG-0/16\n",
            "FASTTEXT:\n",
            "MAX-0/16\n",
            "FREQ-1/16\n",
            "AVG-0/16\n",
            "آداب المجلس:\n",
            "WIKI:\n",
            "MAX-2/3\n",
            "FREQ-0/3\n",
            "AVG-0/3\n",
            "TWITTER:\n",
            "MAX-0/3\n",
            "FREQ-0/3\n",
            "AVG-0/3\n",
            "KSUCCA:\n",
            "MAX-2/3\n",
            "FREQ-2/3\n",
            "AVG-0/3\n",
            "FASTTEXT:\n",
            "MAX-1/3\n",
            "FREQ-1/3\n",
            "AVG-0/3\n",
            "صلاة الخوف:\n",
            "WIKI:\n",
            "MAX-2/2\n",
            "FREQ-1/2\n",
            "AVG-0/2\n",
            "TWITTER:\n",
            "MAX-2/2\n",
            "FREQ-0/2\n",
            "AVG-0/2\n",
            "KSUCCA:\n",
            "MAX-2/2\n",
            "FREQ-1/2\n",
            "AVG-0/2\n",
            "FASTTEXT:\n",
            "MAX-2/2\n",
            "FREQ-0/2\n",
            "AVG-0/2\n",
            "الاستذان في أوقات الخلوة:\n",
            "WIKI:\n",
            "MAX-0/3\n",
            "FREQ-1/3\n",
            "AVG-0/3\n",
            "TWITTER:\n",
            "MAX-1/3\n",
            "FREQ-0/3\n",
            "AVG-0/3\n",
            "KSUCCA:\n",
            "MAX-0/3\n",
            "FREQ-0/3\n",
            "AVG-0/3\n",
            "FASTTEXT:\n",
            "MAX-0/3\n",
            "FREQ-0/3\n",
            "AVG-0/3\n",
            "القضاء والقدر:\n",
            "WIKI:\n",
            "MAX-0/34\n",
            "FREQ-1/34\n",
            "AVG-0/34\n",
            "TWITTER:\n",
            "MAX-3/34\n",
            "FREQ-1/34\n",
            "AVG-0/34\n",
            "KSUCCA:\n",
            "MAX-1/34\n",
            "FREQ-4/34\n",
            "AVG-0/34\n",
            "FASTTEXT:\n",
            "MAX-1/34\n",
            "FREQ-4/34\n",
            "AVG-1/34\n",
            "حد المحاربة:\n",
            "WIKI:\n",
            "MAX-1/1\n",
            "FREQ-1/1\n",
            "AVG-0/1\n",
            "TWITTER:\n",
            "MAX-0/1\n",
            "FREQ-0/1\n",
            "AVG-0/1\n",
            "KSUCCA:\n",
            "MAX-0/1\n",
            "FREQ-0/1\n",
            "AVG-0/1\n",
            "FASTTEXT:\n",
            "MAX-0/1\n",
            "FREQ-0/1\n",
            "AVG-0/1\n",
            "الوضوء:\n",
            "WIKI:\n",
            "MAX-2/3\n",
            "FREQ-1/3\n",
            "AVG-0/3\n",
            "TWITTER:\n",
            "MAX-2/3\n",
            "FREQ-2/3\n",
            "AVG-0/3\n",
            "KSUCCA:\n",
            "MAX-2/3\n",
            "FREQ-2/3\n",
            "AVG-2/3\n",
            "FASTTEXT:\n",
            "MAX-2/3\n",
            "FREQ-2/3\n",
            "AVG-0/3\n"
          ]
        }
      ],
      "source": [
        "test_get_most_similar_verses_by_query_text(data)"
      ]
    },
    {
      "cell_type": "markdown",
      "metadata": {
        "id": "xGrsvW5AAMap"
      },
      "source": [
        "## Testing combined models for each method by `get_combined_models_results`"
      ]
    },
    {
      "cell_type": "code",
      "execution_count": 130,
      "metadata": {
        "id": "2cYj8g3sgKyZ"
      },
      "outputs": [],
      "source": [
        "def test_combined_models_results(test_data):\n",
        "  for query_text, surah_verse in test_data.items():\n",
        "    print(query_text, ':', sep='')\n",
        "    for method_name, method in {\"MAX\": get_verse_max_score, \"FREQ\": get_verse_frequency_score, \"AVG\": get_verse_avg_score}.items():\n",
        "      model_results = get_combined_models_results(query_text, method)\n",
        "      model_results = [int(item[1])+1 for item in model_results]\n",
        "      test_results = fetch_api(surah_verse)\n",
        "      \n",
        "      passed = compare_us(model_results, test_results)\n",
        "      print('COMBINED_MODELS', method_name, f\"{len(passed)}/{len(test_results)}\", sep='-')"
      ]
    },
    {
      "cell_type": "code",
      "execution_count": null,
      "metadata": {
        "colab": {
          "base_uri": "https://localhost:8080/"
        },
        "id": "W3ZU4CA8Dj7u",
        "outputId": "92692d4b-a784-4ac2-cbdb-e8b2a7850a8d"
      },
      "outputs": [
        {
          "name": "stdout",
          "output_type": "stream",
          "text": [
            "الوفاء بالعهد:\n",
            "COMBINED_MODELS-MAX-5/28\n",
            "COMBINED_MODELS-FREQ-0/28\n",
            "COMBINED_MODELS-AVG-2/28\n",
            "التهجد وقيام الليل:\n",
            "COMBINED_MODELS-MAX-10/16\n",
            "COMBINED_MODELS-FREQ-0/16\n",
            "COMBINED_MODELS-AVG-5/16\n",
            "التوبة:\n",
            "COMBINED_MODELS-MAX-12/28\n",
            "COMBINED_MODELS-FREQ-2/28\n",
            "COMBINED_MODELS-AVG-2/28\n",
            "الصلاة وقت الحرب:\n",
            "COMBINED_MODELS-MAX-3/3\n",
            "COMBINED_MODELS-FREQ-0/3\n",
            "COMBINED_MODELS-AVG-1/3\n",
            "صفات المصلين:\n",
            "COMBINED_MODELS-MAX-4/6\n",
            "COMBINED_MODELS-FREQ-0/6\n",
            "COMBINED_MODELS-AVG-2/6\n",
            "أسماء الله الحسنى:\n",
            "COMBINED_MODELS-MAX-0/4\n",
            "COMBINED_MODELS-FREQ-0/4\n",
            "COMBINED_MODELS-AVG-0/4\n",
            "المجادلة بغير علم:\n",
            "COMBINED_MODELS-MAX-3/3\n",
            "COMBINED_MODELS-FREQ-0/3\n",
            "COMBINED_MODELS-AVG-0/3\n",
            "علوم البلاغة:\n",
            "COMBINED_MODELS-MAX-0/5\n",
            "COMBINED_MODELS-FREQ-0/5\n",
            "COMBINED_MODELS-AVG-2/5\n",
            "قول الزور:\n",
            "COMBINED_MODELS-MAX-2/2\n",
            "COMBINED_MODELS-FREQ-0/2\n",
            "COMBINED_MODELS-AVG-0/2\n",
            "صلاة الجمعة:\n",
            "COMBINED_MODELS-MAX-1/1\n",
            "COMBINED_MODELS-FREQ-0/1\n",
            "COMBINED_MODELS-AVG-0/1\n",
            "غزوة الحديبية وبيعة الرضوان:\n",
            "COMBINED_MODELS-MAX-2/27\n",
            "COMBINED_MODELS-FREQ-2/27\n",
            "COMBINED_MODELS-AVG-0/27\n",
            "الابتلاء والفتن:\n",
            "COMBINED_MODELS-MAX-0/13\n",
            "COMBINED_MODELS-FREQ-2/13\n",
            "COMBINED_MODELS-AVG-0/13\n",
            "سلامة القلب:\n",
            "COMBINED_MODELS-MAX-0/11\n",
            "COMBINED_MODELS-FREQ-0/11\n",
            "COMBINED_MODELS-AVG-0/11\n",
            "بصمات الاصابع:\n",
            "COMBINED_MODELS-MAX-0/2\n",
            "COMBINED_MODELS-FREQ-0/2\n",
            "COMBINED_MODELS-AVG-1/2\n",
            "ذم الجهل والجاهلين:\n",
            "COMBINED_MODELS-MAX-2/4\n",
            "COMBINED_MODELS-FREQ-0/4\n",
            "COMBINED_MODELS-AVG-0/4\n",
            "حول ما يدعى بالتطور:\n",
            "COMBINED_MODELS-MAX-0/16\n",
            "COMBINED_MODELS-FREQ-1/16\n",
            "COMBINED_MODELS-AVG-0/16\n",
            "آداب المجلس:\n",
            "COMBINED_MODELS-MAX-1/3\n",
            "COMBINED_MODELS-FREQ-1/3\n",
            "COMBINED_MODELS-AVG-0/3\n",
            "صلاة الخوف:\n",
            "COMBINED_MODELS-MAX-2/2\n",
            "COMBINED_MODELS-FREQ-0/2\n",
            "COMBINED_MODELS-AVG-0/2\n",
            "الاستذان في أوقات الخلوة:\n",
            "COMBINED_MODELS-MAX-0/3\n",
            "COMBINED_MODELS-FREQ-1/3\n",
            "COMBINED_MODELS-AVG-0/3\n",
            "القضاء والقدر:\n",
            "COMBINED_MODELS-MAX-1/34\n",
            "COMBINED_MODELS-FREQ-0/34\n",
            "COMBINED_MODELS-AVG-0/34\n",
            "حد المحاربة:\n",
            "COMBINED_MODELS-MAX-0/1\n",
            "COMBINED_MODELS-FREQ-0/1\n",
            "COMBINED_MODELS-AVG-0/1\n",
            "الوضوء:\n",
            "COMBINED_MODELS-MAX-2/3\n",
            "COMBINED_MODELS-FREQ-2/3\n",
            "COMBINED_MODELS-AVG-0/3\n"
          ]
        }
      ],
      "source": [
        "test_combined_models_results(data)"
      ]
    },
    {
      "cell_type": "markdown",
      "metadata": {
        "id": "8H_GxI4bAknU"
      },
      "source": [
        "## Testing all combined models and methods by `get_all_combined`"
      ]
    },
    {
      "cell_type": "code",
      "execution_count": 131,
      "metadata": {
        "id": "6c7TXLH1lUcS"
      },
      "outputs": [],
      "source": [
        "def test_all_combined(test_data):\n",
        "  for query_text, surah_verse in test_data.items():\n",
        "    print(query_text, ':', sep='')\n",
        "\n",
        "    model_results = get_all_combined(query_text)\n",
        "    model_results = [int(item[1])+1 for item in model_results]\n",
        "    test_results = fetch_api(surah_verse)\n",
        "    \n",
        "    passed = compare_us(model_results, test_results)\n",
        "    print('COMBINED_ALL', f\"{len(passed)}/{len(test_results)}\", sep='-')"
      ]
    },
    {
      "cell_type": "code",
      "execution_count": null,
      "metadata": {
        "colab": {
          "base_uri": "https://localhost:8080/"
        },
        "id": "UtyBdbqHl_cb",
        "outputId": "b9029ace-ad71-4dbe-9a4b-1f8863678bfd"
      },
      "outputs": [
        {
          "name": "stdout",
          "output_type": "stream",
          "text": [
            "الوفاء بالعهد:\n",
            "COMBINED_ALL-1/28\n",
            "التهجد وقيام الليل:\n",
            "COMBINED_ALL-8/16\n",
            "التوبة:\n",
            "COMBINED_ALL-3/28\n",
            "الصلاة وقت الحرب:\n",
            "COMBINED_ALL-2/3\n",
            "صفات المصلين:\n",
            "COMBINED_ALL-1/6\n",
            "أسماء الله الحسنى:\n",
            "COMBINED_ALL-0/4\n",
            "المجادلة بغير علم:\n",
            "COMBINED_ALL-3/3\n",
            "علوم البلاغة:\n",
            "COMBINED_ALL-2/5\n",
            "قول الزور:\n",
            "COMBINED_ALL-2/2\n",
            "صلاة الجمعة:\n",
            "COMBINED_ALL-1/1\n",
            "غزوة الحديبية وبيعة الرضوان:\n",
            "COMBINED_ALL-0/27\n",
            "الابتلاء والفتن:\n",
            "COMBINED_ALL-1/13\n",
            "سلامة القلب:\n",
            "COMBINED_ALL-0/11\n",
            "بصمات الاصابع:\n",
            "COMBINED_ALL-1/2\n",
            "ذم الجهل والجاهلين:\n",
            "COMBINED_ALL-2/4\n",
            "حول ما يدعى بالتطور:\n",
            "COMBINED_ALL-0/16\n",
            "آداب المجلس:\n",
            "COMBINED_ALL-0/3\n",
            "صلاة الخوف:\n",
            "COMBINED_ALL-0/2\n",
            "الاستذان في أوقات الخلوة:\n",
            "COMBINED_ALL-0/3\n",
            "القضاء والقدر:\n",
            "COMBINED_ALL-0/34\n",
            "حد المحاربة:\n",
            "COMBINED_ALL-0/1\n",
            "الوضوء:\n",
            "COMBINED_ALL-1/3\n"
          ]
        }
      ],
      "source": [
        "test_all_combined(data)"
      ]
    },
    {
      "cell_type": "markdown",
      "metadata": {
        "id": "P9CIbnYeDckl"
      },
      "source": [
        "## Test Pooling"
      ]
    },
    {
      "cell_type": "code",
      "execution_count": null,
      "metadata": {
        "id": "dFVOT575mSBV"
      },
      "outputs": [],
      "source": [
        "def test_pooling(test_data):\n",
        "  for query_text, surah_verse in test_data.items():\n",
        "    print(query_text, ':', sep='')\n",
        "    for model in [(model_wiki, 'WIKI'), (model_tw, 'TWITTER'), (model_ksucca, \"KSUCCA\"), (model_fasttext, \"FASTTEXT\")]:\n",
        "      print(model[1], ':', sep='')\n",
        "      for method_name, method in {'MAX': get_max_pooling_vec, 'AVG': get_avg_pooling_vec}.items():\n",
        "        model_results = get_pooling_results(query_text, model, method)\n",
        "        model_results = [int(item[1])+1 for item in model_results]\n",
        "        test_results = fetch_api(surah_verse)\n",
        "        \n",
        "        passed = compare_us(model_results, test_results)\n",
        "        print(f'{method_name}_POOLING', f\"{len(passed)}/{len(test_results)}\", sep='-')"
      ]
    },
    {
      "cell_type": "markdown",
      "metadata": {
        "id": "Yrv1tgH5sjAu"
      },
      "source": [
        "# TODOs"
      ]
    },
    {
      "cell_type": "markdown",
      "metadata": {
        "id": "VicDSDDnsnJ-"
      },
      "source": [
        "* Use tranformers (even if we don't have much knowledge with) to only compare results of this work with results of considerable transformers real sentence embedding, so our target would be to show better results with only word2vec by those maximizing techniques.\n",
        "\n",
        "  * Done in [Transformers Notebook](https://colab.research.google.com/drive/12VQljEPWzdfmUV7AxXjtHelb8lBxzRQT)."
      ]
    }
  ],
  "metadata": {
    "colab": {
      "collapsed_sections": [],
      "name": "Final of Quranic Semantic Search (AraVec + KSUCCA + FastText).ipynb",
      "provenance": [],
      "toc_visible": true
    },
    "kernelspec": {
      "display_name": "Python 3.10.4 64-bit",
      "language": "python",
      "name": "python3"
    },
    "language_info": {
      "name": "python",
      "version": "3.10.4"
    },
    "vscode": {
      "interpreter": {
        "hash": "916dbcbb3f70747c44a77c7bcd40155683ae19c65e1c03b4aa3499c5328201f1"
      }
    }
  },
  "nbformat": 4,
  "nbformat_minor": 0
}
